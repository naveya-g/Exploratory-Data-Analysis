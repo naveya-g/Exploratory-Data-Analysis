{
  "cells": [
    {
      "cell_type": "markdown",
      "metadata": {
        "id": "view-in-github",
        "colab_type": "text"
      },
      "source": [
        "<a href=\"https://colab.research.google.com/github/naveya-g/Exploratory-Data-Analysis/blob/main/Applied_statistics_project.ipynb\" target=\"_parent\"><img src=\"https://colab.research.google.com/assets/colab-badge.svg\" alt=\"Open In Colab\"/></a>"
      ]
    },
    {
      "cell_type": "code",
      "execution_count": null,
      "metadata": {
        "id": "VEzzuFFejiI3"
      },
      "outputs": [],
      "source": [
        "import numpy as np #package for mathematical and logical calculations.\n",
        "import pandas as pd # package for data structure and operations\n",
        "import matplotlib.pyplot as plt # used for data visualization\n",
        "import scipy.stats as stats # Package for scientific and mathematical computation\n",
        "import seaborn as sns # used for data visualization\n",
        "\n",
        "%matplotlib inline"
      ]
    },
    {
      "cell_type": "markdown",
      "metadata": {
        "id": "xXETe7fsMxSM"
      },
      "source": [
        "# **Sports**"
      ]
    },
    {
      "cell_type": "code",
      "execution_count": null,
      "metadata": {
        "colab": {
          "base_uri": "https://localhost:8080/"
        },
        "id": "Eqd5BYVUM18F",
        "outputId": "2e1d1239-cba8-4963-882a-616ab789951d"
      },
      "outputs": [
        {
          "name": "stdout",
          "output_type": "stream",
          "text": [
            "Drive already mounted at /content/drive; to attempt to forcibly remount, call drive.mount(\"/content/drive\", force_remount=True).\n"
          ]
        }
      ],
      "source": [
        "from google.colab import drive\n",
        "drive.mount('/content/drive')"
      ]
    },
    {
      "cell_type": "code",
      "execution_count": null,
      "metadata": {
        "colab": {
          "base_uri": "https://localhost:8080/"
        },
        "id": "f-uYyjKxkmQ7",
        "outputId": "9eb9cd63-9219-4a4b-f019-02d2e3ead673"
      },
      "outputs": [
        {
          "name": "stdout",
          "output_type": "stream",
          "text": [
            "       Team  Tournament Score PlayedGames WonGames DrawnGames LostGames  \\\n",
            "0    Team 1          86  4385        2762     1647        552       563   \n",
            "1    Team 2          86  4262        2762     1581        573       608   \n",
            "2    Team 3          80  3442        2614     1241        598       775   \n",
            "3    Team 4          82  3386        2664     1187        616       861   \n",
            "4    Team 5          86  3368        2762     1209        633       920   \n",
            "..      ...         ...   ...         ...      ...        ...       ...   \n",
            "56  Team 57           1    34          38        8         10        20   \n",
            "57  Team 58           1    22          30        7          8        15   \n",
            "58  Team 59           1    19          30        7          5        18   \n",
            "59  Team 60           1    14          30        5          4        21   \n",
            "60  Team 61           1     -           -        -          -         -   \n",
            "\n",
            "   BasketScored BasketGiven TournamentChampion Runner-up TeamLaunch  \\\n",
            "0          5947        3140                 33        23       1929   \n",
            "1          5900        3114                 25        25       1929   \n",
            "2          4534        3309                 10         8       1929   \n",
            "3          4398        3469                  6         6   1931to32   \n",
            "4          4631        3700                  8         7       1929   \n",
            "..          ...         ...                ...       ...        ...   \n",
            "56           38          66                  -         -    2009-10   \n",
            "57           37          57                  -         -    1956-57   \n",
            "58           51          85                  -         -    1951~52   \n",
            "59           34          65                  -         -    1955-56   \n",
            "60            -           -                  -         -    2017~18   \n",
            "\n",
            "    HighestPositionHeld  \n",
            "0                     1  \n",
            "1                     1  \n",
            "2                     1  \n",
            "3                     1  \n",
            "4                     1  \n",
            "..                  ...  \n",
            "56                   20  \n",
            "57                   16  \n",
            "58                   16  \n",
            "59                   15  \n",
            "60                    9  \n",
            "\n",
            "[61 rows x 13 columns]\n"
          ]
        }
      ],
      "source": [
        "s_df=pd.read_csv('/content/drive/MyDrive/Colab Notebooks/Basketball.csv')\n",
        "print(s_df)"
      ]
    },
    {
      "cell_type": "code",
      "execution_count": null,
      "metadata": {
        "colab": {
          "base_uri": "https://localhost:8080/",
          "height": 330
        },
        "id": "h10W88AWTNeU",
        "outputId": "0937bc28-c33f-44b9-9a9b-0592eb02f61b"
      },
      "outputs": [
        {
          "data": {
            "application/vnd.google.colaboratory.intrinsic+json": {
              "summary": "{\n  \"name\": \"s_df\",\n  \"rows\": 61,\n  \"fields\": [\n    {\n      \"column\": \"Team\",\n      \"properties\": {\n        \"dtype\": \"string\",\n        \"num_unique_values\": 61,\n        \"samples\": [\n          \"Team 1\",\n          \"Team 6\",\n          \"Team 47\"\n        ],\n        \"semantic_type\": \"\",\n        \"description\": \"\"\n      }\n    },\n    {\n      \"column\": \"Tournament\",\n      \"properties\": {\n        \"dtype\": \"number\",\n        \"std\": 26,\n        \"min\": 1,\n        \"max\": 86,\n        \"num_unique_values\": 33,\n        \"samples\": [\n          2,\n          33,\n          7\n        ],\n        \"semantic_type\": \"\",\n        \"description\": \"\"\n      }\n    },\n    {\n      \"column\": \"Score\",\n      \"properties\": {\n        \"dtype\": \"string\",\n        \"num_unique_values\": 61,\n        \"samples\": [\n          \"4385\",\n          \"2819\",\n          \"91\"\n        ],\n        \"semantic_type\": \"\",\n        \"description\": \"\"\n      }\n    },\n    {\n      \"column\": \"PlayedGames\",\n      \"properties\": {\n        \"dtype\": \"string\",\n        \"num_unique_values\": 53,\n        \"samples\": [\n          \"742\",\n          \"114\",\n          \"72\"\n        ],\n        \"semantic_type\": \"\",\n        \"description\": \"\"\n      }\n    },\n    {\n      \"column\": \"WonGames\",\n      \"properties\": {\n        \"dtype\": \"string\",\n        \"num_unique_values\": 59,\n        \"samples\": [\n          \"1647\",\n          \"990\",\n          \"103\"\n        ],\n        \"semantic_type\": \"\",\n        \"description\": \"\"\n      }\n    },\n    {\n      \"column\": \"DrawnGames\",\n      \"properties\": {\n        \"dtype\": \"string\",\n        \"num_unique_values\": 57,\n        \"samples\": [\n          \"552\",\n          \"531\",\n          \"102\"\n        ],\n        \"semantic_type\": \"\",\n        \"description\": \"\"\n      }\n    },\n    {\n      \"column\": \"LostGames\",\n      \"properties\": {\n        \"dtype\": \"string\",\n        \"num_unique_values\": 56,\n        \"samples\": [\n          \"563\",\n          \"887\",\n          \"118\"\n        ],\n        \"semantic_type\": \"\",\n        \"description\": \"\"\n      }\n    },\n    {\n      \"column\": \"BasketScored\",\n      \"properties\": {\n        \"dtype\": \"string\",\n        \"num_unique_values\": 60,\n        \"samples\": [\n          \"5947\",\n          \"3680\",\n          \"244\"\n        ],\n        \"semantic_type\": \"\",\n        \"description\": \"\"\n      }\n    },\n    {\n      \"column\": \"BasketGiven\",\n      \"properties\": {\n        \"dtype\": \"string\",\n        \"num_unique_values\": 61,\n        \"samples\": [\n          \"3140\",\n          \"3373\",\n          \"295\"\n        ],\n        \"semantic_type\": \"\",\n        \"description\": \"\"\n      }\n    },\n    {\n      \"column\": \"TournamentChampion\",\n      \"properties\": {\n        \"dtype\": \"category\",\n        \"num_unique_values\": 8,\n        \"samples\": [\n          \"25\",\n          \"1\",\n          \"33\"\n        ],\n        \"semantic_type\": \"\",\n        \"description\": \"\"\n      }\n    },\n    {\n      \"column\": \"Runner-up\",\n      \"properties\": {\n        \"dtype\": \"category\",\n        \"num_unique_values\": 10,\n        \"samples\": [\n          \"1\",\n          \"25\",\n          \"4\"\n        ],\n        \"semantic_type\": \"\",\n        \"description\": \"\"\n      }\n    },\n    {\n      \"column\": \"TeamLaunch\",\n      \"properties\": {\n        \"dtype\": \"string\",\n        \"num_unique_values\": 47,\n        \"samples\": [\n          \"1962-63\",\n          \"1979-80\",\n          \"2007-08\"\n        ],\n        \"semantic_type\": \"\",\n        \"description\": \"\"\n      }\n    },\n    {\n      \"column\": \"HighestPositionHeld\",\n      \"properties\": {\n        \"dtype\": \"number\",\n        \"std\": 5,\n        \"min\": 1,\n        \"max\": 20,\n        \"num_unique_values\": 18,\n        \"samples\": [\n          1,\n          3,\n          7\n        ],\n        \"semantic_type\": \"\",\n        \"description\": \"\"\n      }\n    }\n  ]\n}",
              "type": "dataframe",
              "variable_name": "s_df"
            },
            "text/html": [
              "\n",
              "  <div id=\"df-229e0d83-7bce-448a-88b1-34fdc594fea6\" class=\"colab-df-container\">\n",
              "    <div>\n",
              "<style scoped>\n",
              "    .dataframe tbody tr th:only-of-type {\n",
              "        vertical-align: middle;\n",
              "    }\n",
              "\n",
              "    .dataframe tbody tr th {\n",
              "        vertical-align: top;\n",
              "    }\n",
              "\n",
              "    .dataframe thead th {\n",
              "        text-align: right;\n",
              "    }\n",
              "</style>\n",
              "<table border=\"1\" class=\"dataframe\">\n",
              "  <thead>\n",
              "    <tr style=\"text-align: right;\">\n",
              "      <th></th>\n",
              "      <th>Team</th>\n",
              "      <th>Tournament</th>\n",
              "      <th>Score</th>\n",
              "      <th>PlayedGames</th>\n",
              "      <th>WonGames</th>\n",
              "      <th>DrawnGames</th>\n",
              "      <th>LostGames</th>\n",
              "      <th>BasketScored</th>\n",
              "      <th>BasketGiven</th>\n",
              "      <th>TournamentChampion</th>\n",
              "      <th>Runner-up</th>\n",
              "      <th>TeamLaunch</th>\n",
              "      <th>HighestPositionHeld</th>\n",
              "    </tr>\n",
              "  </thead>\n",
              "  <tbody>\n",
              "    <tr>\n",
              "      <th>0</th>\n",
              "      <td>Team 1</td>\n",
              "      <td>86</td>\n",
              "      <td>4385</td>\n",
              "      <td>2762</td>\n",
              "      <td>1647</td>\n",
              "      <td>552</td>\n",
              "      <td>563</td>\n",
              "      <td>5947</td>\n",
              "      <td>3140</td>\n",
              "      <td>33</td>\n",
              "      <td>23</td>\n",
              "      <td>1929</td>\n",
              "      <td>1</td>\n",
              "    </tr>\n",
              "    <tr>\n",
              "      <th>1</th>\n",
              "      <td>Team 2</td>\n",
              "      <td>86</td>\n",
              "      <td>4262</td>\n",
              "      <td>2762</td>\n",
              "      <td>1581</td>\n",
              "      <td>573</td>\n",
              "      <td>608</td>\n",
              "      <td>5900</td>\n",
              "      <td>3114</td>\n",
              "      <td>25</td>\n",
              "      <td>25</td>\n",
              "      <td>1929</td>\n",
              "      <td>1</td>\n",
              "    </tr>\n",
              "    <tr>\n",
              "      <th>2</th>\n",
              "      <td>Team 3</td>\n",
              "      <td>80</td>\n",
              "      <td>3442</td>\n",
              "      <td>2614</td>\n",
              "      <td>1241</td>\n",
              "      <td>598</td>\n",
              "      <td>775</td>\n",
              "      <td>4534</td>\n",
              "      <td>3309</td>\n",
              "      <td>10</td>\n",
              "      <td>8</td>\n",
              "      <td>1929</td>\n",
              "      <td>1</td>\n",
              "    </tr>\n",
              "    <tr>\n",
              "      <th>3</th>\n",
              "      <td>Team 4</td>\n",
              "      <td>82</td>\n",
              "      <td>3386</td>\n",
              "      <td>2664</td>\n",
              "      <td>1187</td>\n",
              "      <td>616</td>\n",
              "      <td>861</td>\n",
              "      <td>4398</td>\n",
              "      <td>3469</td>\n",
              "      <td>6</td>\n",
              "      <td>6</td>\n",
              "      <td>1931to32</td>\n",
              "      <td>1</td>\n",
              "    </tr>\n",
              "    <tr>\n",
              "      <th>4</th>\n",
              "      <td>Team 5</td>\n",
              "      <td>86</td>\n",
              "      <td>3368</td>\n",
              "      <td>2762</td>\n",
              "      <td>1209</td>\n",
              "      <td>633</td>\n",
              "      <td>920</td>\n",
              "      <td>4631</td>\n",
              "      <td>3700</td>\n",
              "      <td>8</td>\n",
              "      <td>7</td>\n",
              "      <td>1929</td>\n",
              "      <td>1</td>\n",
              "    </tr>\n",
              "  </tbody>\n",
              "</table>\n",
              "</div>\n",
              "    <div class=\"colab-df-buttons\">\n",
              "\n",
              "  <div class=\"colab-df-container\">\n",
              "    <button class=\"colab-df-convert\" onclick=\"convertToInteractive('df-229e0d83-7bce-448a-88b1-34fdc594fea6')\"\n",
              "            title=\"Convert this dataframe to an interactive table.\"\n",
              "            style=\"display:none;\">\n",
              "\n",
              "  <svg xmlns=\"http://www.w3.org/2000/svg\" height=\"24px\" viewBox=\"0 -960 960 960\">\n",
              "    <path d=\"M120-120v-720h720v720H120Zm60-500h600v-160H180v160Zm220 220h160v-160H400v160Zm0 220h160v-160H400v160ZM180-400h160v-160H180v160Zm440 0h160v-160H620v160ZM180-180h160v-160H180v160Zm440 0h160v-160H620v160Z\"/>\n",
              "  </svg>\n",
              "    </button>\n",
              "\n",
              "  <style>\n",
              "    .colab-df-container {\n",
              "      display:flex;\n",
              "      gap: 12px;\n",
              "    }\n",
              "\n",
              "    .colab-df-convert {\n",
              "      background-color: #E8F0FE;\n",
              "      border: none;\n",
              "      border-radius: 50%;\n",
              "      cursor: pointer;\n",
              "      display: none;\n",
              "      fill: #1967D2;\n",
              "      height: 32px;\n",
              "      padding: 0 0 0 0;\n",
              "      width: 32px;\n",
              "    }\n",
              "\n",
              "    .colab-df-convert:hover {\n",
              "      background-color: #E2EBFA;\n",
              "      box-shadow: 0px 1px 2px rgba(60, 64, 67, 0.3), 0px 1px 3px 1px rgba(60, 64, 67, 0.15);\n",
              "      fill: #174EA6;\n",
              "    }\n",
              "\n",
              "    .colab-df-buttons div {\n",
              "      margin-bottom: 4px;\n",
              "    }\n",
              "\n",
              "    [theme=dark] .colab-df-convert {\n",
              "      background-color: #3B4455;\n",
              "      fill: #D2E3FC;\n",
              "    }\n",
              "\n",
              "    [theme=dark] .colab-df-convert:hover {\n",
              "      background-color: #434B5C;\n",
              "      box-shadow: 0px 1px 3px 1px rgba(0, 0, 0, 0.15);\n",
              "      filter: drop-shadow(0px 1px 2px rgba(0, 0, 0, 0.3));\n",
              "      fill: #FFFFFF;\n",
              "    }\n",
              "  </style>\n",
              "\n",
              "    <script>\n",
              "      const buttonEl =\n",
              "        document.querySelector('#df-229e0d83-7bce-448a-88b1-34fdc594fea6 button.colab-df-convert');\n",
              "      buttonEl.style.display =\n",
              "        google.colab.kernel.accessAllowed ? 'block' : 'none';\n",
              "\n",
              "      async function convertToInteractive(key) {\n",
              "        const element = document.querySelector('#df-229e0d83-7bce-448a-88b1-34fdc594fea6');\n",
              "        const dataTable =\n",
              "          await google.colab.kernel.invokeFunction('convertToInteractive',\n",
              "                                                    [key], {});\n",
              "        if (!dataTable) return;\n",
              "\n",
              "        const docLinkHtml = 'Like what you see? Visit the ' +\n",
              "          '<a target=\"_blank\" href=https://colab.research.google.com/notebooks/data_table.ipynb>data table notebook</a>'\n",
              "          + ' to learn more about interactive tables.';\n",
              "        element.innerHTML = '';\n",
              "        dataTable['output_type'] = 'display_data';\n",
              "        await google.colab.output.renderOutput(dataTable, element);\n",
              "        const docLink = document.createElement('div');\n",
              "        docLink.innerHTML = docLinkHtml;\n",
              "        element.appendChild(docLink);\n",
              "      }\n",
              "    </script>\n",
              "  </div>\n",
              "\n",
              "\n",
              "<div id=\"df-d33644c0-4423-422f-80a4-562eaac790e7\">\n",
              "  <button class=\"colab-df-quickchart\" onclick=\"quickchart('df-d33644c0-4423-422f-80a4-562eaac790e7')\"\n",
              "            title=\"Suggest charts\"\n",
              "            style=\"display:none;\">\n",
              "\n",
              "<svg xmlns=\"http://www.w3.org/2000/svg\" height=\"24px\"viewBox=\"0 0 24 24\"\n",
              "     width=\"24px\">\n",
              "    <g>\n",
              "        <path d=\"M19 3H5c-1.1 0-2 .9-2 2v14c0 1.1.9 2 2 2h14c1.1 0 2-.9 2-2V5c0-1.1-.9-2-2-2zM9 17H7v-7h2v7zm4 0h-2V7h2v10zm4 0h-2v-4h2v4z\"/>\n",
              "    </g>\n",
              "</svg>\n",
              "  </button>\n",
              "\n",
              "<style>\n",
              "  .colab-df-quickchart {\n",
              "      --bg-color: #E8F0FE;\n",
              "      --fill-color: #1967D2;\n",
              "      --hover-bg-color: #E2EBFA;\n",
              "      --hover-fill-color: #174EA6;\n",
              "      --disabled-fill-color: #AAA;\n",
              "      --disabled-bg-color: #DDD;\n",
              "  }\n",
              "\n",
              "  [theme=dark] .colab-df-quickchart {\n",
              "      --bg-color: #3B4455;\n",
              "      --fill-color: #D2E3FC;\n",
              "      --hover-bg-color: #434B5C;\n",
              "      --hover-fill-color: #FFFFFF;\n",
              "      --disabled-bg-color: #3B4455;\n",
              "      --disabled-fill-color: #666;\n",
              "  }\n",
              "\n",
              "  .colab-df-quickchart {\n",
              "    background-color: var(--bg-color);\n",
              "    border: none;\n",
              "    border-radius: 50%;\n",
              "    cursor: pointer;\n",
              "    display: none;\n",
              "    fill: var(--fill-color);\n",
              "    height: 32px;\n",
              "    padding: 0;\n",
              "    width: 32px;\n",
              "  }\n",
              "\n",
              "  .colab-df-quickchart:hover {\n",
              "    background-color: var(--hover-bg-color);\n",
              "    box-shadow: 0 1px 2px rgba(60, 64, 67, 0.3), 0 1px 3px 1px rgba(60, 64, 67, 0.15);\n",
              "    fill: var(--button-hover-fill-color);\n",
              "  }\n",
              "\n",
              "  .colab-df-quickchart-complete:disabled,\n",
              "  .colab-df-quickchart-complete:disabled:hover {\n",
              "    background-color: var(--disabled-bg-color);\n",
              "    fill: var(--disabled-fill-color);\n",
              "    box-shadow: none;\n",
              "  }\n",
              "\n",
              "  .colab-df-spinner {\n",
              "    border: 2px solid var(--fill-color);\n",
              "    border-color: transparent;\n",
              "    border-bottom-color: var(--fill-color);\n",
              "    animation:\n",
              "      spin 1s steps(1) infinite;\n",
              "  }\n",
              "\n",
              "  @keyframes spin {\n",
              "    0% {\n",
              "      border-color: transparent;\n",
              "      border-bottom-color: var(--fill-color);\n",
              "      border-left-color: var(--fill-color);\n",
              "    }\n",
              "    20% {\n",
              "      border-color: transparent;\n",
              "      border-left-color: var(--fill-color);\n",
              "      border-top-color: var(--fill-color);\n",
              "    }\n",
              "    30% {\n",
              "      border-color: transparent;\n",
              "      border-left-color: var(--fill-color);\n",
              "      border-top-color: var(--fill-color);\n",
              "      border-right-color: var(--fill-color);\n",
              "    }\n",
              "    40% {\n",
              "      border-color: transparent;\n",
              "      border-right-color: var(--fill-color);\n",
              "      border-top-color: var(--fill-color);\n",
              "    }\n",
              "    60% {\n",
              "      border-color: transparent;\n",
              "      border-right-color: var(--fill-color);\n",
              "    }\n",
              "    80% {\n",
              "      border-color: transparent;\n",
              "      border-right-color: var(--fill-color);\n",
              "      border-bottom-color: var(--fill-color);\n",
              "    }\n",
              "    90% {\n",
              "      border-color: transparent;\n",
              "      border-bottom-color: var(--fill-color);\n",
              "    }\n",
              "  }\n",
              "</style>\n",
              "\n",
              "  <script>\n",
              "    async function quickchart(key) {\n",
              "      const quickchartButtonEl =\n",
              "        document.querySelector('#' + key + ' button');\n",
              "      quickchartButtonEl.disabled = true;  // To prevent multiple clicks.\n",
              "      quickchartButtonEl.classList.add('colab-df-spinner');\n",
              "      try {\n",
              "        const charts = await google.colab.kernel.invokeFunction(\n",
              "            'suggestCharts', [key], {});\n",
              "      } catch (error) {\n",
              "        console.error('Error during call to suggestCharts:', error);\n",
              "      }\n",
              "      quickchartButtonEl.classList.remove('colab-df-spinner');\n",
              "      quickchartButtonEl.classList.add('colab-df-quickchart-complete');\n",
              "    }\n",
              "    (() => {\n",
              "      let quickchartButtonEl =\n",
              "        document.querySelector('#df-d33644c0-4423-422f-80a4-562eaac790e7 button');\n",
              "      quickchartButtonEl.style.display =\n",
              "        google.colab.kernel.accessAllowed ? 'block' : 'none';\n",
              "    })();\n",
              "  </script>\n",
              "</div>\n",
              "\n",
              "    </div>\n",
              "  </div>\n"
            ],
            "text/plain": [
              "     Team  Tournament Score PlayedGames WonGames DrawnGames LostGames  \\\n",
              "0  Team 1          86  4385        2762     1647        552       563   \n",
              "1  Team 2          86  4262        2762     1581        573       608   \n",
              "2  Team 3          80  3442        2614     1241        598       775   \n",
              "3  Team 4          82  3386        2664     1187        616       861   \n",
              "4  Team 5          86  3368        2762     1209        633       920   \n",
              "\n",
              "  BasketScored BasketGiven TournamentChampion Runner-up TeamLaunch  \\\n",
              "0         5947        3140                 33        23       1929   \n",
              "1         5900        3114                 25        25       1929   \n",
              "2         4534        3309                 10         8       1929   \n",
              "3         4398        3469                  6         6   1931to32   \n",
              "4         4631        3700                  8         7       1929   \n",
              "\n",
              "   HighestPositionHeld  \n",
              "0                    1  \n",
              "1                    1  \n",
              "2                    1  \n",
              "3                    1  \n",
              "4                    1  "
            ]
          },
          "execution_count": 991,
          "metadata": {},
          "output_type": "execute_result"
        }
      ],
      "source": [
        "s_df.head() #first 5rows"
      ]
    },
    {
      "cell_type": "code",
      "execution_count": null,
      "metadata": {
        "colab": {
          "base_uri": "https://localhost:8080/",
          "height": 330
        },
        "id": "zdQg5vEZTRnw",
        "outputId": "bf3251c7-b3eb-4cf9-b7a7-40e86b8f244c"
      },
      "outputs": [
        {
          "data": {
            "application/vnd.google.colaboratory.intrinsic+json": {
              "summary": "{\n  \"name\": \"s_df\",\n  \"rows\": 5,\n  \"fields\": [\n    {\n      \"column\": \"Team\",\n      \"properties\": {\n        \"dtype\": \"string\",\n        \"num_unique_values\": 5,\n        \"samples\": [\n          \"Team 58\",\n          \"Team 61\",\n          \"Team 59\"\n        ],\n        \"semantic_type\": \"\",\n        \"description\": \"\"\n      }\n    },\n    {\n      \"column\": \"Tournament\",\n      \"properties\": {\n        \"dtype\": \"number\",\n        \"std\": 0,\n        \"min\": 1,\n        \"max\": 1,\n        \"num_unique_values\": 1,\n        \"samples\": [\n          1\n        ],\n        \"semantic_type\": \"\",\n        \"description\": \"\"\n      }\n    },\n    {\n      \"column\": \"Score\",\n      \"properties\": {\n        \"dtype\": \"string\",\n        \"num_unique_values\": 5,\n        \"samples\": [\n          \"22\"\n        ],\n        \"semantic_type\": \"\",\n        \"description\": \"\"\n      }\n    },\n    {\n      \"column\": \"PlayedGames\",\n      \"properties\": {\n        \"dtype\": \"string\",\n        \"num_unique_values\": 3,\n        \"samples\": [\n          \"38\"\n        ],\n        \"semantic_type\": \"\",\n        \"description\": \"\"\n      }\n    },\n    {\n      \"column\": \"WonGames\",\n      \"properties\": {\n        \"dtype\": \"string\",\n        \"num_unique_values\": 4,\n        \"samples\": [\n          \"7\"\n        ],\n        \"semantic_type\": \"\",\n        \"description\": \"\"\n      }\n    },\n    {\n      \"column\": \"DrawnGames\",\n      \"properties\": {\n        \"dtype\": \"string\",\n        \"num_unique_values\": 5,\n        \"samples\": [\n          \"8\"\n        ],\n        \"semantic_type\": \"\",\n        \"description\": \"\"\n      }\n    },\n    {\n      \"column\": \"LostGames\",\n      \"properties\": {\n        \"dtype\": \"string\",\n        \"num_unique_values\": 5,\n        \"samples\": [\n          \"15\"\n        ],\n        \"semantic_type\": \"\",\n        \"description\": \"\"\n      }\n    },\n    {\n      \"column\": \"BasketScored\",\n      \"properties\": {\n        \"dtype\": \"string\",\n        \"num_unique_values\": 5,\n        \"samples\": [\n          \"37\"\n        ],\n        \"semantic_type\": \"\",\n        \"description\": \"\"\n      }\n    },\n    {\n      \"column\": \"BasketGiven\",\n      \"properties\": {\n        \"dtype\": \"string\",\n        \"num_unique_values\": 5,\n        \"samples\": [\n          \"57\"\n        ],\n        \"semantic_type\": \"\",\n        \"description\": \"\"\n      }\n    },\n    {\n      \"column\": \"TournamentChampion\",\n      \"properties\": {\n        \"dtype\": \"category\",\n        \"num_unique_values\": 1,\n        \"samples\": [\n          \"-\"\n        ],\n        \"semantic_type\": \"\",\n        \"description\": \"\"\n      }\n    },\n    {\n      \"column\": \"Runner-up\",\n      \"properties\": {\n        \"dtype\": \"category\",\n        \"num_unique_values\": 1,\n        \"samples\": [\n          \"-\"\n        ],\n        \"semantic_type\": \"\",\n        \"description\": \"\"\n      }\n    },\n    {\n      \"column\": \"TeamLaunch\",\n      \"properties\": {\n        \"dtype\": \"string\",\n        \"num_unique_values\": 5,\n        \"samples\": [\n          \"1956-57\"\n        ],\n        \"semantic_type\": \"\",\n        \"description\": \"\"\n      }\n    },\n    {\n      \"column\": \"HighestPositionHeld\",\n      \"properties\": {\n        \"dtype\": \"number\",\n        \"std\": 3,\n        \"min\": 9,\n        \"max\": 20,\n        \"num_unique_values\": 4,\n        \"samples\": [\n          16\n        ],\n        \"semantic_type\": \"\",\n        \"description\": \"\"\n      }\n    }\n  ]\n}",
              "type": "dataframe"
            },
            "text/html": [
              "\n",
              "  <div id=\"df-d141e238-0e07-4b74-ba96-8e28d9d3a0d1\" class=\"colab-df-container\">\n",
              "    <div>\n",
              "<style scoped>\n",
              "    .dataframe tbody tr th:only-of-type {\n",
              "        vertical-align: middle;\n",
              "    }\n",
              "\n",
              "    .dataframe tbody tr th {\n",
              "        vertical-align: top;\n",
              "    }\n",
              "\n",
              "    .dataframe thead th {\n",
              "        text-align: right;\n",
              "    }\n",
              "</style>\n",
              "<table border=\"1\" class=\"dataframe\">\n",
              "  <thead>\n",
              "    <tr style=\"text-align: right;\">\n",
              "      <th></th>\n",
              "      <th>Team</th>\n",
              "      <th>Tournament</th>\n",
              "      <th>Score</th>\n",
              "      <th>PlayedGames</th>\n",
              "      <th>WonGames</th>\n",
              "      <th>DrawnGames</th>\n",
              "      <th>LostGames</th>\n",
              "      <th>BasketScored</th>\n",
              "      <th>BasketGiven</th>\n",
              "      <th>TournamentChampion</th>\n",
              "      <th>Runner-up</th>\n",
              "      <th>TeamLaunch</th>\n",
              "      <th>HighestPositionHeld</th>\n",
              "    </tr>\n",
              "  </thead>\n",
              "  <tbody>\n",
              "    <tr>\n",
              "      <th>56</th>\n",
              "      <td>Team 57</td>\n",
              "      <td>1</td>\n",
              "      <td>34</td>\n",
              "      <td>38</td>\n",
              "      <td>8</td>\n",
              "      <td>10</td>\n",
              "      <td>20</td>\n",
              "      <td>38</td>\n",
              "      <td>66</td>\n",
              "      <td>-</td>\n",
              "      <td>-</td>\n",
              "      <td>2009-10</td>\n",
              "      <td>20</td>\n",
              "    </tr>\n",
              "    <tr>\n",
              "      <th>57</th>\n",
              "      <td>Team 58</td>\n",
              "      <td>1</td>\n",
              "      <td>22</td>\n",
              "      <td>30</td>\n",
              "      <td>7</td>\n",
              "      <td>8</td>\n",
              "      <td>15</td>\n",
              "      <td>37</td>\n",
              "      <td>57</td>\n",
              "      <td>-</td>\n",
              "      <td>-</td>\n",
              "      <td>1956-57</td>\n",
              "      <td>16</td>\n",
              "    </tr>\n",
              "    <tr>\n",
              "      <th>58</th>\n",
              "      <td>Team 59</td>\n",
              "      <td>1</td>\n",
              "      <td>19</td>\n",
              "      <td>30</td>\n",
              "      <td>7</td>\n",
              "      <td>5</td>\n",
              "      <td>18</td>\n",
              "      <td>51</td>\n",
              "      <td>85</td>\n",
              "      <td>-</td>\n",
              "      <td>-</td>\n",
              "      <td>1951~52</td>\n",
              "      <td>16</td>\n",
              "    </tr>\n",
              "    <tr>\n",
              "      <th>59</th>\n",
              "      <td>Team 60</td>\n",
              "      <td>1</td>\n",
              "      <td>14</td>\n",
              "      <td>30</td>\n",
              "      <td>5</td>\n",
              "      <td>4</td>\n",
              "      <td>21</td>\n",
              "      <td>34</td>\n",
              "      <td>65</td>\n",
              "      <td>-</td>\n",
              "      <td>-</td>\n",
              "      <td>1955-56</td>\n",
              "      <td>15</td>\n",
              "    </tr>\n",
              "    <tr>\n",
              "      <th>60</th>\n",
              "      <td>Team 61</td>\n",
              "      <td>1</td>\n",
              "      <td>-</td>\n",
              "      <td>-</td>\n",
              "      <td>-</td>\n",
              "      <td>-</td>\n",
              "      <td>-</td>\n",
              "      <td>-</td>\n",
              "      <td>-</td>\n",
              "      <td>-</td>\n",
              "      <td>-</td>\n",
              "      <td>2017~18</td>\n",
              "      <td>9</td>\n",
              "    </tr>\n",
              "  </tbody>\n",
              "</table>\n",
              "</div>\n",
              "    <div class=\"colab-df-buttons\">\n",
              "\n",
              "  <div class=\"colab-df-container\">\n",
              "    <button class=\"colab-df-convert\" onclick=\"convertToInteractive('df-d141e238-0e07-4b74-ba96-8e28d9d3a0d1')\"\n",
              "            title=\"Convert this dataframe to an interactive table.\"\n",
              "            style=\"display:none;\">\n",
              "\n",
              "  <svg xmlns=\"http://www.w3.org/2000/svg\" height=\"24px\" viewBox=\"0 -960 960 960\">\n",
              "    <path d=\"M120-120v-720h720v720H120Zm60-500h600v-160H180v160Zm220 220h160v-160H400v160Zm0 220h160v-160H400v160ZM180-400h160v-160H180v160Zm440 0h160v-160H620v160ZM180-180h160v-160H180v160Zm440 0h160v-160H620v160Z\"/>\n",
              "  </svg>\n",
              "    </button>\n",
              "\n",
              "  <style>\n",
              "    .colab-df-container {\n",
              "      display:flex;\n",
              "      gap: 12px;\n",
              "    }\n",
              "\n",
              "    .colab-df-convert {\n",
              "      background-color: #E8F0FE;\n",
              "      border: none;\n",
              "      border-radius: 50%;\n",
              "      cursor: pointer;\n",
              "      display: none;\n",
              "      fill: #1967D2;\n",
              "      height: 32px;\n",
              "      padding: 0 0 0 0;\n",
              "      width: 32px;\n",
              "    }\n",
              "\n",
              "    .colab-df-convert:hover {\n",
              "      background-color: #E2EBFA;\n",
              "      box-shadow: 0px 1px 2px rgba(60, 64, 67, 0.3), 0px 1px 3px 1px rgba(60, 64, 67, 0.15);\n",
              "      fill: #174EA6;\n",
              "    }\n",
              "\n",
              "    .colab-df-buttons div {\n",
              "      margin-bottom: 4px;\n",
              "    }\n",
              "\n",
              "    [theme=dark] .colab-df-convert {\n",
              "      background-color: #3B4455;\n",
              "      fill: #D2E3FC;\n",
              "    }\n",
              "\n",
              "    [theme=dark] .colab-df-convert:hover {\n",
              "      background-color: #434B5C;\n",
              "      box-shadow: 0px 1px 3px 1px rgba(0, 0, 0, 0.15);\n",
              "      filter: drop-shadow(0px 1px 2px rgba(0, 0, 0, 0.3));\n",
              "      fill: #FFFFFF;\n",
              "    }\n",
              "  </style>\n",
              "\n",
              "    <script>\n",
              "      const buttonEl =\n",
              "        document.querySelector('#df-d141e238-0e07-4b74-ba96-8e28d9d3a0d1 button.colab-df-convert');\n",
              "      buttonEl.style.display =\n",
              "        google.colab.kernel.accessAllowed ? 'block' : 'none';\n",
              "\n",
              "      async function convertToInteractive(key) {\n",
              "        const element = document.querySelector('#df-d141e238-0e07-4b74-ba96-8e28d9d3a0d1');\n",
              "        const dataTable =\n",
              "          await google.colab.kernel.invokeFunction('convertToInteractive',\n",
              "                                                    [key], {});\n",
              "        if (!dataTable) return;\n",
              "\n",
              "        const docLinkHtml = 'Like what you see? Visit the ' +\n",
              "          '<a target=\"_blank\" href=https://colab.research.google.com/notebooks/data_table.ipynb>data table notebook</a>'\n",
              "          + ' to learn more about interactive tables.';\n",
              "        element.innerHTML = '';\n",
              "        dataTable['output_type'] = 'display_data';\n",
              "        await google.colab.output.renderOutput(dataTable, element);\n",
              "        const docLink = document.createElement('div');\n",
              "        docLink.innerHTML = docLinkHtml;\n",
              "        element.appendChild(docLink);\n",
              "      }\n",
              "    </script>\n",
              "  </div>\n",
              "\n",
              "\n",
              "<div id=\"df-1bf6e262-46cb-40ce-aa13-6f77189412b7\">\n",
              "  <button class=\"colab-df-quickchart\" onclick=\"quickchart('df-1bf6e262-46cb-40ce-aa13-6f77189412b7')\"\n",
              "            title=\"Suggest charts\"\n",
              "            style=\"display:none;\">\n",
              "\n",
              "<svg xmlns=\"http://www.w3.org/2000/svg\" height=\"24px\"viewBox=\"0 0 24 24\"\n",
              "     width=\"24px\">\n",
              "    <g>\n",
              "        <path d=\"M19 3H5c-1.1 0-2 .9-2 2v14c0 1.1.9 2 2 2h14c1.1 0 2-.9 2-2V5c0-1.1-.9-2-2-2zM9 17H7v-7h2v7zm4 0h-2V7h2v10zm4 0h-2v-4h2v4z\"/>\n",
              "    </g>\n",
              "</svg>\n",
              "  </button>\n",
              "\n",
              "<style>\n",
              "  .colab-df-quickchart {\n",
              "      --bg-color: #E8F0FE;\n",
              "      --fill-color: #1967D2;\n",
              "      --hover-bg-color: #E2EBFA;\n",
              "      --hover-fill-color: #174EA6;\n",
              "      --disabled-fill-color: #AAA;\n",
              "      --disabled-bg-color: #DDD;\n",
              "  }\n",
              "\n",
              "  [theme=dark] .colab-df-quickchart {\n",
              "      --bg-color: #3B4455;\n",
              "      --fill-color: #D2E3FC;\n",
              "      --hover-bg-color: #434B5C;\n",
              "      --hover-fill-color: #FFFFFF;\n",
              "      --disabled-bg-color: #3B4455;\n",
              "      --disabled-fill-color: #666;\n",
              "  }\n",
              "\n",
              "  .colab-df-quickchart {\n",
              "    background-color: var(--bg-color);\n",
              "    border: none;\n",
              "    border-radius: 50%;\n",
              "    cursor: pointer;\n",
              "    display: none;\n",
              "    fill: var(--fill-color);\n",
              "    height: 32px;\n",
              "    padding: 0;\n",
              "    width: 32px;\n",
              "  }\n",
              "\n",
              "  .colab-df-quickchart:hover {\n",
              "    background-color: var(--hover-bg-color);\n",
              "    box-shadow: 0 1px 2px rgba(60, 64, 67, 0.3), 0 1px 3px 1px rgba(60, 64, 67, 0.15);\n",
              "    fill: var(--button-hover-fill-color);\n",
              "  }\n",
              "\n",
              "  .colab-df-quickchart-complete:disabled,\n",
              "  .colab-df-quickchart-complete:disabled:hover {\n",
              "    background-color: var(--disabled-bg-color);\n",
              "    fill: var(--disabled-fill-color);\n",
              "    box-shadow: none;\n",
              "  }\n",
              "\n",
              "  .colab-df-spinner {\n",
              "    border: 2px solid var(--fill-color);\n",
              "    border-color: transparent;\n",
              "    border-bottom-color: var(--fill-color);\n",
              "    animation:\n",
              "      spin 1s steps(1) infinite;\n",
              "  }\n",
              "\n",
              "  @keyframes spin {\n",
              "    0% {\n",
              "      border-color: transparent;\n",
              "      border-bottom-color: var(--fill-color);\n",
              "      border-left-color: var(--fill-color);\n",
              "    }\n",
              "    20% {\n",
              "      border-color: transparent;\n",
              "      border-left-color: var(--fill-color);\n",
              "      border-top-color: var(--fill-color);\n",
              "    }\n",
              "    30% {\n",
              "      border-color: transparent;\n",
              "      border-left-color: var(--fill-color);\n",
              "      border-top-color: var(--fill-color);\n",
              "      border-right-color: var(--fill-color);\n",
              "    }\n",
              "    40% {\n",
              "      border-color: transparent;\n",
              "      border-right-color: var(--fill-color);\n",
              "      border-top-color: var(--fill-color);\n",
              "    }\n",
              "    60% {\n",
              "      border-color: transparent;\n",
              "      border-right-color: var(--fill-color);\n",
              "    }\n",
              "    80% {\n",
              "      border-color: transparent;\n",
              "      border-right-color: var(--fill-color);\n",
              "      border-bottom-color: var(--fill-color);\n",
              "    }\n",
              "    90% {\n",
              "      border-color: transparent;\n",
              "      border-bottom-color: var(--fill-color);\n",
              "    }\n",
              "  }\n",
              "</style>\n",
              "\n",
              "  <script>\n",
              "    async function quickchart(key) {\n",
              "      const quickchartButtonEl =\n",
              "        document.querySelector('#' + key + ' button');\n",
              "      quickchartButtonEl.disabled = true;  // To prevent multiple clicks.\n",
              "      quickchartButtonEl.classList.add('colab-df-spinner');\n",
              "      try {\n",
              "        const charts = await google.colab.kernel.invokeFunction(\n",
              "            'suggestCharts', [key], {});\n",
              "      } catch (error) {\n",
              "        console.error('Error during call to suggestCharts:', error);\n",
              "      }\n",
              "      quickchartButtonEl.classList.remove('colab-df-spinner');\n",
              "      quickchartButtonEl.classList.add('colab-df-quickchart-complete');\n",
              "    }\n",
              "    (() => {\n",
              "      let quickchartButtonEl =\n",
              "        document.querySelector('#df-1bf6e262-46cb-40ce-aa13-6f77189412b7 button');\n",
              "      quickchartButtonEl.style.display =\n",
              "        google.colab.kernel.accessAllowed ? 'block' : 'none';\n",
              "    })();\n",
              "  </script>\n",
              "</div>\n",
              "\n",
              "    </div>\n",
              "  </div>\n"
            ],
            "text/plain": [
              "       Team  Tournament Score PlayedGames WonGames DrawnGames LostGames  \\\n",
              "56  Team 57           1    34          38        8         10        20   \n",
              "57  Team 58           1    22          30        7          8        15   \n",
              "58  Team 59           1    19          30        7          5        18   \n",
              "59  Team 60           1    14          30        5          4        21   \n",
              "60  Team 61           1     -           -        -          -         -   \n",
              "\n",
              "   BasketScored BasketGiven TournamentChampion Runner-up TeamLaunch  \\\n",
              "56           38          66                  -         -    2009-10   \n",
              "57           37          57                  -         -    1956-57   \n",
              "58           51          85                  -         -    1951~52   \n",
              "59           34          65                  -         -    1955-56   \n",
              "60            -           -                  -         -    2017~18   \n",
              "\n",
              "    HighestPositionHeld  \n",
              "56                   20  \n",
              "57                   16  \n",
              "58                   16  \n",
              "59                   15  \n",
              "60                    9  "
            ]
          },
          "execution_count": 992,
          "metadata": {},
          "output_type": "execute_result"
        }
      ],
      "source": [
        "s_df.tail() # last 5 rows"
      ]
    },
    {
      "cell_type": "code",
      "execution_count": null,
      "metadata": {
        "colab": {
          "base_uri": "https://localhost:8080/"
        },
        "id": "_US-zSu-TVgI",
        "outputId": "4227ce3a-0c35-409e-f131-a3a8a1af1659"
      },
      "outputs": [
        {
          "data": {
            "text/plain": [
              "(61, 13)"
            ]
          },
          "execution_count": 993,
          "metadata": {},
          "output_type": "execute_result"
        }
      ],
      "source": [
        "s_df.shape # getting number of rows and columns"
      ]
    },
    {
      "cell_type": "code",
      "execution_count": null,
      "metadata": {
        "colab": {
          "base_uri": "https://localhost:8080/"
        },
        "id": "6k5dPp4oTZ6f",
        "outputId": "8d8f76ec-f4d5-42b9-bb1e-0ef2a8afdfd9"
      },
      "outputs": [
        {
          "name": "stdout",
          "output_type": "stream",
          "text": [
            "<class 'pandas.core.frame.DataFrame'>\n",
            "RangeIndex: 61 entries, 0 to 60\n",
            "Data columns (total 13 columns):\n",
            " #   Column               Non-Null Count  Dtype \n",
            "---  ------               --------------  ----- \n",
            " 0   Team                 61 non-null     object\n",
            " 1   Tournament           61 non-null     int64 \n",
            " 2   Score                61 non-null     object\n",
            " 3   PlayedGames          61 non-null     object\n",
            " 4   WonGames             61 non-null     object\n",
            " 5   DrawnGames           61 non-null     object\n",
            " 6   LostGames            61 non-null     object\n",
            " 7   BasketScored         61 non-null     object\n",
            " 8   BasketGiven          61 non-null     object\n",
            " 9   TournamentChampion   61 non-null     object\n",
            " 10  Runner-up            61 non-null     object\n",
            " 11  TeamLaunch           61 non-null     object\n",
            " 12  HighestPositionHeld  61 non-null     int64 \n",
            "dtypes: int64(2), object(11)\n",
            "memory usage: 6.3+ KB\n"
          ]
        }
      ],
      "source": [
        "s_df.info() # finding the datatype for each attribute"
      ]
    },
    {
      "cell_type": "code",
      "execution_count": null,
      "metadata": {
        "colab": {
          "base_uri": "https://localhost:8080/"
        },
        "id": "Vg44XM6dUHCm",
        "outputId": "2c77c19e-9f6f-4a35-e93b-6bf2e4d6baad"
      },
      "outputs": [
        {
          "data": {
            "text/plain": [
              "Team                   0\n",
              "Tournament             0\n",
              "Score                  0\n",
              "PlayedGames            0\n",
              "WonGames               0\n",
              "DrawnGames             0\n",
              "LostGames              0\n",
              "BasketScored           0\n",
              "BasketGiven            0\n",
              "TournamentChampion     0\n",
              "Runner-up              0\n",
              "TeamLaunch             0\n",
              "HighestPositionHeld    0\n",
              "dtype: int64"
            ]
          },
          "execution_count": 995,
          "metadata": {},
          "output_type": "execute_result"
        }
      ],
      "source": [
        "s_df.isnull().sum() # checking for null values"
      ]
    },
    {
      "cell_type": "code",
      "execution_count": null,
      "metadata": {
        "id": "F5dYrvYVgyjB"
      },
      "outputs": [],
      "source": [
        "#checking for '-' and replacing with NaN\n",
        "s_df.replace('-', np.NaN, inplace=True)"
      ]
    },
    {
      "cell_type": "code",
      "execution_count": null,
      "metadata": {
        "colab": {
          "base_uri": "https://localhost:8080/"
        },
        "id": "dtLf96DQVrUx",
        "outputId": "84618bd8-47ba-45e3-cd43-9a492c676989"
      },
      "outputs": [
        {
          "data": {
            "text/plain": [
              "Index(['Team', 'Tournament', 'Score', 'PlayedGames', 'WonGames', 'DrawnGames',\n",
              "       'LostGames', 'BasketScored', 'BasketGiven', 'TournamentChampion',\n",
              "       'Runner-up', 'TeamLaunch', 'HighestPositionHeld'],\n",
              "      dtype='object')"
            ]
          },
          "execution_count": 997,
          "metadata": {},
          "output_type": "execute_result"
        }
      ],
      "source": [
        "#since the ds_df.info shows except column 2 and 11 every column is object, to perform EDA. Convert object to float type\n",
        "#first check for columns that are of object type\n",
        "s_df.columns"
      ]
    },
    {
      "cell_type": "code",
      "execution_count": null,
      "metadata": {
        "id": "ySAk_BBHThsi"
      },
      "outputs": [],
      "source": [
        "column=['Tournament', 'Score', 'PlayedGames', 'WonGames', 'DrawnGames',\n",
        "       'LostGames', 'BasketScored', 'BasketGiven', 'TournamentChampion',\n",
        "       'Runner-up']"
      ]
    },
    {
      "cell_type": "code",
      "execution_count": null,
      "metadata": {
        "id": "DWVSHqg7hf5K"
      },
      "outputs": [],
      "source": [
        "#convert the columns from object to float type\n",
        "s_df[column]=s_df[column].astype(float)"
      ]
    },
    {
      "cell_type": "code",
      "execution_count": null,
      "metadata": {
        "colab": {
          "base_uri": "https://localhost:8080/"
        },
        "id": "3dtj2LfkiFr2",
        "outputId": "9e885529-b3e0-4a93-c918-82533497daed"
      },
      "outputs": [
        {
          "name": "stdout",
          "output_type": "stream",
          "text": [
            "<class 'pandas.core.frame.DataFrame'>\n",
            "RangeIndex: 61 entries, 0 to 60\n",
            "Data columns (total 13 columns):\n",
            " #   Column               Non-Null Count  Dtype  \n",
            "---  ------               --------------  -----  \n",
            " 0   Team                 61 non-null     object \n",
            " 1   Tournament           61 non-null     float64\n",
            " 2   Score                60 non-null     float64\n",
            " 3   PlayedGames          60 non-null     float64\n",
            " 4   WonGames             60 non-null     float64\n",
            " 5   DrawnGames           60 non-null     float64\n",
            " 6   LostGames            60 non-null     float64\n",
            " 7   BasketScored         60 non-null     float64\n",
            " 8   BasketGiven          60 non-null     float64\n",
            " 9   TournamentChampion   9 non-null      float64\n",
            " 10  Runner-up            13 non-null     float64\n",
            " 11  TeamLaunch           61 non-null     object \n",
            " 12  HighestPositionHeld  61 non-null     int64  \n",
            "dtypes: float64(10), int64(1), object(2)\n",
            "memory usage: 6.3+ KB\n"
          ]
        }
      ],
      "source": [
        "#checking for info after converting from object to float datatype\n",
        "s_df.info()"
      ]
    },
    {
      "cell_type": "code",
      "execution_count": null,
      "metadata": {
        "id": "dSz8VssTiYLz"
      },
      "outputs": [],
      "source": [
        "#extracting only the year of launch of the teams as the data is redundant\n",
        "s_df['TeamLaunch']= s_df['TeamLaunch'].apply(lambda x: str (x)[0:4])"
      ]
    },
    {
      "cell_type": "code",
      "execution_count": null,
      "metadata": {
        "colab": {
          "base_uri": "https://localhost:8080/"
        },
        "id": "m105cn5qjLZL",
        "outputId": "292ff60d-93ac-4056-8f3f-56a23e3b6d52"
      },
      "outputs": [
        {
          "data": {
            "text/plain": [
              "8     1939\n",
              "10    1941\n",
              "32    1977\n",
              "9     1932\n",
              "57    1956\n",
              "53    1929\n",
              "39    1978\n",
              "Name: TeamLaunch, dtype: object"
            ]
          },
          "execution_count": 1002,
          "metadata": {},
          "output_type": "execute_result"
        }
      ],
      "source": [
        "#random sample checking for teamlaunch column\n",
        "s_df['TeamLaunch'].sample(7)"
      ]
    },
    {
      "cell_type": "markdown",
      "metadata": {
        "id": "8wjArQ-Fjni9"
      },
      "source": [
        "From the above results, its clear that their are no missing values."
      ]
    },
    {
      "cell_type": "code",
      "execution_count": null,
      "metadata": {
        "colab": {
          "base_uri": "https://localhost:8080/"
        },
        "id": "Sw2XmuN1jX5n",
        "outputId": "2572bd23-e73f-4237-f93d-a6bde67d8e0c"
      },
      "outputs": [
        {
          "name": "stdout",
          "output_type": "stream",
          "text": [
            "0\n"
          ]
        }
      ],
      "source": [
        "# we can also check if their are any duplicated values in the dataset\n",
        "duplicates= s_df.duplicated()\n",
        "print(duplicates.sum())\n"
      ]
    },
    {
      "cell_type": "markdown",
      "metadata": {
        "id": "9PnrLq2NkbvF"
      },
      "source": [
        "The dataset is clean and is ready to perform EDA. To perform EDA, we can get the five point summary for the entire dataset."
      ]
    },
    {
      "cell_type": "code",
      "execution_count": null,
      "metadata": {
        "colab": {
          "base_uri": "https://localhost:8080/",
          "height": 337
        },
        "id": "c7AfbJirk5nd",
        "outputId": "a06e7175-16ce-40fa-9c43-bcca4010f454"
      },
      "outputs": [
        {
          "data": {
            "application/vnd.google.colaboratory.intrinsic+json": {
              "summary": "{\n  \"name\": \"s_df\",\n  \"rows\": 8,\n  \"fields\": [\n    {\n      \"column\": \"Tournament\",\n      \"properties\": {\n        \"dtype\": \"number\",\n        \"std\": 29.344016885326532,\n        \"min\": 1.0,\n        \"max\": 86.0,\n        \"num_unique_values\": 8,\n        \"samples\": [\n          24.0,\n          12.0,\n          61.0\n        ],\n        \"semantic_type\": \"\",\n        \"description\": \"\"\n      }\n    },\n    {\n      \"column\": \"Score\",\n      \"properties\": {\n        \"dtype\": \"number\",\n        \"std\": 1445.2088534930933,\n        \"min\": 14.0,\n        \"max\": 4385.0,\n        \"num_unique_values\": 8,\n        \"samples\": [\n          916.45,\n          395.5,\n          60.0\n        ],\n        \"semantic_type\": \"\",\n        \"description\": \"\"\n      }\n    },\n    {\n      \"column\": \"PlayedGames\",\n      \"properties\": {\n        \"dtype\": \"number\",\n        \"std\": 918.3120472456974,\n        \"min\": 30.0,\n        \"max\": 2762.0,\n        \"num_unique_values\": 8,\n        \"samples\": [\n          810.1,\n          424.5,\n          60.0\n        ],\n        \"semantic_type\": \"\",\n        \"description\": \"\"\n      }\n    },\n    {\n      \"column\": \"WonGames\",\n      \"properties\": {\n        \"dtype\": \"number\",\n        \"std\": 540.0572096077858,\n        \"min\": 5.0,\n        \"max\": 1647.0,\n        \"num_unique_values\": 8,\n        \"samples\": [\n          309.03333333333336,\n          124.0,\n          60.0\n        ],\n        \"semantic_type\": \"\",\n        \"description\": \"\"\n      }\n    },\n    {\n      \"column\": \"DrawnGames\",\n      \"properties\": {\n        \"dtype\": \"number\",\n        \"std\": 208.05502887970448,\n        \"min\": 4.0,\n        \"max\": 633.0,\n        \"num_unique_values\": 8,\n        \"samples\": [\n          192.08333333333334,\n          98.5,\n          60.0\n        ],\n        \"semantic_type\": \"\",\n        \"description\": \"\"\n      }\n    },\n    {\n      \"column\": \"LostGames\",\n      \"properties\": {\n        \"dtype\": \"number\",\n        \"std\": 351.39674611893696,\n        \"min\": 15.0,\n        \"max\": 1070.0,\n        \"num_unique_values\": 8,\n        \"samples\": [\n          308.81666666666666,\n          197.5,\n          60.0\n        ],\n        \"semantic_type\": \"\",\n        \"description\": \"\"\n      }\n    },\n    {\n      \"column\": \"BasketScored\",\n      \"properties\": {\n        \"dtype\": \"number\",\n        \"std\": 1961.7482554954277,\n        \"min\": 34.0,\n        \"max\": 5947.0,\n        \"num_unique_values\": 8,\n        \"samples\": [\n          1159.35,\n          444.0,\n          60.0\n        ],\n        \"semantic_type\": \"\",\n        \"description\": \"\"\n      }\n    },\n    {\n      \"column\": \"BasketGiven\",\n      \"properties\": {\n        \"dtype\": \"number\",\n        \"std\": 1293.7958221251397,\n        \"min\": 55.0,\n        \"max\": 3889.0,\n        \"num_unique_values\": 8,\n        \"samples\": [\n          1159.2333333333333,\n          632.5,\n          60.0\n        ],\n        \"semantic_type\": \"\",\n        \"description\": \"\"\n      }\n    },\n    {\n      \"column\": \"TournamentChampion\",\n      \"properties\": {\n        \"dtype\": \"number\",\n        \"std\": 10.074901694306297,\n        \"min\": 1.0,\n        \"max\": 33.0,\n        \"num_unique_values\": 7,\n        \"samples\": [\n          9.0,\n          9.666666666666666,\n          10.0\n        ],\n        \"semantic_type\": \"\",\n        \"description\": \"\"\n      }\n    },\n    {\n      \"column\": \"Runner-up\",\n      \"properties\": {\n        \"dtype\": \"number\",\n        \"std\": 7.842715874549557,\n        \"min\": 1.0,\n        \"max\": 25.0,\n        \"num_unique_values\": 7,\n        \"samples\": [\n          13.0,\n          6.615384615384615,\n          7.0\n        ],\n        \"semantic_type\": \"\",\n        \"description\": \"\"\n      }\n    },\n    {\n      \"column\": \"HighestPositionHeld\",\n      \"properties\": {\n        \"dtype\": \"number\",\n        \"std\": 19.779950370561753,\n        \"min\": 1.0,\n        \"max\": 61.0,\n        \"num_unique_values\": 8,\n        \"samples\": [\n          7.081967213114754,\n          6.0,\n          61.0\n        ],\n        \"semantic_type\": \"\",\n        \"description\": \"\"\n      }\n    }\n  ]\n}",
              "type": "dataframe"
            },
            "text/html": [
              "\n",
              "  <div id=\"df-5d9388cc-5a2a-4a80-90f1-f741c48f76a9\" class=\"colab-df-container\">\n",
              "    <div>\n",
              "<style scoped>\n",
              "    .dataframe tbody tr th:only-of-type {\n",
              "        vertical-align: middle;\n",
              "    }\n",
              "\n",
              "    .dataframe tbody tr th {\n",
              "        vertical-align: top;\n",
              "    }\n",
              "\n",
              "    .dataframe thead th {\n",
              "        text-align: right;\n",
              "    }\n",
              "</style>\n",
              "<table border=\"1\" class=\"dataframe\">\n",
              "  <thead>\n",
              "    <tr style=\"text-align: right;\">\n",
              "      <th></th>\n",
              "      <th>Tournament</th>\n",
              "      <th>Score</th>\n",
              "      <th>PlayedGames</th>\n",
              "      <th>WonGames</th>\n",
              "      <th>DrawnGames</th>\n",
              "      <th>LostGames</th>\n",
              "      <th>BasketScored</th>\n",
              "      <th>BasketGiven</th>\n",
              "      <th>TournamentChampion</th>\n",
              "      <th>Runner-up</th>\n",
              "      <th>HighestPositionHeld</th>\n",
              "    </tr>\n",
              "  </thead>\n",
              "  <tbody>\n",
              "    <tr>\n",
              "      <th>count</th>\n",
              "      <td>61.000000</td>\n",
              "      <td>60.000000</td>\n",
              "      <td>60.000000</td>\n",
              "      <td>60.000000</td>\n",
              "      <td>60.000000</td>\n",
              "      <td>60.000000</td>\n",
              "      <td>60.000000</td>\n",
              "      <td>60.000000</td>\n",
              "      <td>9.000000</td>\n",
              "      <td>13.000000</td>\n",
              "      <td>61.000000</td>\n",
              "    </tr>\n",
              "    <tr>\n",
              "      <th>mean</th>\n",
              "      <td>24.000000</td>\n",
              "      <td>916.450000</td>\n",
              "      <td>810.100000</td>\n",
              "      <td>309.033333</td>\n",
              "      <td>192.083333</td>\n",
              "      <td>308.816667</td>\n",
              "      <td>1159.350000</td>\n",
              "      <td>1159.233333</td>\n",
              "      <td>9.666667</td>\n",
              "      <td>6.615385</td>\n",
              "      <td>7.081967</td>\n",
              "    </tr>\n",
              "    <tr>\n",
              "      <th>std</th>\n",
              "      <td>26.827225</td>\n",
              "      <td>1138.342899</td>\n",
              "      <td>877.465393</td>\n",
              "      <td>408.481395</td>\n",
              "      <td>201.985508</td>\n",
              "      <td>294.508639</td>\n",
              "      <td>1512.063948</td>\n",
              "      <td>1163.946914</td>\n",
              "      <td>11.618950</td>\n",
              "      <td>8.109033</td>\n",
              "      <td>5.276663</td>\n",
              "    </tr>\n",
              "    <tr>\n",
              "      <th>min</th>\n",
              "      <td>1.000000</td>\n",
              "      <td>14.000000</td>\n",
              "      <td>30.000000</td>\n",
              "      <td>5.000000</td>\n",
              "      <td>4.000000</td>\n",
              "      <td>15.000000</td>\n",
              "      <td>34.000000</td>\n",
              "      <td>55.000000</td>\n",
              "      <td>1.000000</td>\n",
              "      <td>1.000000</td>\n",
              "      <td>1.000000</td>\n",
              "    </tr>\n",
              "    <tr>\n",
              "      <th>25%</th>\n",
              "      <td>4.000000</td>\n",
              "      <td>104.250000</td>\n",
              "      <td>115.500000</td>\n",
              "      <td>34.750000</td>\n",
              "      <td>26.250000</td>\n",
              "      <td>62.750000</td>\n",
              "      <td>154.500000</td>\n",
              "      <td>236.000000</td>\n",
              "      <td>1.000000</td>\n",
              "      <td>1.000000</td>\n",
              "      <td>3.000000</td>\n",
              "    </tr>\n",
              "    <tr>\n",
              "      <th>50%</th>\n",
              "      <td>12.000000</td>\n",
              "      <td>395.500000</td>\n",
              "      <td>424.500000</td>\n",
              "      <td>124.000000</td>\n",
              "      <td>98.500000</td>\n",
              "      <td>197.500000</td>\n",
              "      <td>444.000000</td>\n",
              "      <td>632.500000</td>\n",
              "      <td>6.000000</td>\n",
              "      <td>4.000000</td>\n",
              "      <td>6.000000</td>\n",
              "    </tr>\n",
              "    <tr>\n",
              "      <th>75%</th>\n",
              "      <td>38.000000</td>\n",
              "      <td>1360.500000</td>\n",
              "      <td>1345.500000</td>\n",
              "      <td>432.750000</td>\n",
              "      <td>331.500000</td>\n",
              "      <td>563.500000</td>\n",
              "      <td>1669.750000</td>\n",
              "      <td>2001.250000</td>\n",
              "      <td>10.000000</td>\n",
              "      <td>7.000000</td>\n",
              "      <td>10.000000</td>\n",
              "    </tr>\n",
              "    <tr>\n",
              "      <th>max</th>\n",
              "      <td>86.000000</td>\n",
              "      <td>4385.000000</td>\n",
              "      <td>2762.000000</td>\n",
              "      <td>1647.000000</td>\n",
              "      <td>633.000000</td>\n",
              "      <td>1070.000000</td>\n",
              "      <td>5947.000000</td>\n",
              "      <td>3889.000000</td>\n",
              "      <td>33.000000</td>\n",
              "      <td>25.000000</td>\n",
              "      <td>20.000000</td>\n",
              "    </tr>\n",
              "  </tbody>\n",
              "</table>\n",
              "</div>\n",
              "    <div class=\"colab-df-buttons\">\n",
              "\n",
              "  <div class=\"colab-df-container\">\n",
              "    <button class=\"colab-df-convert\" onclick=\"convertToInteractive('df-5d9388cc-5a2a-4a80-90f1-f741c48f76a9')\"\n",
              "            title=\"Convert this dataframe to an interactive table.\"\n",
              "            style=\"display:none;\">\n",
              "\n",
              "  <svg xmlns=\"http://www.w3.org/2000/svg\" height=\"24px\" viewBox=\"0 -960 960 960\">\n",
              "    <path d=\"M120-120v-720h720v720H120Zm60-500h600v-160H180v160Zm220 220h160v-160H400v160Zm0 220h160v-160H400v160ZM180-400h160v-160H180v160Zm440 0h160v-160H620v160ZM180-180h160v-160H180v160Zm440 0h160v-160H620v160Z\"/>\n",
              "  </svg>\n",
              "    </button>\n",
              "\n",
              "  <style>\n",
              "    .colab-df-container {\n",
              "      display:flex;\n",
              "      gap: 12px;\n",
              "    }\n",
              "\n",
              "    .colab-df-convert {\n",
              "      background-color: #E8F0FE;\n",
              "      border: none;\n",
              "      border-radius: 50%;\n",
              "      cursor: pointer;\n",
              "      display: none;\n",
              "      fill: #1967D2;\n",
              "      height: 32px;\n",
              "      padding: 0 0 0 0;\n",
              "      width: 32px;\n",
              "    }\n",
              "\n",
              "    .colab-df-convert:hover {\n",
              "      background-color: #E2EBFA;\n",
              "      box-shadow: 0px 1px 2px rgba(60, 64, 67, 0.3), 0px 1px 3px 1px rgba(60, 64, 67, 0.15);\n",
              "      fill: #174EA6;\n",
              "    }\n",
              "\n",
              "    .colab-df-buttons div {\n",
              "      margin-bottom: 4px;\n",
              "    }\n",
              "\n",
              "    [theme=dark] .colab-df-convert {\n",
              "      background-color: #3B4455;\n",
              "      fill: #D2E3FC;\n",
              "    }\n",
              "\n",
              "    [theme=dark] .colab-df-convert:hover {\n",
              "      background-color: #434B5C;\n",
              "      box-shadow: 0px 1px 3px 1px rgba(0, 0, 0, 0.15);\n",
              "      filter: drop-shadow(0px 1px 2px rgba(0, 0, 0, 0.3));\n",
              "      fill: #FFFFFF;\n",
              "    }\n",
              "  </style>\n",
              "\n",
              "    <script>\n",
              "      const buttonEl =\n",
              "        document.querySelector('#df-5d9388cc-5a2a-4a80-90f1-f741c48f76a9 button.colab-df-convert');\n",
              "      buttonEl.style.display =\n",
              "        google.colab.kernel.accessAllowed ? 'block' : 'none';\n",
              "\n",
              "      async function convertToInteractive(key) {\n",
              "        const element = document.querySelector('#df-5d9388cc-5a2a-4a80-90f1-f741c48f76a9');\n",
              "        const dataTable =\n",
              "          await google.colab.kernel.invokeFunction('convertToInteractive',\n",
              "                                                    [key], {});\n",
              "        if (!dataTable) return;\n",
              "\n",
              "        const docLinkHtml = 'Like what you see? Visit the ' +\n",
              "          '<a target=\"_blank\" href=https://colab.research.google.com/notebooks/data_table.ipynb>data table notebook</a>'\n",
              "          + ' to learn more about interactive tables.';\n",
              "        element.innerHTML = '';\n",
              "        dataTable['output_type'] = 'display_data';\n",
              "        await google.colab.output.renderOutput(dataTable, element);\n",
              "        const docLink = document.createElement('div');\n",
              "        docLink.innerHTML = docLinkHtml;\n",
              "        element.appendChild(docLink);\n",
              "      }\n",
              "    </script>\n",
              "  </div>\n",
              "\n",
              "\n",
              "<div id=\"df-2ad18fe0-8c89-41b9-a4f2-312e3ffdecd0\">\n",
              "  <button class=\"colab-df-quickchart\" onclick=\"quickchart('df-2ad18fe0-8c89-41b9-a4f2-312e3ffdecd0')\"\n",
              "            title=\"Suggest charts\"\n",
              "            style=\"display:none;\">\n",
              "\n",
              "<svg xmlns=\"http://www.w3.org/2000/svg\" height=\"24px\"viewBox=\"0 0 24 24\"\n",
              "     width=\"24px\">\n",
              "    <g>\n",
              "        <path d=\"M19 3H5c-1.1 0-2 .9-2 2v14c0 1.1.9 2 2 2h14c1.1 0 2-.9 2-2V5c0-1.1-.9-2-2-2zM9 17H7v-7h2v7zm4 0h-2V7h2v10zm4 0h-2v-4h2v4z\"/>\n",
              "    </g>\n",
              "</svg>\n",
              "  </button>\n",
              "\n",
              "<style>\n",
              "  .colab-df-quickchart {\n",
              "      --bg-color: #E8F0FE;\n",
              "      --fill-color: #1967D2;\n",
              "      --hover-bg-color: #E2EBFA;\n",
              "      --hover-fill-color: #174EA6;\n",
              "      --disabled-fill-color: #AAA;\n",
              "      --disabled-bg-color: #DDD;\n",
              "  }\n",
              "\n",
              "  [theme=dark] .colab-df-quickchart {\n",
              "      --bg-color: #3B4455;\n",
              "      --fill-color: #D2E3FC;\n",
              "      --hover-bg-color: #434B5C;\n",
              "      --hover-fill-color: #FFFFFF;\n",
              "      --disabled-bg-color: #3B4455;\n",
              "      --disabled-fill-color: #666;\n",
              "  }\n",
              "\n",
              "  .colab-df-quickchart {\n",
              "    background-color: var(--bg-color);\n",
              "    border: none;\n",
              "    border-radius: 50%;\n",
              "    cursor: pointer;\n",
              "    display: none;\n",
              "    fill: var(--fill-color);\n",
              "    height: 32px;\n",
              "    padding: 0;\n",
              "    width: 32px;\n",
              "  }\n",
              "\n",
              "  .colab-df-quickchart:hover {\n",
              "    background-color: var(--hover-bg-color);\n",
              "    box-shadow: 0 1px 2px rgba(60, 64, 67, 0.3), 0 1px 3px 1px rgba(60, 64, 67, 0.15);\n",
              "    fill: var(--button-hover-fill-color);\n",
              "  }\n",
              "\n",
              "  .colab-df-quickchart-complete:disabled,\n",
              "  .colab-df-quickchart-complete:disabled:hover {\n",
              "    background-color: var(--disabled-bg-color);\n",
              "    fill: var(--disabled-fill-color);\n",
              "    box-shadow: none;\n",
              "  }\n",
              "\n",
              "  .colab-df-spinner {\n",
              "    border: 2px solid var(--fill-color);\n",
              "    border-color: transparent;\n",
              "    border-bottom-color: var(--fill-color);\n",
              "    animation:\n",
              "      spin 1s steps(1) infinite;\n",
              "  }\n",
              "\n",
              "  @keyframes spin {\n",
              "    0% {\n",
              "      border-color: transparent;\n",
              "      border-bottom-color: var(--fill-color);\n",
              "      border-left-color: var(--fill-color);\n",
              "    }\n",
              "    20% {\n",
              "      border-color: transparent;\n",
              "      border-left-color: var(--fill-color);\n",
              "      border-top-color: var(--fill-color);\n",
              "    }\n",
              "    30% {\n",
              "      border-color: transparent;\n",
              "      border-left-color: var(--fill-color);\n",
              "      border-top-color: var(--fill-color);\n",
              "      border-right-color: var(--fill-color);\n",
              "    }\n",
              "    40% {\n",
              "      border-color: transparent;\n",
              "      border-right-color: var(--fill-color);\n",
              "      border-top-color: var(--fill-color);\n",
              "    }\n",
              "    60% {\n",
              "      border-color: transparent;\n",
              "      border-right-color: var(--fill-color);\n",
              "    }\n",
              "    80% {\n",
              "      border-color: transparent;\n",
              "      border-right-color: var(--fill-color);\n",
              "      border-bottom-color: var(--fill-color);\n",
              "    }\n",
              "    90% {\n",
              "      border-color: transparent;\n",
              "      border-bottom-color: var(--fill-color);\n",
              "    }\n",
              "  }\n",
              "</style>\n",
              "\n",
              "  <script>\n",
              "    async function quickchart(key) {\n",
              "      const quickchartButtonEl =\n",
              "        document.querySelector('#' + key + ' button');\n",
              "      quickchartButtonEl.disabled = true;  // To prevent multiple clicks.\n",
              "      quickchartButtonEl.classList.add('colab-df-spinner');\n",
              "      try {\n",
              "        const charts = await google.colab.kernel.invokeFunction(\n",
              "            'suggestCharts', [key], {});\n",
              "      } catch (error) {\n",
              "        console.error('Error during call to suggestCharts:', error);\n",
              "      }\n",
              "      quickchartButtonEl.classList.remove('colab-df-spinner');\n",
              "      quickchartButtonEl.classList.add('colab-df-quickchart-complete');\n",
              "    }\n",
              "    (() => {\n",
              "      let quickchartButtonEl =\n",
              "        document.querySelector('#df-2ad18fe0-8c89-41b9-a4f2-312e3ffdecd0 button');\n",
              "      quickchartButtonEl.style.display =\n",
              "        google.colab.kernel.accessAllowed ? 'block' : 'none';\n",
              "    })();\n",
              "  </script>\n",
              "</div>\n",
              "\n",
              "    </div>\n",
              "  </div>\n"
            ],
            "text/plain": [
              "       Tournament        Score  PlayedGames     WonGames  DrawnGames  \\\n",
              "count   61.000000    60.000000    60.000000    60.000000   60.000000   \n",
              "mean    24.000000   916.450000   810.100000   309.033333  192.083333   \n",
              "std     26.827225  1138.342899   877.465393   408.481395  201.985508   \n",
              "min      1.000000    14.000000    30.000000     5.000000    4.000000   \n",
              "25%      4.000000   104.250000   115.500000    34.750000   26.250000   \n",
              "50%     12.000000   395.500000   424.500000   124.000000   98.500000   \n",
              "75%     38.000000  1360.500000  1345.500000   432.750000  331.500000   \n",
              "max     86.000000  4385.000000  2762.000000  1647.000000  633.000000   \n",
              "\n",
              "         LostGames  BasketScored  BasketGiven  TournamentChampion  Runner-up  \\\n",
              "count    60.000000     60.000000    60.000000            9.000000  13.000000   \n",
              "mean    308.816667   1159.350000  1159.233333            9.666667   6.615385   \n",
              "std     294.508639   1512.063948  1163.946914           11.618950   8.109033   \n",
              "min      15.000000     34.000000    55.000000            1.000000   1.000000   \n",
              "25%      62.750000    154.500000   236.000000            1.000000   1.000000   \n",
              "50%     197.500000    444.000000   632.500000            6.000000   4.000000   \n",
              "75%     563.500000   1669.750000  2001.250000           10.000000   7.000000   \n",
              "max    1070.000000   5947.000000  3889.000000           33.000000  25.000000   \n",
              "\n",
              "       HighestPositionHeld  \n",
              "count            61.000000  \n",
              "mean              7.081967  \n",
              "std               5.276663  \n",
              "min               1.000000  \n",
              "25%               3.000000  \n",
              "50%               6.000000  \n",
              "75%              10.000000  \n",
              "max              20.000000  "
            ]
          },
          "execution_count": 1004,
          "metadata": {},
          "output_type": "execute_result"
        }
      ],
      "source": [
        "#five point summary for the dataset.'descriptive statistics'\n",
        "s_df.describe()"
      ]
    },
    {
      "cell_type": "markdown",
      "metadata": {
        "id": "JZIr0JJjjih2"
      },
      "source": [
        "\n",
        "\n",
        "---\n",
        "\n"
      ]
    },
    {
      "cell_type": "markdown",
      "metadata": {
        "id": "shETLnnXma01"
      },
      "source": [
        "## **Exploratory Data Analysis: Detailed study**"
      ]
    },
    {
      "cell_type": "code",
      "execution_count": null,
      "metadata": {
        "colab": {
          "base_uri": "https://localhost:8080/",
          "height": 472
        },
        "id": "aaQOlDQ5mIxO",
        "outputId": "c2e0f393-4db2-4f90-c7a4-5af9b3449c7e"
      },
      "outputs": [
        {
          "data": {
            "image/png": "[encoded data removed]",
            "text/plain": [
              "<Figure size 640x480 with 1 Axes>"
            ]
          },
          "metadata": {},
          "output_type": "display_data"
        }
      ],
      "source": [
        "#Univariate Analysis\n",
        "#A basic understanding in a basket ball match is to know who won the games and score analysis.\n",
        "plt.hist(s_df['WonGames'], color='skyblue')\n",
        "plt.title('Histogram-WonGames')\n",
        "plt.xlabel('No. of games won')\n",
        "plt.ylabel('No.of teams')\n",
        "plt.show()"
      ]
    },
    {
      "cell_type": "markdown",
      "metadata": {
        "id": "DFnn4cxIo2uj"
      },
      "source": [
        "we can say that the max.number of teams who won the games/matches lie within 0-200."
      ]
    },
    {
      "cell_type": "code",
      "execution_count": null,
      "metadata": {
        "colab": {
          "base_uri": "https://localhost:8080/",
          "height": 472
        },
        "id": "MQUhOcRJmIBd",
        "outputId": "127b7a5b-d786-4653-f252-a99eee9875c1"
      },
      "outputs": [
        {
          "data": {
            "image/png": "[encoded data removed]",
            "text/plain": [
              "<Figure size 640x480 with 1 Axes>"
            ]
          },
          "metadata": {},
          "output_type": "display_data"
        }
      ],
      "source": [
        "#score Analysis-check for the teams performance across diff games and tournaments thorigh score.\n",
        "sns.histplot(s_df['Score'], color='pink')\n",
        "plt.title('Score Histogram')\n",
        "plt.xlabel('Scored')\n",
        "plt.ylabel('Frequency')\n",
        "plt.show()"
      ]
    },
    {
      "cell_type": "code",
      "execution_count": null,
      "metadata": {
        "colab": {
          "base_uri": "https://localhost:8080/",
          "height": 761
        },
        "id": "xW0xuZ21rZwr",
        "outputId": "7064d1e5-f38f-44f2-aaf1-5aecd7b8d364"
      },
      "outputs": [
        {
          "data": {
            "image/png": "[encoded data removed]",
            "text/plain": [
              "<Figure size 1000x700 with 1 Axes>"
            ]
          },
          "metadata": {},
          "output_type": "display_data"
        }
      ],
      "source": [
        "#Bivariate Analysis:Displays the relationship bewteen two data variables.\n",
        "#box plot for selected variables\n",
        "plt.figure(figsize=((10,7)))\n",
        "sns.boxplot(data=s_df, showfliers=False)\n",
        "plt.title('Box-Plot')\n",
        "plt.xticks(rotation=90)\n",
        "plt.show()\n",
        "\n"
      ]
    },
    {
      "cell_type": "code",
      "execution_count": null,
      "metadata": {
        "colab": {
          "base_uri": "https://localhost:8080/"
        },
        "id": "_pwshHfg17fW",
        "outputId": "c05025e7-5e56-4b6b-afd8-5edf3ca15fd7"
      },
      "outputs": [
        {
          "name": "stdout",
          "output_type": "stream",
          "text": [
            "4385.0\n"
          ]
        },
        {
          "data": {
            "text/plain": [
              "0    Team 1\n",
              "Name: Team, dtype: object"
            ]
          },
          "execution_count": 1008,
          "metadata": {},
          "output_type": "execute_result"
        }
      ],
      "source": [
        "#Team with best performance based on score and teams\n",
        "maximum_score= s_df['Score'].max()\n",
        "print(maximum_score)\n",
        "s_df.Team[s_df['Score']==s_df['Score'].max()]\n"
      ]
    },
    {
      "cell_type": "code",
      "execution_count": null,
      "metadata": {
        "colab": {
          "base_uri": "https://localhost:8080/"
        },
        "id": "YLdcDpru45k9",
        "outputId": "cbc03a2a-bc05-407b-b4a1-5bebcf2a8497"
      },
      "outputs": [
        {
          "name": "stdout",
          "output_type": "stream",
          "text": [
            "5947.0\n"
          ]
        },
        {
          "data": {
            "text/plain": [
              "0    Team 1\n",
              "Name: Team, dtype: object"
            ]
          },
          "execution_count": 1009,
          "metadata": {},
          "output_type": "execute_result"
        }
      ],
      "source": [
        "#Teams with highest goals based on basketscore\n",
        "maximum_goals=s_df['BasketScored'].max()\n",
        "print(maximum_goals)\n",
        "s_df.Team[s_df['BasketScored']==s_df['BasketScored'].max()]"
      ]
    },
    {
      "cell_type": "code",
      "execution_count": null,
      "metadata": {
        "colab": {
          "base_uri": "https://localhost:8080/"
        },
        "id": "xO09pfQw9LKZ",
        "outputId": "d0e6cf11-21f5-4657-fdeb-1ab8cb3b696d"
      },
      "outputs": [
        {
          "name": "stdout",
          "output_type": "stream",
          "text": [
            "1929\n",
            "0      Team 1\n",
            "1      Team 2\n",
            "2      Team 3\n",
            "4      Team 5\n",
            "6      Team 7\n",
            "7      Team 8\n",
            "13    Team 14\n",
            "44    Team 45\n",
            "51    Team 52\n",
            "53    Team 54\n",
            "Name: Team, dtype: object\n"
          ]
        }
      ],
      "source": [
        "#Team that are the oldest launched\n",
        "oldest_team_launch=s_df['TeamLaunch'].min()\n",
        "\n",
        "oldest_teams=s_df.Team[s_df['TeamLaunch']==s_df['TeamLaunch'].min()]\n",
        "print(oldest_team_launch)\n",
        "print(oldest_teams)"
      ]
    },
    {
      "cell_type": "code",
      "execution_count": null,
      "metadata": {
        "colab": {
          "base_uri": "https://localhost:8080/"
        },
        "id": "TtbyTQzB8pUA",
        "outputId": "798048f6-b6e4-40c9-ff6e-d982d5d99d73"
      },
      "outputs": [
        {
          "name": "stdout",
          "output_type": "stream",
          "text": [
            "1070.0\n",
            "6    Team 7\n",
            "Name: Team, dtype: object\n"
          ]
        }
      ],
      "source": [
        "#Teams that have the least/lowest performance\n",
        "least_team_performance=s_df['LostGames'].max()\n",
        "Least_performance=s_df.Team[s_df['LostGames']==s_df['LostGames'].max()]\n",
        "print(least_team_performance)\n",
        "print(Least_performance)"
      ]
    },
    {
      "cell_type": "code",
      "execution_count": null,
      "metadata": {
        "colab": {
          "base_uri": "https://localhost:8080/"
        },
        "id": "xtIDQ5WgIOYe",
        "outputId": "947aa9c2-634d-46f8-dd92-e18a7985ce37"
      },
      "outputs": [
        {
          "name": "stdout",
          "output_type": "stream",
          "text": [
            "33.0\n",
            "0    Team 1\n",
            "Name: Team, dtype: object\n"
          ]
        }
      ],
      "source": [
        "#maximum champions won\n",
        "Champion_won=s_df['TournamentChampion'].max()\n",
        "Champ_team=s_df.Team[s_df['TournamentChampion']==s_df['TournamentChampion'].max()]\n",
        "print(Champion_won)\n",
        "print(Champ_team)"
      ]
    },
    {
      "cell_type": "markdown",
      "metadata": {
        "id": "1zy9IzEf-31a"
      },
      "source": [
        "Working on big dataset to study about best performing teams, winning and score will not be right way to do. Therefore reducing to top 20 best performing teams will give more insights in the basket match"
      ]
    },
    {
      "cell_type": "code",
      "execution_count": null,
      "metadata": {
        "id": "RJEFZ4eA-87Q"
      },
      "outputs": [],
      "source": [
        "#Plots for studying thetop 20 best performing teams\n",
        "#firstly sort the big datset into top 20.\n",
        "s_df_sort=s_df.sort_values(by='WonGames', ascending=False)\n",
        "top_teams=s_df_sort.head(20)\n"
      ]
    },
    {
      "cell_type": "code",
      "execution_count": null,
      "metadata": {
        "colab": {
          "base_uri": "https://localhost:8080/",
          "height": 748
        },
        "id": "-7W6GESy_t0N",
        "outputId": "f8a1ebab-e3f1-458e-fb41-6bc27a58aeb3"
      },
      "outputs": [
        {
          "name": "stderr",
          "output_type": "stream",
          "text": [
            "<ipython-input-1014-fd295674af6c>:3: FutureWarning: \n",
            "\n",
            "Passing `palette` without assigning `hue` is deprecated and will be removed in v0.14.0. Assign the `y` variable to `hue` and set `legend=False` for the same effect.\n",
            "\n",
            "  sns.barplot(x=top_teams['WonGames'], y=top_teams['Team'], palette='magma')\n"
          ]
        },
        {
          "data": {
            "image/png": "[encoded data removed]",
            "text/plain": [
              "<Figure size 1000x700 with 1 Axes>"
            ]
          },
          "metadata": {},
          "output_type": "display_data"
        }
      ],
      "source": [
        "\n",
        "#plot the graph for teams vs the teams who won the games using barplot\n",
        "plt.figure(figsize=(10,7))\n",
        "sns.barplot(x=top_teams['WonGames'], y=top_teams['Team'], palette='magma')\n",
        "plt.title('Top 20 Teams')\n",
        "plt.show()"
      ]
    },
    {
      "cell_type": "code",
      "execution_count": null,
      "metadata": {
        "colab": {
          "base_uri": "https://localhost:8080/",
          "height": 799
        },
        "id": "A32CUKbOAZBy",
        "outputId": "07c1efa1-b944-48f0-f621-3f272421add7"
      },
      "outputs": [
        {
          "name": "stderr",
          "output_type": "stream",
          "text": [
            "<ipython-input-1015-734ac512c730>:3: FutureWarning: The default value of numeric_only in DataFrame.corr is deprecated. In a future version, it will default to False. Select only valid columns or specify the value of numeric_only to silence this warning.\n",
            "  sns.heatmap(top_teams.corr(),annot=True, cmap='coolwarm')\n"
          ]
        },
        {
          "data": {
            "image/png": "[encoded data removed]",
            "text/plain": [
              "<Figure size 800x700 with 2 Axes>"
            ]
          },
          "metadata": {},
          "output_type": "display_data"
        }
      ],
      "source": [
        "#Correlation Matrix for the top teams_20\n",
        "plt.figure(figsize=(8,7))\n",
        "sns.heatmap(top_teams.corr(),annot=True, cmap='coolwarm')\n",
        "plt.show()"
      ]
    },
    {
      "cell_type": "markdown",
      "metadata": {
        "id": "mkuXs9jtDvw5"
      },
      "source": [
        "We can see that the teams Playgames, Basketscored, WonGames,Score, Tournament has highest correlation"
      ]
    },
    {
      "cell_type": "code",
      "execution_count": null,
      "metadata": {
        "colab": {
          "base_uri": "https://localhost:8080/",
          "height": 686
        },
        "id": "2q-l6bBXEuWV",
        "outputId": "f78312c2-d21b-48ea-93e4-153f97f1adfe"
      },
      "outputs": [
        {
          "data": {
            "image/png": "[encoded data removed]",
            "text/plain": [
              "<Figure size 1000x700 with 1 Axes>"
            ]
          },
          "metadata": {},
          "output_type": "display_data"
        }
      ],
      "source": [
        "#using lineplot detailed insights on top_teams performance is studied based on Playgames, Basketscored, WonGames,Score, Tournament can be obtained\n",
        "plt.figure(figsize=(10,7))\n",
        "sns.lineplot(x=top_teams['Team'], y=top_teams['WonGames'], marker='o', label='WonGames')\n",
        "sns.lineplot(x=top_teams['Team'], y=top_teams['PlayedGames'],marker='o', label='PlayedGames')\n",
        "sns.lineplot(x=top_teams['Team'], y=top_teams['Score'], marker='o', label='Score')\n",
        "sns.lineplot(x=top_teams['Team'], y=top_teams['BasketScored'],marker='o', label='BasketScored')\n",
        "sns.lineplot(x=top_teams['Team'], y=top_teams['BasketGiven'],marker='o', label='BasketGiven')\n",
        "plt.title('Top_teams_20')\n",
        "plt.xlabel('Teams')\n",
        "plt.ylabel('Values')\n",
        "plt.xticks(rotation=90)\n",
        "plt.show()\n"
      ]
    },
    {
      "cell_type": "markdown",
      "metadata": {
        "id": "Vsw3v6cOG6SC"
      },
      "source": [
        "We can observe that team1 has the highest performance with score, playedgames, basketscored and it gradually decreases with other teams, but the basket given is low for team1 proving its best performance in overall and gradually seen increasing for others."
      ]
    },
    {
      "cell_type": "code",
      "execution_count": null,
      "metadata": {
        "colab": {
          "base_uri": "https://localhost:8080/",
          "height": 663
        },
        "id": "nm1QNMynItgu",
        "outputId": "b013b3f1-fc6b-476f-a43b-0c5620458115"
      },
      "outputs": [
        {
          "data": {
            "image/png": "[encoded data removed]",
            "text/plain": [
              "<Figure size 1000x700 with 1 Axes>"
            ]
          },
          "metadata": {},
          "output_type": "display_data"
        }
      ],
      "source": [
        "#plot for old teams based on the year launch\n",
        "plt.figure(figsize=(10,7))\n",
        "sns.scatterplot(x=top_teams['TeamLaunch'],y=top_teams['Team'], marker='o')\n",
        "plt.title('Team_launched_old')\n",
        "plt.xlabel('Year_launched')\n",
        "plt.ylabel('Values')\n",
        "plt.xticks(rotation=90)\n",
        "plt.show()\n"
      ]
    },
    {
      "cell_type": "markdown",
      "metadata": {
        "id": "fSJyLEn9LLEF"
      },
      "source": [
        "From the above plot it is observed that a good number of top 20 teams are old and launched in the year 1929."
      ]
    },
    {
      "cell_type": "code",
      "execution_count": null,
      "metadata": {
        "colab": {
          "base_uri": "https://localhost:8080/"
        },
        "id": "Tt7YgflvMHbG",
        "outputId": "a84a364d-4ba2-4267-9f2c-a7411c6160be"
      },
      "outputs": [
        {
          "name": "stdout",
          "output_type": "stream",
          "text": [
            "61\n",
            "87.0\n"
          ]
        }
      ],
      "source": [
        "#chances that teams enter the finals and win in the finals, is an important parameter to observe.\n",
        "#sorting finalteams in descending order based on highest position held\n",
        "final_team=s_df.sort_values(by='HighestPositionHeld', ascending=False)\n",
        "\n",
        "#picking top 10 teams entering finals\n",
        "top_final_teams=final_team[['Team', 'HighestPositionHeld']].head(20)\n",
        "\n",
        "#filter to include teams to have reached finals\n",
        "final_teams=s_df[s_df['HighestPositionHeld']==1]\n",
        "\n",
        "#total number of teams reached finals\n",
        "tot_app_infinal=len(final_team)\n",
        "\n",
        "#finally teams won in the final\n",
        "tot_win=final_team['TournamentChampion'].sum()\n",
        "\n",
        "#lets print\n",
        "\n",
        "print(tot_app_infinal)\n",
        "print(tot_win)\n"
      ]
    },
    {
      "cell_type": "markdown",
      "metadata": {
        "id": "4YG_UARhAidw"
      },
      "source": [
        "Probability that a team will or loss is an important paramter in any events. In the case of basket ball, the probability of winning or lossing the matches will give insights about the team and its performance."
      ]
    },
    {
      "cell_type": "code",
      "execution_count": null,
      "metadata": {
        "colab": {
          "base_uri": "https://localhost:8080/"
        },
        "id": "pSj4tlmCkgEk",
        "outputId": "8df09cfa-43a6-4a9c-9c12-5e66ab72623f"
      },
      "outputs": [
        {
          "name": "stderr",
          "output_type": "stream",
          "text": [
            "<ipython-input-1019-a1ae4d0d28d1>:6: SettingWithCopyWarning: \n",
            "A value is trying to be set on a copy of a slice from a DataFrame\n",
            "\n",
            "See the caveats in the documentation: https://pandas.pydata.org/pandas-docs/stable/user_guide/indexing.html#returning-a-view-versus-a-copy\n",
            "  s_df['prob win'].iloc[x]= s_df['WonGames'].iloc[x] / s_df['PlayedGames'].iloc[x] # to know the prob of winning/lossing the match, the wongames/lostgames must be divided with the games playes\n"
          ]
        }
      ],
      "source": [
        "# probability of winning and lossing can be added to the exisiting columns to have more insights from the dataset\n",
        "#probability of winning games from the playedgames will be\n",
        "x=0\n",
        "s_df['prob win']=0\n",
        "for x in range(61):\n",
        "  s_df['prob win'].iloc[x]= s_df['WonGames'].iloc[x] / s_df['PlayedGames'].iloc[x] # to know the prob of winning/lossing the match, the wongames/lostgames must be divided with the games playes\n"
      ]
    },
    {
      "cell_type": "code",
      "execution_count": null,
      "metadata": {
        "colab": {
          "base_uri": "https://localhost:8080/"
        },
        "id": "CdYHKU1umRlD",
        "outputId": "283ca649-e64a-4f2e-e52d-fcc63912a852"
      },
      "outputs": [
        {
          "name": "stderr",
          "output_type": "stream",
          "text": [
            "<ipython-input-1020-1e45e00315ee>:5: SettingWithCopyWarning: \n",
            "A value is trying to be set on a copy of a slice from a DataFrame\n",
            "\n",
            "See the caveats in the documentation: https://pandas.pydata.org/pandas-docs/stable/user_guide/indexing.html#returning-a-view-versus-a-copy\n",
            "  s_df['prob lost'].iloc[x]= s_df['LostGames'].iloc[x] / s_df['PlayedGames'].iloc[x]\n"
          ]
        }
      ],
      "source": [
        "#probability of lossing the games from the games played.\n",
        "x=0\n",
        "s_df['prob lost']=0\n",
        "for x in range(61):\n",
        "  s_df['prob lost'].iloc[x]= s_df['LostGames'].iloc[x] / s_df['PlayedGames'].iloc[x]"
      ]
    },
    {
      "cell_type": "code",
      "execution_count": null,
      "metadata": {
        "colab": {
          "base_uri": "https://localhost:8080/"
        },
        "id": "rjArkv0Vmk_1",
        "outputId": "e7bf0eda-c2e6-440a-d926-51a0bb19ad32"
      },
      "outputs": [
        {
          "data": {
            "text/plain": [
              "Index(['Team', 'Tournament', 'Score', 'PlayedGames', 'WonGames', 'DrawnGames',\n",
              "       'LostGames', 'BasketScored', 'BasketGiven', 'TournamentChampion',\n",
              "       'Runner-up', 'TeamLaunch', 'HighestPositionHeld', 'prob win',\n",
              "       'prob lost'],\n",
              "      dtype='object')"
            ]
          },
          "execution_count": 1021,
          "metadata": {},
          "output_type": "execute_result"
        }
      ],
      "source": [
        "#check the dataset columns if added\n",
        "s_df.columns"
      ]
    },
    {
      "cell_type": "code",
      "execution_count": null,
      "metadata": {
        "colab": {
          "base_uri": "https://localhost:8080/",
          "height": 1000
        },
        "id": "U1Yk1nVNnokD",
        "outputId": "43b9eaec-0fe9-4fb4-fb57-e20a9be801af"
      },
      "outputs": [
        {
          "data": {
            "application/vnd.google.colaboratory.intrinsic+json": {
              "summary": "{\n  \"name\": \"top_teams_new\",\n  \"rows\": 20,\n  \"fields\": [\n    {\n      \"column\": \"Team\",\n      \"properties\": {\n        \"dtype\": \"string\",\n        \"num_unique_values\": 20,\n        \"samples\": [\n          \"Team 1\",\n          \"Team 17\",\n          \"Team 16\"\n        ],\n        \"semantic_type\": \"\",\n        \"description\": \"\"\n      }\n    },\n    {\n      \"column\": \"Tournament\",\n      \"properties\": {\n        \"dtype\": \"number\",\n        \"std\": 20.78334353324923,\n        \"min\": 27.0,\n        \"max\": 86.0,\n        \"num_unique_values\": 16,\n        \"samples\": [\n          86.0,\n          80.0,\n          58.0\n        ],\n        \"semantic_type\": \"\",\n        \"description\": \"\"\n      }\n    },\n    {\n      \"column\": \"Score\",\n      \"properties\": {\n        \"dtype\": \"number\",\n        \"std\": 1062.7326791665066,\n        \"min\": 1020.0,\n        \"max\": 4385.0,\n        \"num_unique_values\": 20,\n        \"samples\": [\n          4385.0,\n          1314.0,\n          1351.0\n        ],\n        \"semantic_type\": \"\",\n        \"description\": \"\"\n      }\n    },\n    {\n      \"column\": \"PlayedGames\",\n      \"properties\": {\n        \"dtype\": \"number\",\n        \"std\": 641.7343502694783,\n        \"min\": 988.0,\n        \"max\": 2762.0,\n        \"num_unique_values\": 18,\n        \"samples\": [\n          2762.0,\n          2614.0,\n          1698.0\n        ],\n        \"semantic_type\": \"\",\n        \"description\": \"\"\n      }\n    },\n    {\n      \"column\": \"WonGames\",\n      \"properties\": {\n        \"dtype\": \"number\",\n        \"std\": 413.21938546771474,\n        \"min\": 333.0,\n        \"max\": 1647.0,\n        \"num_unique_values\": 20,\n        \"samples\": [\n          1647.0,\n          390.0,\n          426.0\n        ],\n        \"semantic_type\": \"\",\n        \"description\": \"\"\n      }\n    },\n    {\n      \"column\": \"DrawnGames\",\n      \"properties\": {\n        \"dtype\": \"number\",\n        \"std\": 131.71284555505784,\n        \"min\": 242.0,\n        \"max\": 633.0,\n        \"num_unique_values\": 20,\n        \"samples\": [\n          552.0,\n          330.0,\n          327.0\n        ],\n        \"semantic_type\": \"\",\n        \"description\": \"\"\n      }\n    },\n    {\n      \"column\": \"LostGames\",\n      \"properties\": {\n        \"dtype\": \"number\",\n        \"std\": 171.6626434548144,\n        \"min\": 399.0,\n        \"max\": 1070.0,\n        \"num_unique_values\": 19,\n        \"samples\": [\n          563.0,\n          887.0,\n          629.0\n        ],\n        \"semantic_type\": \"\",\n        \"description\": \"\"\n      }\n    },\n    {\n      \"column\": \"BasketScored\",\n      \"properties\": {\n        \"dtype\": \"number\",\n        \"std\": 1520.3062745450513,\n        \"min\": 1182.0,\n        \"max\": 5947.0,\n        \"num_unique_values\": 20,\n        \"samples\": [\n          5947.0,\n          1421.0,\n          1500.0\n        ],\n        \"semantic_type\": \"\",\n        \"description\": \"\"\n      }\n    },\n    {\n      \"column\": \"BasketGiven\",\n      \"properties\": {\n        \"dtype\": \"number\",\n        \"std\": 735.3628535055258,\n        \"min\": 1371.0,\n        \"max\": 3889.0,\n        \"num_unique_values\": 20,\n        \"samples\": [\n          3140.0,\n          1763.0,\n          1834.0\n        ],\n        \"semantic_type\": \"\",\n        \"description\": \"\"\n      }\n    },\n    {\n      \"column\": \"TournamentChampion\",\n      \"properties\": {\n        \"dtype\": \"number\",\n        \"std\": 11.61895003862225,\n        \"min\": 1.0,\n        \"max\": 33.0,\n        \"num_unique_values\": 7,\n        \"samples\": [\n          33.0,\n          25.0,\n          1.0\n        ],\n        \"semantic_type\": \"\",\n        \"description\": \"\"\n      }\n    },\n    {\n      \"column\": \"Runner-up\",\n      \"properties\": {\n        \"dtype\": \"number\",\n        \"std\": 8.284249385357004,\n        \"min\": 1.0,\n        \"max\": 25.0,\n        \"num_unique_values\": 9,\n        \"samples\": [\n          1.0,\n          25.0,\n          4.0\n        ],\n        \"semantic_type\": \"\",\n        \"description\": \"\"\n      }\n    },\n    {\n      \"column\": \"TeamLaunch\",\n      \"properties\": {\n        \"dtype\": \"object\",\n        \"num_unique_values\": 13,\n        \"samples\": [\n          \"1951\",\n          \"1933\",\n          \"1929\"\n        ],\n        \"semantic_type\": \"\",\n        \"description\": \"\"\n      }\n    },\n    {\n      \"column\": \"HighestPositionHeld\",\n      \"properties\": {\n        \"dtype\": \"number\",\n        \"std\": 1,\n        \"min\": 1,\n        \"max\": 4,\n        \"num_unique_values\": 4,\n        \"samples\": [\n          3,\n          4,\n          1\n        ],\n        \"semantic_type\": \"\",\n        \"description\": \"\"\n      }\n    },\n    {\n      \"column\": \"prob win\",\n      \"properties\": {\n        \"dtype\": \"number\",\n        \"std\": 0.08239689827414003,\n        \"min\": 0.3107569721115538,\n        \"max\": 0.5963070238957278,\n        \"num_unique_values\": 20,\n        \"samples\": [\n          0.5963070238957278,\n          0.3107569721115538,\n          0.3232169954476479\n        ],\n        \"semantic_type\": \"\",\n        \"description\": \"\"\n      }\n    },\n    {\n      \"column\": \"prob lost\",\n      \"properties\": {\n        \"dtype\": \"number\",\n        \"std\": 0.06931248570561098,\n        \"min\": 0.20383779869659666,\n        \"max\": 0.4474789915966387,\n        \"num_unique_values\": 20,\n        \"samples\": [\n          0.20383779869659666,\n          0.4262948207171315,\n          0.4286798179059181\n        ],\n        \"semantic_type\": \"\",\n        \"description\": \"\"\n      }\n    }\n  ]\n}",
              "type": "dataframe",
              "variable_name": "top_teams_new"
            },
            "text/html": [
              "\n",
              "  <div id=\"df-b0e66039-f064-4516-a240-c4ef28de92b9\" class=\"colab-df-container\">\n",
              "    <div>\n",
              "<style scoped>\n",
              "    .dataframe tbody tr th:only-of-type {\n",
              "        vertical-align: middle;\n",
              "    }\n",
              "\n",
              "    .dataframe tbody tr th {\n",
              "        vertical-align: top;\n",
              "    }\n",
              "\n",
              "    .dataframe thead th {\n",
              "        text-align: right;\n",
              "    }\n",
              "</style>\n",
              "<table border=\"1\" class=\"dataframe\">\n",
              "  <thead>\n",
              "    <tr style=\"text-align: right;\">\n",
              "      <th></th>\n",
              "      <th>Team</th>\n",
              "      <th>Tournament</th>\n",
              "      <th>Score</th>\n",
              "      <th>PlayedGames</th>\n",
              "      <th>WonGames</th>\n",
              "      <th>DrawnGames</th>\n",
              "      <th>LostGames</th>\n",
              "      <th>BasketScored</th>\n",
              "      <th>BasketGiven</th>\n",
              "      <th>TournamentChampion</th>\n",
              "      <th>Runner-up</th>\n",
              "      <th>TeamLaunch</th>\n",
              "      <th>HighestPositionHeld</th>\n",
              "      <th>prob win</th>\n",
              "      <th>prob lost</th>\n",
              "    </tr>\n",
              "  </thead>\n",
              "  <tbody>\n",
              "    <tr>\n",
              "      <th>0</th>\n",
              "      <td>Team 1</td>\n",
              "      <td>86.0</td>\n",
              "      <td>4385.0</td>\n",
              "      <td>2762.0</td>\n",
              "      <td>1647.0</td>\n",
              "      <td>552.0</td>\n",
              "      <td>563.0</td>\n",
              "      <td>5947.0</td>\n",
              "      <td>3140.0</td>\n",
              "      <td>33.0</td>\n",
              "      <td>23.0</td>\n",
              "      <td>1929</td>\n",
              "      <td>1</td>\n",
              "      <td>0.596307</td>\n",
              "      <td>0.203838</td>\n",
              "    </tr>\n",
              "    <tr>\n",
              "      <th>1</th>\n",
              "      <td>Team 2</td>\n",
              "      <td>86.0</td>\n",
              "      <td>4262.0</td>\n",
              "      <td>2762.0</td>\n",
              "      <td>1581.0</td>\n",
              "      <td>573.0</td>\n",
              "      <td>608.0</td>\n",
              "      <td>5900.0</td>\n",
              "      <td>3114.0</td>\n",
              "      <td>25.0</td>\n",
              "      <td>25.0</td>\n",
              "      <td>1929</td>\n",
              "      <td>1</td>\n",
              "      <td>0.572411</td>\n",
              "      <td>0.220130</td>\n",
              "    </tr>\n",
              "    <tr>\n",
              "      <th>2</th>\n",
              "      <td>Team 3</td>\n",
              "      <td>80.0</td>\n",
              "      <td>3442.0</td>\n",
              "      <td>2614.0</td>\n",
              "      <td>1241.0</td>\n",
              "      <td>598.0</td>\n",
              "      <td>775.0</td>\n",
              "      <td>4534.0</td>\n",
              "      <td>3309.0</td>\n",
              "      <td>10.0</td>\n",
              "      <td>8.0</td>\n",
              "      <td>1929</td>\n",
              "      <td>1</td>\n",
              "      <td>0.474751</td>\n",
              "      <td>0.296480</td>\n",
              "    </tr>\n",
              "    <tr>\n",
              "      <th>4</th>\n",
              "      <td>Team 5</td>\n",
              "      <td>86.0</td>\n",
              "      <td>3368.0</td>\n",
              "      <td>2762.0</td>\n",
              "      <td>1209.0</td>\n",
              "      <td>633.0</td>\n",
              "      <td>920.0</td>\n",
              "      <td>4631.0</td>\n",
              "      <td>3700.0</td>\n",
              "      <td>8.0</td>\n",
              "      <td>7.0</td>\n",
              "      <td>1929</td>\n",
              "      <td>1</td>\n",
              "      <td>0.437726</td>\n",
              "      <td>0.333092</td>\n",
              "    </tr>\n",
              "    <tr>\n",
              "      <th>3</th>\n",
              "      <td>Team 4</td>\n",
              "      <td>82.0</td>\n",
              "      <td>3386.0</td>\n",
              "      <td>2664.0</td>\n",
              "      <td>1187.0</td>\n",
              "      <td>616.0</td>\n",
              "      <td>861.0</td>\n",
              "      <td>4398.0</td>\n",
              "      <td>3469.0</td>\n",
              "      <td>6.0</td>\n",
              "      <td>6.0</td>\n",
              "      <td>1931</td>\n",
              "      <td>1</td>\n",
              "      <td>0.445571</td>\n",
              "      <td>0.323198</td>\n",
              "    </tr>\n",
              "    <tr>\n",
              "      <th>5</th>\n",
              "      <td>Team 6</td>\n",
              "      <td>73.0</td>\n",
              "      <td>2819.0</td>\n",
              "      <td>2408.0</td>\n",
              "      <td>990.0</td>\n",
              "      <td>531.0</td>\n",
              "      <td>887.0</td>\n",
              "      <td>3680.0</td>\n",
              "      <td>3373.0</td>\n",
              "      <td>1.0</td>\n",
              "      <td>4.0</td>\n",
              "      <td>1934</td>\n",
              "      <td>1</td>\n",
              "      <td>0.411130</td>\n",
              "      <td>0.368355</td>\n",
              "    </tr>\n",
              "    <tr>\n",
              "      <th>6</th>\n",
              "      <td>Team 7</td>\n",
              "      <td>82.0</td>\n",
              "      <td>2792.0</td>\n",
              "      <td>2626.0</td>\n",
              "      <td>948.0</td>\n",
              "      <td>608.0</td>\n",
              "      <td>1070.0</td>\n",
              "      <td>3609.0</td>\n",
              "      <td>3889.0</td>\n",
              "      <td>NaN</td>\n",
              "      <td>NaN</td>\n",
              "      <td>1929</td>\n",
              "      <td>3</td>\n",
              "      <td>0.361005</td>\n",
              "      <td>0.407464</td>\n",
              "    </tr>\n",
              "    <tr>\n",
              "      <th>7</th>\n",
              "      <td>Team 8</td>\n",
              "      <td>70.0</td>\n",
              "      <td>2573.0</td>\n",
              "      <td>2302.0</td>\n",
              "      <td>864.0</td>\n",
              "      <td>577.0</td>\n",
              "      <td>861.0</td>\n",
              "      <td>3228.0</td>\n",
              "      <td>3230.0</td>\n",
              "      <td>2.0</td>\n",
              "      <td>3.0</td>\n",
              "      <td>1929</td>\n",
              "      <td>1</td>\n",
              "      <td>0.375326</td>\n",
              "      <td>0.374023</td>\n",
              "    </tr>\n",
              "    <tr>\n",
              "      <th>8</th>\n",
              "      <td>Team 9</td>\n",
              "      <td>58.0</td>\n",
              "      <td>2109.0</td>\n",
              "      <td>1986.0</td>\n",
              "      <td>698.0</td>\n",
              "      <td>522.0</td>\n",
              "      <td>766.0</td>\n",
              "      <td>2683.0</td>\n",
              "      <td>2847.0</td>\n",
              "      <td>NaN</td>\n",
              "      <td>1.0</td>\n",
              "      <td>1939</td>\n",
              "      <td>2</td>\n",
              "      <td>0.351460</td>\n",
              "      <td>0.385700</td>\n",
              "    </tr>\n",
              "    <tr>\n",
              "      <th>9</th>\n",
              "      <td>Team 10</td>\n",
              "      <td>51.0</td>\n",
              "      <td>1884.0</td>\n",
              "      <td>1728.0</td>\n",
              "      <td>606.0</td>\n",
              "      <td>440.0</td>\n",
              "      <td>682.0</td>\n",
              "      <td>2159.0</td>\n",
              "      <td>2492.0</td>\n",
              "      <td>1.0</td>\n",
              "      <td>NaN</td>\n",
              "      <td>1932</td>\n",
              "      <td>1</td>\n",
              "      <td>0.350694</td>\n",
              "      <td>0.394676</td>\n",
              "    </tr>\n",
              "    <tr>\n",
              "      <th>11</th>\n",
              "      <td>Team 12</td>\n",
              "      <td>51.0</td>\n",
              "      <td>1789.0</td>\n",
              "      <td>1698.0</td>\n",
              "      <td>586.0</td>\n",
              "      <td>389.0</td>\n",
              "      <td>723.0</td>\n",
              "      <td>2278.0</td>\n",
              "      <td>2624.0</td>\n",
              "      <td>NaN</td>\n",
              "      <td>NaN</td>\n",
              "      <td>1939</td>\n",
              "      <td>4</td>\n",
              "      <td>0.345112</td>\n",
              "      <td>0.425795</td>\n",
              "    </tr>\n",
              "    <tr>\n",
              "      <th>10</th>\n",
              "      <td>Team 11</td>\n",
              "      <td>45.0</td>\n",
              "      <td>1814.0</td>\n",
              "      <td>1530.0</td>\n",
              "      <td>563.0</td>\n",
              "      <td>392.0</td>\n",
              "      <td>575.0</td>\n",
              "      <td>2052.0</td>\n",
              "      <td>2188.0</td>\n",
              "      <td>1.0</td>\n",
              "      <td>5.0</td>\n",
              "      <td>1941</td>\n",
              "      <td>1</td>\n",
              "      <td>0.367974</td>\n",
              "      <td>0.375817</td>\n",
              "    </tr>\n",
              "    <tr>\n",
              "      <th>14</th>\n",
              "      <td>Team 15</td>\n",
              "      <td>43.0</td>\n",
              "      <td>1389.0</td>\n",
              "      <td>1458.0</td>\n",
              "      <td>471.0</td>\n",
              "      <td>358.0</td>\n",
              "      <td>629.0</td>\n",
              "      <td>1753.0</td>\n",
              "      <td>2152.0</td>\n",
              "      <td>NaN</td>\n",
              "      <td>1.0</td>\n",
              "      <td>1944</td>\n",
              "      <td>2</td>\n",
              "      <td>0.323045</td>\n",
              "      <td>0.431413</td>\n",
              "    </tr>\n",
              "    <tr>\n",
              "      <th>12</th>\n",
              "      <td>Team 13</td>\n",
              "      <td>42.0</td>\n",
              "      <td>1471.0</td>\n",
              "      <td>1466.0</td>\n",
              "      <td>463.0</td>\n",
              "      <td>384.0</td>\n",
              "      <td>619.0</td>\n",
              "      <td>1767.0</td>\n",
              "      <td>2180.0</td>\n",
              "      <td>NaN</td>\n",
              "      <td>NaN</td>\n",
              "      <td>1948</td>\n",
              "      <td>4</td>\n",
              "      <td>0.315825</td>\n",
              "      <td>0.422237</td>\n",
              "    </tr>\n",
              "    <tr>\n",
              "      <th>13</th>\n",
              "      <td>Team 14</td>\n",
              "      <td>44.0</td>\n",
              "      <td>1416.0</td>\n",
              "      <td>1428.0</td>\n",
              "      <td>453.0</td>\n",
              "      <td>336.0</td>\n",
              "      <td>639.0</td>\n",
              "      <td>1843.0</td>\n",
              "      <td>2368.0</td>\n",
              "      <td>NaN</td>\n",
              "      <td>1.0</td>\n",
              "      <td>1929</td>\n",
              "      <td>2</td>\n",
              "      <td>0.317227</td>\n",
              "      <td>0.447479</td>\n",
              "    </tr>\n",
              "    <tr>\n",
              "      <th>15</th>\n",
              "      <td>Team 16</td>\n",
              "      <td>37.0</td>\n",
              "      <td>1351.0</td>\n",
              "      <td>1318.0</td>\n",
              "      <td>426.0</td>\n",
              "      <td>327.0</td>\n",
              "      <td>565.0</td>\n",
              "      <td>1500.0</td>\n",
              "      <td>1834.0</td>\n",
              "      <td>NaN</td>\n",
              "      <td>NaN</td>\n",
              "      <td>1935</td>\n",
              "      <td>4</td>\n",
              "      <td>0.323217</td>\n",
              "      <td>0.428680</td>\n",
              "    </tr>\n",
              "    <tr>\n",
              "      <th>17</th>\n",
              "      <td>Team 18</td>\n",
              "      <td>38.0</td>\n",
              "      <td>1174.0</td>\n",
              "      <td>1192.0</td>\n",
              "      <td>408.0</td>\n",
              "      <td>292.0</td>\n",
              "      <td>492.0</td>\n",
              "      <td>1642.0</td>\n",
              "      <td>1951.0</td>\n",
              "      <td>NaN</td>\n",
              "      <td>NaN</td>\n",
              "      <td>1933</td>\n",
              "      <td>3</td>\n",
              "      <td>0.342282</td>\n",
              "      <td>0.412752</td>\n",
              "    </tr>\n",
              "    <tr>\n",
              "      <th>16</th>\n",
              "      <td>Team 17</td>\n",
              "      <td>36.0</td>\n",
              "      <td>1314.0</td>\n",
              "      <td>1255.0</td>\n",
              "      <td>390.0</td>\n",
              "      <td>330.0</td>\n",
              "      <td>535.0</td>\n",
              "      <td>1421.0</td>\n",
              "      <td>1763.0</td>\n",
              "      <td>NaN</td>\n",
              "      <td>NaN</td>\n",
              "      <td>1949</td>\n",
              "      <td>4</td>\n",
              "      <td>0.310757</td>\n",
              "      <td>0.426295</td>\n",
              "    </tr>\n",
              "    <tr>\n",
              "      <th>19</th>\n",
              "      <td>Team 20</td>\n",
              "      <td>33.0</td>\n",
              "      <td>1020.0</td>\n",
              "      <td>1096.0</td>\n",
              "      <td>367.0</td>\n",
              "      <td>242.0</td>\n",
              "      <td>487.0</td>\n",
              "      <td>1347.0</td>\n",
              "      <td>1746.0</td>\n",
              "      <td>NaN</td>\n",
              "      <td>1.0</td>\n",
              "      <td>1951</td>\n",
              "      <td>2</td>\n",
              "      <td>0.334854</td>\n",
              "      <td>0.444343</td>\n",
              "    </tr>\n",
              "    <tr>\n",
              "      <th>18</th>\n",
              "      <td>Team 19</td>\n",
              "      <td>27.0</td>\n",
              "      <td>1148.0</td>\n",
              "      <td>988.0</td>\n",
              "      <td>333.0</td>\n",
              "      <td>256.0</td>\n",
              "      <td>399.0</td>\n",
              "      <td>1182.0</td>\n",
              "      <td>1371.0</td>\n",
              "      <td>NaN</td>\n",
              "      <td>NaN</td>\n",
              "      <td>1960</td>\n",
              "      <td>3</td>\n",
              "      <td>0.337045</td>\n",
              "      <td>0.403846</td>\n",
              "    </tr>\n",
              "  </tbody>\n",
              "</table>\n",
              "</div>\n",
              "    <div class=\"colab-df-buttons\">\n",
              "\n",
              "  <div class=\"colab-df-container\">\n",
              "    <button class=\"colab-df-convert\" onclick=\"convertToInteractive('df-b0e66039-f064-4516-a240-c4ef28de92b9')\"\n",
              "            title=\"Convert this dataframe to an interactive table.\"\n",
              "            style=\"display:none;\">\n",
              "\n",
              "  <svg xmlns=\"http://www.w3.org/2000/svg\" height=\"24px\" viewBox=\"0 -960 960 960\">\n",
              "    <path d=\"M120-120v-720h720v720H120Zm60-500h600v-160H180v160Zm220 220h160v-160H400v160Zm0 220h160v-160H400v160ZM180-400h160v-160H180v160Zm440 0h160v-160H620v160ZM180-180h160v-160H180v160Zm440 0h160v-160H620v160Z\"/>\n",
              "  </svg>\n",
              "    </button>\n",
              "\n",
              "  <style>\n",
              "    .colab-df-container {\n",
              "      display:flex;\n",
              "      gap: 12px;\n",
              "    }\n",
              "\n",
              "    .colab-df-convert {\n",
              "      background-color: #E8F0FE;\n",
              "      border: none;\n",
              "      border-radius: 50%;\n",
              "      cursor: pointer;\n",
              "      display: none;\n",
              "      fill: #1967D2;\n",
              "      height: 32px;\n",
              "      padding: 0 0 0 0;\n",
              "      width: 32px;\n",
              "    }\n",
              "\n",
              "    .colab-df-convert:hover {\n",
              "      background-color: #E2EBFA;\n",
              "      box-shadow: 0px 1px 2px rgba(60, 64, 67, 0.3), 0px 1px 3px 1px rgba(60, 64, 67, 0.15);\n",
              "      fill: #174EA6;\n",
              "    }\n",
              "\n",
              "    .colab-df-buttons div {\n",
              "      margin-bottom: 4px;\n",
              "    }\n",
              "\n",
              "    [theme=dark] .colab-df-convert {\n",
              "      background-color: #3B4455;\n",
              "      fill: #D2E3FC;\n",
              "    }\n",
              "\n",
              "    [theme=dark] .colab-df-convert:hover {\n",
              "      background-color: #434B5C;\n",
              "      box-shadow: 0px 1px 3px 1px rgba(0, 0, 0, 0.15);\n",
              "      filter: drop-shadow(0px 1px 2px rgba(0, 0, 0, 0.3));\n",
              "      fill: #FFFFFF;\n",
              "    }\n",
              "  </style>\n",
              "\n",
              "    <script>\n",
              "      const buttonEl =\n",
              "        document.querySelector('#df-b0e66039-f064-4516-a240-c4ef28de92b9 button.colab-df-convert');\n",
              "      buttonEl.style.display =\n",
              "        google.colab.kernel.accessAllowed ? 'block' : 'none';\n",
              "\n",
              "      async function convertToInteractive(key) {\n",
              "        const element = document.querySelector('#df-b0e66039-f064-4516-a240-c4ef28de92b9');\n",
              "        const dataTable =\n",
              "          await google.colab.kernel.invokeFunction('convertToInteractive',\n",
              "                                                    [key], {});\n",
              "        if (!dataTable) return;\n",
              "\n",
              "        const docLinkHtml = 'Like what you see? Visit the ' +\n",
              "          '<a target=\"_blank\" href=https://colab.research.google.com/notebooks/data_table.ipynb>data table notebook</a>'\n",
              "          + ' to learn more about interactive tables.';\n",
              "        element.innerHTML = '';\n",
              "        dataTable['output_type'] = 'display_data';\n",
              "        await google.colab.output.renderOutput(dataTable, element);\n",
              "        const docLink = document.createElement('div');\n",
              "        docLink.innerHTML = docLinkHtml;\n",
              "        element.appendChild(docLink);\n",
              "      }\n",
              "    </script>\n",
              "  </div>\n",
              "\n",
              "\n",
              "<div id=\"df-ce76e13b-d89c-47c0-92b9-77e2392ebe98\">\n",
              "  <button class=\"colab-df-quickchart\" onclick=\"quickchart('df-ce76e13b-d89c-47c0-92b9-77e2392ebe98')\"\n",
              "            title=\"Suggest charts\"\n",
              "            style=\"display:none;\">\n",
              "\n",
              "<svg xmlns=\"http://www.w3.org/2000/svg\" height=\"24px\"viewBox=\"0 0 24 24\"\n",
              "     width=\"24px\">\n",
              "    <g>\n",
              "        <path d=\"M19 3H5c-1.1 0-2 .9-2 2v14c0 1.1.9 2 2 2h14c1.1 0 2-.9 2-2V5c0-1.1-.9-2-2-2zM9 17H7v-7h2v7zm4 0h-2V7h2v10zm4 0h-2v-4h2v4z\"/>\n",
              "    </g>\n",
              "</svg>\n",
              "  </button>\n",
              "\n",
              "<style>\n",
              "  .colab-df-quickchart {\n",
              "      --bg-color: #E8F0FE;\n",
              "      --fill-color: #1967D2;\n",
              "      --hover-bg-color: #E2EBFA;\n",
              "      --hover-fill-color: #174EA6;\n",
              "      --disabled-fill-color: #AAA;\n",
              "      --disabled-bg-color: #DDD;\n",
              "  }\n",
              "\n",
              "  [theme=dark] .colab-df-quickchart {\n",
              "      --bg-color: #3B4455;\n",
              "      --fill-color: #D2E3FC;\n",
              "      --hover-bg-color: #434B5C;\n",
              "      --hover-fill-color: #FFFFFF;\n",
              "      --disabled-bg-color: #3B4455;\n",
              "      --disabled-fill-color: #666;\n",
              "  }\n",
              "\n",
              "  .colab-df-quickchart {\n",
              "    background-color: var(--bg-color);\n",
              "    border: none;\n",
              "    border-radius: 50%;\n",
              "    cursor: pointer;\n",
              "    display: none;\n",
              "    fill: var(--fill-color);\n",
              "    height: 32px;\n",
              "    padding: 0;\n",
              "    width: 32px;\n",
              "  }\n",
              "\n",
              "  .colab-df-quickchart:hover {\n",
              "    background-color: var(--hover-bg-color);\n",
              "    box-shadow: 0 1px 2px rgba(60, 64, 67, 0.3), 0 1px 3px 1px rgba(60, 64, 67, 0.15);\n",
              "    fill: var(--button-hover-fill-color);\n",
              "  }\n",
              "\n",
              "  .colab-df-quickchart-complete:disabled,\n",
              "  .colab-df-quickchart-complete:disabled:hover {\n",
              "    background-color: var(--disabled-bg-color);\n",
              "    fill: var(--disabled-fill-color);\n",
              "    box-shadow: none;\n",
              "  }\n",
              "\n",
              "  .colab-df-spinner {\n",
              "    border: 2px solid var(--fill-color);\n",
              "    border-color: transparent;\n",
              "    border-bottom-color: var(--fill-color);\n",
              "    animation:\n",
              "      spin 1s steps(1) infinite;\n",
              "  }\n",
              "\n",
              "  @keyframes spin {\n",
              "    0% {\n",
              "      border-color: transparent;\n",
              "      border-bottom-color: var(--fill-color);\n",
              "      border-left-color: var(--fill-color);\n",
              "    }\n",
              "    20% {\n",
              "      border-color: transparent;\n",
              "      border-left-color: var(--fill-color);\n",
              "      border-top-color: var(--fill-color);\n",
              "    }\n",
              "    30% {\n",
              "      border-color: transparent;\n",
              "      border-left-color: var(--fill-color);\n",
              "      border-top-color: var(--fill-color);\n",
              "      border-right-color: var(--fill-color);\n",
              "    }\n",
              "    40% {\n",
              "      border-color: transparent;\n",
              "      border-right-color: var(--fill-color);\n",
              "      border-top-color: var(--fill-color);\n",
              "    }\n",
              "    60% {\n",
              "      border-color: transparent;\n",
              "      border-right-color: var(--fill-color);\n",
              "    }\n",
              "    80% {\n",
              "      border-color: transparent;\n",
              "      border-right-color: var(--fill-color);\n",
              "      border-bottom-color: var(--fill-color);\n",
              "    }\n",
              "    90% {\n",
              "      border-color: transparent;\n",
              "      border-bottom-color: var(--fill-color);\n",
              "    }\n",
              "  }\n",
              "</style>\n",
              "\n",
              "  <script>\n",
              "    async function quickchart(key) {\n",
              "      const quickchartButtonEl =\n",
              "        document.querySelector('#' + key + ' button');\n",
              "      quickchartButtonEl.disabled = true;  // To prevent multiple clicks.\n",
              "      quickchartButtonEl.classList.add('colab-df-spinner');\n",
              "      try {\n",
              "        const charts = await google.colab.kernel.invokeFunction(\n",
              "            'suggestCharts', [key], {});\n",
              "      } catch (error) {\n",
              "        console.error('Error during call to suggestCharts:', error);\n",
              "      }\n",
              "      quickchartButtonEl.classList.remove('colab-df-spinner');\n",
              "      quickchartButtonEl.classList.add('colab-df-quickchart-complete');\n",
              "    }\n",
              "    (() => {\n",
              "      let quickchartButtonEl =\n",
              "        document.querySelector('#df-ce76e13b-d89c-47c0-92b9-77e2392ebe98 button');\n",
              "      quickchartButtonEl.style.display =\n",
              "        google.colab.kernel.accessAllowed ? 'block' : 'none';\n",
              "    })();\n",
              "  </script>\n",
              "</div>\n",
              "\n",
              "  <div id=\"id_0b197bd5-84a7-45e7-8ccd-ef07b5bb9b29\">\n",
              "    <style>\n",
              "      .colab-df-generate {\n",
              "        background-color: #E8F0FE;\n",
              "        border: none;\n",
              "        border-radius: 50%;\n",
              "        cursor: pointer;\n",
              "        display: none;\n",
              "        fill: #1967D2;\n",
              "        height: 32px;\n",
              "        padding: 0 0 0 0;\n",
              "        width: 32px;\n",
              "      }\n",
              "\n",
              "      .colab-df-generate:hover {\n",
              "        background-color: #E2EBFA;\n",
              "        box-shadow: 0px 1px 2px rgba(60, 64, 67, 0.3), 0px 1px 3px 1px rgba(60, 64, 67, 0.15);\n",
              "        fill: #174EA6;\n",
              "      }\n",
              "\n",
              "      [theme=dark] .colab-df-generate {\n",
              "        background-color: #3B4455;\n",
              "        fill: #D2E3FC;\n",
              "      }\n",
              "\n",
              "      [theme=dark] .colab-df-generate:hover {\n",
              "        background-color: #434B5C;\n",
              "        box-shadow: 0px 1px 3px 1px rgba(0, 0, 0, 0.15);\n",
              "        filter: drop-shadow(0px 1px 2px rgba(0, 0, 0, 0.3));\n",
              "        fill: #FFFFFF;\n",
              "      }\n",
              "    </style>\n",
              "    <button class=\"colab-df-generate\" onclick=\"generateWithVariable('top_teams_new')\"\n",
              "            title=\"Generate code using this dataframe.\"\n",
              "            style=\"display:none;\">\n",
              "\n",
              "  <svg xmlns=\"http://www.w3.org/2000/svg\" height=\"24px\"viewBox=\"0 0 24 24\"\n",
              "       width=\"24px\">\n",
              "    <path d=\"M7,19H8.4L18.45,9,17,7.55,7,17.6ZM5,21V16.75L18.45,3.32a2,2,0,0,1,2.83,0l1.4,1.43a1.91,1.91,0,0,1,.58,1.4,1.91,1.91,0,0,1-.58,1.4L9.25,21ZM18.45,9,17,7.55Zm-12,3A5.31,5.31,0,0,0,4.9,8.1,5.31,5.31,0,0,0,1,6.5,5.31,5.31,0,0,0,4.9,4.9,5.31,5.31,0,0,0,6.5,1,5.31,5.31,0,0,0,8.1,4.9,5.31,5.31,0,0,0,12,6.5,5.46,5.46,0,0,0,6.5,12Z\"/>\n",
              "  </svg>\n",
              "    </button>\n",
              "    <script>\n",
              "      (() => {\n",
              "      const buttonEl =\n",
              "        document.querySelector('#id_0b197bd5-84a7-45e7-8ccd-ef07b5bb9b29 button.colab-df-generate');\n",
              "      buttonEl.style.display =\n",
              "        google.colab.kernel.accessAllowed ? 'block' : 'none';\n",
              "\n",
              "      buttonEl.onclick = () => {\n",
              "        google.colab.notebook.generateWithVariable('top_teams_new');\n",
              "      }\n",
              "      })();\n",
              "    </script>\n",
              "  </div>\n",
              "\n",
              "    </div>\n",
              "  </div>\n"
            ],
            "text/plain": [
              "       Team  Tournament   Score  PlayedGames  WonGames  DrawnGames  LostGames  \\\n",
              "0    Team 1        86.0  4385.0       2762.0    1647.0       552.0      563.0   \n",
              "1    Team 2        86.0  4262.0       2762.0    1581.0       573.0      608.0   \n",
              "2    Team 3        80.0  3442.0       2614.0    1241.0       598.0      775.0   \n",
              "4    Team 5        86.0  3368.0       2762.0    1209.0       633.0      920.0   \n",
              "3    Team 4        82.0  3386.0       2664.0    1187.0       616.0      861.0   \n",
              "5    Team 6        73.0  2819.0       2408.0     990.0       531.0      887.0   \n",
              "6    Team 7        82.0  2792.0       2626.0     948.0       608.0     1070.0   \n",
              "7    Team 8        70.0  2573.0       2302.0     864.0       577.0      861.0   \n",
              "8    Team 9        58.0  2109.0       1986.0     698.0       522.0      766.0   \n",
              "9   Team 10        51.0  1884.0       1728.0     606.0       440.0      682.0   \n",
              "11  Team 12        51.0  1789.0       1698.0     586.0       389.0      723.0   \n",
              "10  Team 11        45.0  1814.0       1530.0     563.0       392.0      575.0   \n",
              "14  Team 15        43.0  1389.0       1458.0     471.0       358.0      629.0   \n",
              "12  Team 13        42.0  1471.0       1466.0     463.0       384.0      619.0   \n",
              "13  Team 14        44.0  1416.0       1428.0     453.0       336.0      639.0   \n",
              "15  Team 16        37.0  1351.0       1318.0     426.0       327.0      565.0   \n",
              "17  Team 18        38.0  1174.0       1192.0     408.0       292.0      492.0   \n",
              "16  Team 17        36.0  1314.0       1255.0     390.0       330.0      535.0   \n",
              "19  Team 20        33.0  1020.0       1096.0     367.0       242.0      487.0   \n",
              "18  Team 19        27.0  1148.0        988.0     333.0       256.0      399.0   \n",
              "\n",
              "    BasketScored  BasketGiven  TournamentChampion  Runner-up TeamLaunch  \\\n",
              "0         5947.0       3140.0                33.0       23.0       1929   \n",
              "1         5900.0       3114.0                25.0       25.0       1929   \n",
              "2         4534.0       3309.0                10.0        8.0       1929   \n",
              "4         4631.0       3700.0                 8.0        7.0       1929   \n",
              "3         4398.0       3469.0                 6.0        6.0       1931   \n",
              "5         3680.0       3373.0                 1.0        4.0       1934   \n",
              "6         3609.0       3889.0                 NaN        NaN       1929   \n",
              "7         3228.0       3230.0                 2.0        3.0       1929   \n",
              "8         2683.0       2847.0                 NaN        1.0       1939   \n",
              "9         2159.0       2492.0                 1.0        NaN       1932   \n",
              "11        2278.0       2624.0                 NaN        NaN       1939   \n",
              "10        2052.0       2188.0                 1.0        5.0       1941   \n",
              "14        1753.0       2152.0                 NaN        1.0       1944   \n",
              "12        1767.0       2180.0                 NaN        NaN       1948   \n",
              "13        1843.0       2368.0                 NaN        1.0       1929   \n",
              "15        1500.0       1834.0                 NaN        NaN       1935   \n",
              "17        1642.0       1951.0                 NaN        NaN       1933   \n",
              "16        1421.0       1763.0                 NaN        NaN       1949   \n",
              "19        1347.0       1746.0                 NaN        1.0       1951   \n",
              "18        1182.0       1371.0                 NaN        NaN       1960   \n",
              "\n",
              "    HighestPositionHeld  prob win  prob lost  \n",
              "0                     1  0.596307   0.203838  \n",
              "1                     1  0.572411   0.220130  \n",
              "2                     1  0.474751   0.296480  \n",
              "4                     1  0.437726   0.333092  \n",
              "3                     1  0.445571   0.323198  \n",
              "5                     1  0.411130   0.368355  \n",
              "6                     3  0.361005   0.407464  \n",
              "7                     1  0.375326   0.374023  \n",
              "8                     2  0.351460   0.385700  \n",
              "9                     1  0.350694   0.394676  \n",
              "11                    4  0.345112   0.425795  \n",
              "10                    1  0.367974   0.375817  \n",
              "14                    2  0.323045   0.431413  \n",
              "12                    4  0.315825   0.422237  \n",
              "13                    2  0.317227   0.447479  \n",
              "15                    4  0.323217   0.428680  \n",
              "17                    3  0.342282   0.412752  \n",
              "16                    4  0.310757   0.426295  \n",
              "19                    2  0.334854   0.444343  \n",
              "18                    3  0.337045   0.403846  "
            ]
          },
          "execution_count": 1022,
          "metadata": {},
          "output_type": "execute_result"
        }
      ],
      "source": [
        "#sorting new top 20 performing teams after prob win and prob lost data after inclusion\n",
        "s_df_sort=s_df.sort_values(by='WonGames', ascending=False)\n",
        "top_teams_new=s_df_sort.head(20)\n",
        "top_teams_new"
      ]
    },
    {
      "cell_type": "code",
      "execution_count": null,
      "metadata": {
        "colab": {
          "base_uri": "https://localhost:8080/"
        },
        "id": "vsA4BfgDp822",
        "outputId": "5f7a5a9c-2dd0-448a-da2c-5a4cc405a177"
      },
      "outputs": [
        {
          "name": "stdout",
          "output_type": "stream",
          "text": [
            "0.596\n",
            "0    Team 1\n",
            "Name: Team, dtype: object\n"
          ]
        }
      ],
      "source": [
        "#maximum probability win\n",
        "prob_won=s_df['prob win'].max()\n",
        "win_team=s_df.Team[s_df['prob win']==s_df['prob win'].max()]\n",
        "print(round(prob_won,3))\n",
        "print(win_team)"
      ]
    },
    {
      "cell_type": "markdown",
      "metadata": {
        "id": "MbaY70FuBmlr"
      },
      "source": [
        "Here from the above results it is clear that Team 1 has 59.6% chances of winning based on experience, best practices and other relavent factors."
      ]
    },
    {
      "cell_type": "markdown",
      "metadata": {
        "id": "LafCefjqdDdR"
      },
      "source": [
        "**3. Please include any improvements or suggestions to the association management on quality, quantity, variety, velocity, veracity etc. on the data points collected by the association to perform a better data analysis in future. At-least 1 suggestion for each point.**\n",
        "\n",
        "**Quality**: Implementing data validation checks would be helpful in entering accurate datas. Example: Teamlaunch which had mixed data(1929-1932,1929to1932). Exact year entry would be helpful to avoid discrepancies.\n",
        "\n",
        "**Quantity**: expanding dataset such as including (average number of points per game) column, would enrich the dataset and will give more insights on the best performing team.\n",
        "\n",
        "**Variety**: Fans play a vital role in any sports, bringing in fan engagement data, ticket sales will give more holistic understanding on teams performaning based on fan base engagements.\n",
        "\n",
        "**Velocity**: Including real time data feeds will allow teams to strategically play and alert themselves like bring in subsitutions.\n",
        "\n",
        "**Veracity**: conduct regular quality assesments on the data set will be helpful in avoiding discrepancies in the dataset under study."
      ]
    },
    {
      "cell_type": "markdown",
      "metadata": {
        "id": "O-kGcDzdjn4k"
      },
      "source": [
        "\n",
        "\n",
        "# **Startup Ecosystem**"
      ]
    },
    {
      "cell_type": "markdown",
      "metadata": {
        "id": "MNCPciMAmBOr"
      },
      "source": [
        "### **1. Read the CSV file.**"
      ]
    },
    {
      "cell_type": "code",
      "execution_count": null,
      "metadata": {
        "id": "duFYZHmvjuzQ"
      },
      "outputs": [],
      "source": [
        "data=pd.read_csv('/content/drive/MyDrive/Colab Notebooks/CompanyX_EU.csv')"
      ]
    },
    {
      "cell_type": "code",
      "execution_count": null,
      "metadata": {
        "colab": {
          "base_uri": "https://localhost:8080/",
          "height": 206
        },
        "id": "dzAYD1dJlzfo",
        "outputId": "f97734b7-dcec-4b7b-a2d2-a6de8045e43b"
      },
      "outputs": [
        {
          "data": {
            "application/vnd.google.colaboratory.intrinsic+json": {
              "summary": "{\n  \"name\": \"data\",\n  \"rows\": 662,\n  \"fields\": [\n    {\n      \"column\": \"Startup\",\n      \"properties\": {\n        \"dtype\": \"string\",\n        \"num_unique_values\": 662,\n        \"samples\": [\n          \"Madbrook\",\n          \"Tonara\",\n          \"Sealtale\"\n        ],\n        \"semantic_type\": \"\",\n        \"description\": \"\"\n      }\n    },\n    {\n      \"column\": \"Product\",\n      \"properties\": {\n        \"dtype\": \"string\",\n        \"num_unique_values\": 656,\n        \"samples\": [\n          \"floored.com\",\n          \"instantapi.com\",\n          \"chompon.com\"\n        ],\n        \"semantic_type\": \"\",\n        \"description\": \"\"\n      }\n    },\n    {\n      \"column\": \"Funding\",\n      \"properties\": {\n        \"dtype\": \"category\",\n        \"num_unique_values\": 240,\n        \"samples\": [\n          \"$520K\",\n          \"$17.9K\",\n          \"$35.5M\"\n        ],\n        \"semantic_type\": \"\",\n        \"description\": \"\"\n      }\n    },\n    {\n      \"column\": \"Event\",\n      \"properties\": {\n        \"dtype\": \"category\",\n        \"num_unique_values\": 26,\n        \"samples\": [\n          \"TC50 2008\",\n          \"Disrupt NYC 2010\",\n          \"Disrupt SF 2013\"\n        ],\n        \"semantic_type\": \"\",\n        \"description\": \"\"\n      }\n    },\n    {\n      \"column\": \"Result\",\n      \"properties\": {\n        \"dtype\": \"category\",\n        \"num_unique_values\": 5,\n        \"samples\": [\n          \"Audience choice\",\n          \"Runner up\",\n          \"Finalist\"\n        ],\n        \"semantic_type\": \"\",\n        \"description\": \"\"\n      }\n    },\n    {\n      \"column\": \"OperatingState\",\n      \"properties\": {\n        \"dtype\": \"category\",\n        \"num_unique_values\": 4,\n        \"samples\": [\n          \"Closed\",\n          \"Ipo\",\n          \"Operating\"\n        ],\n        \"semantic_type\": \"\",\n        \"description\": \"\"\n      }\n    }\n  ]\n}",
              "type": "dataframe",
              "variable_name": "data"
            },
            "text/html": [
              "\n",
              "  <div id=\"df-d1c31acd-a55c-4d46-a195-be2040669c30\" class=\"colab-df-container\">\n",
              "    <div>\n",
              "<style scoped>\n",
              "    .dataframe tbody tr th:only-of-type {\n",
              "        vertical-align: middle;\n",
              "    }\n",
              "\n",
              "    .dataframe tbody tr th {\n",
              "        vertical-align: top;\n",
              "    }\n",
              "\n",
              "    .dataframe thead th {\n",
              "        text-align: right;\n",
              "    }\n",
              "</style>\n",
              "<table border=\"1\" class=\"dataframe\">\n",
              "  <thead>\n",
              "    <tr style=\"text-align: right;\">\n",
              "      <th></th>\n",
              "      <th>Startup</th>\n",
              "      <th>Product</th>\n",
              "      <th>Funding</th>\n",
              "      <th>Event</th>\n",
              "      <th>Result</th>\n",
              "      <th>OperatingState</th>\n",
              "    </tr>\n",
              "  </thead>\n",
              "  <tbody>\n",
              "    <tr>\n",
              "      <th>0</th>\n",
              "      <td>2600Hz</td>\n",
              "      <td>2600hz.com</td>\n",
              "      <td>NaN</td>\n",
              "      <td>Disrupt SF 2013</td>\n",
              "      <td>Contestant</td>\n",
              "      <td>Operating</td>\n",
              "    </tr>\n",
              "    <tr>\n",
              "      <th>1</th>\n",
              "      <td>3DLT</td>\n",
              "      <td>3dlt.com</td>\n",
              "      <td>$630K</td>\n",
              "      <td>Disrupt NYC 2013</td>\n",
              "      <td>Contestant</td>\n",
              "      <td>Closed</td>\n",
              "    </tr>\n",
              "    <tr>\n",
              "      <th>2</th>\n",
              "      <td>3DPrinterOS</td>\n",
              "      <td>3dprinteros.com</td>\n",
              "      <td>NaN</td>\n",
              "      <td>Disrupt SF 2016</td>\n",
              "      <td>Contestant</td>\n",
              "      <td>Operating</td>\n",
              "    </tr>\n",
              "    <tr>\n",
              "      <th>3</th>\n",
              "      <td>3Dprintler</td>\n",
              "      <td>3dprintler.com</td>\n",
              "      <td>$1M</td>\n",
              "      <td>Disrupt NY 2016</td>\n",
              "      <td>Audience choice</td>\n",
              "      <td>Operating</td>\n",
              "    </tr>\n",
              "    <tr>\n",
              "      <th>4</th>\n",
              "      <td>42 Technologies</td>\n",
              "      <td>42technologies.com</td>\n",
              "      <td>NaN</td>\n",
              "      <td>Disrupt NYC 2013</td>\n",
              "      <td>Contestant</td>\n",
              "      <td>Operating</td>\n",
              "    </tr>\n",
              "  </tbody>\n",
              "</table>\n",
              "</div>\n",
              "    <div class=\"colab-df-buttons\">\n",
              "\n",
              "  <div class=\"colab-df-container\">\n",
              "    <button class=\"colab-df-convert\" onclick=\"convertToInteractive('df-d1c31acd-a55c-4d46-a195-be2040669c30')\"\n",
              "            title=\"Convert this dataframe to an interactive table.\"\n",
              "            style=\"display:none;\">\n",
              "\n",
              "  <svg xmlns=\"http://www.w3.org/2000/svg\" height=\"24px\" viewBox=\"0 -960 960 960\">\n",
              "    <path d=\"M120-120v-720h720v720H120Zm60-500h600v-160H180v160Zm220 220h160v-160H400v160Zm0 220h160v-160H400v160ZM180-400h160v-160H180v160Zm440 0h160v-160H620v160ZM180-180h160v-160H180v160Zm440 0h160v-160H620v160Z\"/>\n",
              "  </svg>\n",
              "    </button>\n",
              "\n",
              "  <style>\n",
              "    .colab-df-container {\n",
              "      display:flex;\n",
              "      gap: 12px;\n",
              "    }\n",
              "\n",
              "    .colab-df-convert {\n",
              "      background-color: #E8F0FE;\n",
              "      border: none;\n",
              "      border-radius: 50%;\n",
              "      cursor: pointer;\n",
              "      display: none;\n",
              "      fill: #1967D2;\n",
              "      height: 32px;\n",
              "      padding: 0 0 0 0;\n",
              "      width: 32px;\n",
              "    }\n",
              "\n",
              "    .colab-df-convert:hover {\n",
              "      background-color: #E2EBFA;\n",
              "      box-shadow: 0px 1px 2px rgba(60, 64, 67, 0.3), 0px 1px 3px 1px rgba(60, 64, 67, 0.15);\n",
              "      fill: #174EA6;\n",
              "    }\n",
              "\n",
              "    .colab-df-buttons div {\n",
              "      margin-bottom: 4px;\n",
              "    }\n",
              "\n",
              "    [theme=dark] .colab-df-convert {\n",
              "      background-color: #3B4455;\n",
              "      fill: #D2E3FC;\n",
              "    }\n",
              "\n",
              "    [theme=dark] .colab-df-convert:hover {\n",
              "      background-color: #434B5C;\n",
              "      box-shadow: 0px 1px 3px 1px rgba(0, 0, 0, 0.15);\n",
              "      filter: drop-shadow(0px 1px 2px rgba(0, 0, 0, 0.3));\n",
              "      fill: #FFFFFF;\n",
              "    }\n",
              "  </style>\n",
              "\n",
              "    <script>\n",
              "      const buttonEl =\n",
              "        document.querySelector('#df-d1c31acd-a55c-4d46-a195-be2040669c30 button.colab-df-convert');\n",
              "      buttonEl.style.display =\n",
              "        google.colab.kernel.accessAllowed ? 'block' : 'none';\n",
              "\n",
              "      async function convertToInteractive(key) {\n",
              "        const element = document.querySelector('#df-d1c31acd-a55c-4d46-a195-be2040669c30');\n",
              "        const dataTable =\n",
              "          await google.colab.kernel.invokeFunction('convertToInteractive',\n",
              "                                                    [key], {});\n",
              "        if (!dataTable) return;\n",
              "\n",
              "        const docLinkHtml = 'Like what you see? Visit the ' +\n",
              "          '<a target=\"_blank\" href=https://colab.research.google.com/notebooks/data_table.ipynb>data table notebook</a>'\n",
              "          + ' to learn more about interactive tables.';\n",
              "        element.innerHTML = '';\n",
              "        dataTable['output_type'] = 'display_data';\n",
              "        await google.colab.output.renderOutput(dataTable, element);\n",
              "        const docLink = document.createElement('div');\n",
              "        docLink.innerHTML = docLinkHtml;\n",
              "        element.appendChild(docLink);\n",
              "      }\n",
              "    </script>\n",
              "  </div>\n",
              "\n",
              "\n",
              "<div id=\"df-9b625946-cc19-4316-be06-43a1d807ff2f\">\n",
              "  <button class=\"colab-df-quickchart\" onclick=\"quickchart('df-9b625946-cc19-4316-be06-43a1d807ff2f')\"\n",
              "            title=\"Suggest charts\"\n",
              "            style=\"display:none;\">\n",
              "\n",
              "<svg xmlns=\"http://www.w3.org/2000/svg\" height=\"24px\"viewBox=\"0 0 24 24\"\n",
              "     width=\"24px\">\n",
              "    <g>\n",
              "        <path d=\"M19 3H5c-1.1 0-2 .9-2 2v14c0 1.1.9 2 2 2h14c1.1 0 2-.9 2-2V5c0-1.1-.9-2-2-2zM9 17H7v-7h2v7zm4 0h-2V7h2v10zm4 0h-2v-4h2v4z\"/>\n",
              "    </g>\n",
              "</svg>\n",
              "  </button>\n",
              "\n",
              "<style>\n",
              "  .colab-df-quickchart {\n",
              "      --bg-color: #E8F0FE;\n",
              "      --fill-color: #1967D2;\n",
              "      --hover-bg-color: #E2EBFA;\n",
              "      --hover-fill-color: #174EA6;\n",
              "      --disabled-fill-color: #AAA;\n",
              "      --disabled-bg-color: #DDD;\n",
              "  }\n",
              "\n",
              "  [theme=dark] .colab-df-quickchart {\n",
              "      --bg-color: #3B4455;\n",
              "      --fill-color: #D2E3FC;\n",
              "      --hover-bg-color: #434B5C;\n",
              "      --hover-fill-color: #FFFFFF;\n",
              "      --disabled-bg-color: #3B4455;\n",
              "      --disabled-fill-color: #666;\n",
              "  }\n",
              "\n",
              "  .colab-df-quickchart {\n",
              "    background-color: var(--bg-color);\n",
              "    border: none;\n",
              "    border-radius: 50%;\n",
              "    cursor: pointer;\n",
              "    display: none;\n",
              "    fill: var(--fill-color);\n",
              "    height: 32px;\n",
              "    padding: 0;\n",
              "    width: 32px;\n",
              "  }\n",
              "\n",
              "  .colab-df-quickchart:hover {\n",
              "    background-color: var(--hover-bg-color);\n",
              "    box-shadow: 0 1px 2px rgba(60, 64, 67, 0.3), 0 1px 3px 1px rgba(60, 64, 67, 0.15);\n",
              "    fill: var(--button-hover-fill-color);\n",
              "  }\n",
              "\n",
              "  .colab-df-quickchart-complete:disabled,\n",
              "  .colab-df-quickchart-complete:disabled:hover {\n",
              "    background-color: var(--disabled-bg-color);\n",
              "    fill: var(--disabled-fill-color);\n",
              "    box-shadow: none;\n",
              "  }\n",
              "\n",
              "  .colab-df-spinner {\n",
              "    border: 2px solid var(--fill-color);\n",
              "    border-color: transparent;\n",
              "    border-bottom-color: var(--fill-color);\n",
              "    animation:\n",
              "      spin 1s steps(1) infinite;\n",
              "  }\n",
              "\n",
              "  @keyframes spin {\n",
              "    0% {\n",
              "      border-color: transparent;\n",
              "      border-bottom-color: var(--fill-color);\n",
              "      border-left-color: var(--fill-color);\n",
              "    }\n",
              "    20% {\n",
              "      border-color: transparent;\n",
              "      border-left-color: var(--fill-color);\n",
              "      border-top-color: var(--fill-color);\n",
              "    }\n",
              "    30% {\n",
              "      border-color: transparent;\n",
              "      border-left-color: var(--fill-color);\n",
              "      border-top-color: var(--fill-color);\n",
              "      border-right-color: var(--fill-color);\n",
              "    }\n",
              "    40% {\n",
              "      border-color: transparent;\n",
              "      border-right-color: var(--fill-color);\n",
              "      border-top-color: var(--fill-color);\n",
              "    }\n",
              "    60% {\n",
              "      border-color: transparent;\n",
              "      border-right-color: var(--fill-color);\n",
              "    }\n",
              "    80% {\n",
              "      border-color: transparent;\n",
              "      border-right-color: var(--fill-color);\n",
              "      border-bottom-color: var(--fill-color);\n",
              "    }\n",
              "    90% {\n",
              "      border-color: transparent;\n",
              "      border-bottom-color: var(--fill-color);\n",
              "    }\n",
              "  }\n",
              "</style>\n",
              "\n",
              "  <script>\n",
              "    async function quickchart(key) {\n",
              "      const quickchartButtonEl =\n",
              "        document.querySelector('#' + key + ' button');\n",
              "      quickchartButtonEl.disabled = true;  // To prevent multiple clicks.\n",
              "      quickchartButtonEl.classList.add('colab-df-spinner');\n",
              "      try {\n",
              "        const charts = await google.colab.kernel.invokeFunction(\n",
              "            'suggestCharts', [key], {});\n",
              "      } catch (error) {\n",
              "        console.error('Error during call to suggestCharts:', error);\n",
              "      }\n",
              "      quickchartButtonEl.classList.remove('colab-df-spinner');\n",
              "      quickchartButtonEl.classList.add('colab-df-quickchart-complete');\n",
              "    }\n",
              "    (() => {\n",
              "      let quickchartButtonEl =\n",
              "        document.querySelector('#df-9b625946-cc19-4316-be06-43a1d807ff2f button');\n",
              "      quickchartButtonEl.style.display =\n",
              "        google.colab.kernel.accessAllowed ? 'block' : 'none';\n",
              "    })();\n",
              "  </script>\n",
              "</div>\n",
              "\n",
              "    </div>\n",
              "  </div>\n"
            ],
            "text/plain": [
              "           Startup             Product Funding             Event  \\\n",
              "0           2600Hz          2600hz.com     NaN   Disrupt SF 2013   \n",
              "1             3DLT            3dlt.com   $630K  Disrupt NYC 2013   \n",
              "2      3DPrinterOS     3dprinteros.com     NaN   Disrupt SF 2016   \n",
              "3       3Dprintler      3dprintler.com     $1M   Disrupt NY 2016   \n",
              "4  42 Technologies  42technologies.com     NaN  Disrupt NYC 2013   \n",
              "\n",
              "            Result OperatingState  \n",
              "0       Contestant      Operating  \n",
              "1       Contestant         Closed  \n",
              "2       Contestant      Operating  \n",
              "3  Audience choice      Operating  \n",
              "4       Contestant      Operating  "
            ]
          },
          "execution_count": 1025,
          "metadata": {},
          "output_type": "execute_result"
        }
      ],
      "source": [
        "data.head() #first five rows"
      ]
    },
    {
      "cell_type": "code",
      "execution_count": null,
      "metadata": {
        "colab": {
          "base_uri": "https://localhost:8080/",
          "height": 206
        },
        "id": "Orr-XO63oVhl",
        "outputId": "a6013b1a-bff9-44f9-c6d9-a5f040daf46e"
      },
      "outputs": [
        {
          "data": {
            "application/vnd.google.colaboratory.intrinsic+json": {
              "summary": "{\n  \"name\": \"data\",\n  \"rows\": 5,\n  \"fields\": [\n    {\n      \"column\": \"Startup\",\n      \"properties\": {\n        \"dtype\": \"string\",\n        \"num_unique_values\": 5,\n        \"samples\": [\n          \"Zmorph\",\n          \"Zumper\",\n          \"Zocdoc\"\n        ],\n        \"semantic_type\": \"\",\n        \"description\": \"\"\n      }\n    },\n    {\n      \"column\": \"Product\",\n      \"properties\": {\n        \"dtype\": \"string\",\n        \"num_unique_values\": 5,\n        \"samples\": [\n          \"zmorph3d.com\",\n          \"zumper.com\",\n          \"zocdoc.com\"\n        ],\n        \"semantic_type\": \"\",\n        \"description\": \"\"\n      }\n    },\n    {\n      \"column\": \"Funding\",\n      \"properties\": {\n        \"dtype\": \"string\",\n        \"num_unique_values\": 5,\n        \"samples\": [\n          \"$1M\",\n          \"$31.5M\",\n          \"$223M\"\n        ],\n        \"semantic_type\": \"\",\n        \"description\": \"\"\n      }\n    },\n    {\n      \"column\": \"Event\",\n      \"properties\": {\n        \"dtype\": \"string\",\n        \"num_unique_values\": 4,\n        \"samples\": [\n          \"-\",\n          \"Disrupt SF 2012\",\n          \"TC40 2007\"\n        ],\n        \"semantic_type\": \"\",\n        \"description\": \"\"\n      }\n    },\n    {\n      \"column\": \"Result\",\n      \"properties\": {\n        \"dtype\": \"string\",\n        \"num_unique_values\": 3,\n        \"samples\": [\n          \"Contestant\",\n          \"Audience choice\",\n          \"Finalist\"\n        ],\n        \"semantic_type\": \"\",\n        \"description\": \"\"\n      }\n    },\n    {\n      \"column\": \"OperatingState\",\n      \"properties\": {\n        \"dtype\": \"category\",\n        \"num_unique_values\": 1,\n        \"samples\": [\n          \"Operating\"\n        ],\n        \"semantic_type\": \"\",\n        \"description\": \"\"\n      }\n    }\n  ]\n}",
              "type": "dataframe"
            },
            "text/html": [
              "\n",
              "  <div id=\"df-ff1208b3-fa9a-4947-a62a-877ffcaee623\" class=\"colab-df-container\">\n",
              "    <div>\n",
              "<style scoped>\n",
              "    .dataframe tbody tr th:only-of-type {\n",
              "        vertical-align: middle;\n",
              "    }\n",
              "\n",
              "    .dataframe tbody tr th {\n",
              "        vertical-align: top;\n",
              "    }\n",
              "\n",
              "    .dataframe thead th {\n",
              "        text-align: right;\n",
              "    }\n",
              "</style>\n",
              "<table border=\"1\" class=\"dataframe\">\n",
              "  <thead>\n",
              "    <tr style=\"text-align: right;\">\n",
              "      <th></th>\n",
              "      <th>Startup</th>\n",
              "      <th>Product</th>\n",
              "      <th>Funding</th>\n",
              "      <th>Event</th>\n",
              "      <th>Result</th>\n",
              "      <th>OperatingState</th>\n",
              "    </tr>\n",
              "  </thead>\n",
              "  <tbody>\n",
              "    <tr>\n",
              "      <th>657</th>\n",
              "      <td>Zivity</td>\n",
              "      <td>zivity.com</td>\n",
              "      <td>$8M</td>\n",
              "      <td>TC40 2007</td>\n",
              "      <td>Contestant</td>\n",
              "      <td>Operating</td>\n",
              "    </tr>\n",
              "    <tr>\n",
              "      <th>658</th>\n",
              "      <td>Zmorph</td>\n",
              "      <td>zmorph3d.com</td>\n",
              "      <td>$1M</td>\n",
              "      <td>-</td>\n",
              "      <td>Audience choice</td>\n",
              "      <td>Operating</td>\n",
              "    </tr>\n",
              "    <tr>\n",
              "      <th>659</th>\n",
              "      <td>Zocdoc</td>\n",
              "      <td>zocdoc.com</td>\n",
              "      <td>$223M</td>\n",
              "      <td>TC40 2007</td>\n",
              "      <td>Contestant</td>\n",
              "      <td>Operating</td>\n",
              "    </tr>\n",
              "    <tr>\n",
              "      <th>660</th>\n",
              "      <td>Zula</td>\n",
              "      <td>zulaapp.com</td>\n",
              "      <td>$3.4M</td>\n",
              "      <td>Disrupt SF 2013</td>\n",
              "      <td>Audience choice</td>\n",
              "      <td>Operating</td>\n",
              "    </tr>\n",
              "    <tr>\n",
              "      <th>661</th>\n",
              "      <td>Zumper</td>\n",
              "      <td>zumper.com</td>\n",
              "      <td>$31.5M</td>\n",
              "      <td>Disrupt SF 2012</td>\n",
              "      <td>Finalist</td>\n",
              "      <td>Operating</td>\n",
              "    </tr>\n",
              "  </tbody>\n",
              "</table>\n",
              "</div>\n",
              "    <div class=\"colab-df-buttons\">\n",
              "\n",
              "  <div class=\"colab-df-container\">\n",
              "    <button class=\"colab-df-convert\" onclick=\"convertToInteractive('df-ff1208b3-fa9a-4947-a62a-877ffcaee623')\"\n",
              "            title=\"Convert this dataframe to an interactive table.\"\n",
              "            style=\"display:none;\">\n",
              "\n",
              "  <svg xmlns=\"http://www.w3.org/2000/svg\" height=\"24px\" viewBox=\"0 -960 960 960\">\n",
              "    <path d=\"M120-120v-720h720v720H120Zm60-500h600v-160H180v160Zm220 220h160v-160H400v160Zm0 220h160v-160H400v160ZM180-400h160v-160H180v160Zm440 0h160v-160H620v160ZM180-180h160v-160H180v160Zm440 0h160v-160H620v160Z\"/>\n",
              "  </svg>\n",
              "    </button>\n",
              "\n",
              "  <style>\n",
              "    .colab-df-container {\n",
              "      display:flex;\n",
              "      gap: 12px;\n",
              "    }\n",
              "\n",
              "    .colab-df-convert {\n",
              "      background-color: #E8F0FE;\n",
              "      border: none;\n",
              "      border-radius: 50%;\n",
              "      cursor: pointer;\n",
              "      display: none;\n",
              "      fill: #1967D2;\n",
              "      height: 32px;\n",
              "      padding: 0 0 0 0;\n",
              "      width: 32px;\n",
              "    }\n",
              "\n",
              "    .colab-df-convert:hover {\n",
              "      background-color: #E2EBFA;\n",
              "      box-shadow: 0px 1px 2px rgba(60, 64, 67, 0.3), 0px 1px 3px 1px rgba(60, 64, 67, 0.15);\n",
              "      fill: #174EA6;\n",
              "    }\n",
              "\n",
              "    .colab-df-buttons div {\n",
              "      margin-bottom: 4px;\n",
              "    }\n",
              "\n",
              "    [theme=dark] .colab-df-convert {\n",
              "      background-color: #3B4455;\n",
              "      fill: #D2E3FC;\n",
              "    }\n",
              "\n",
              "    [theme=dark] .colab-df-convert:hover {\n",
              "      background-color: #434B5C;\n",
              "      box-shadow: 0px 1px 3px 1px rgba(0, 0, 0, 0.15);\n",
              "      filter: drop-shadow(0px 1px 2px rgba(0, 0, 0, 0.3));\n",
              "      fill: #FFFFFF;\n",
              "    }\n",
              "  </style>\n",
              "\n",
              "    <script>\n",
              "      const buttonEl =\n",
              "        document.querySelector('#df-ff1208b3-fa9a-4947-a62a-877ffcaee623 button.colab-df-convert');\n",
              "      buttonEl.style.display =\n",
              "        google.colab.kernel.accessAllowed ? 'block' : 'none';\n",
              "\n",
              "      async function convertToInteractive(key) {\n",
              "        const element = document.querySelector('#df-ff1208b3-fa9a-4947-a62a-877ffcaee623');\n",
              "        const dataTable =\n",
              "          await google.colab.kernel.invokeFunction('convertToInteractive',\n",
              "                                                    [key], {});\n",
              "        if (!dataTable) return;\n",
              "\n",
              "        const docLinkHtml = 'Like what you see? Visit the ' +\n",
              "          '<a target=\"_blank\" href=https://colab.research.google.com/notebooks/data_table.ipynb>data table notebook</a>'\n",
              "          + ' to learn more about interactive tables.';\n",
              "        element.innerHTML = '';\n",
              "        dataTable['output_type'] = 'display_data';\n",
              "        await google.colab.output.renderOutput(dataTable, element);\n",
              "        const docLink = document.createElement('div');\n",
              "        docLink.innerHTML = docLinkHtml;\n",
              "        element.appendChild(docLink);\n",
              "      }\n",
              "    </script>\n",
              "  </div>\n",
              "\n",
              "\n",
              "<div id=\"df-0380c7ad-8c18-49ba-afa5-798fff3e7350\">\n",
              "  <button class=\"colab-df-quickchart\" onclick=\"quickchart('df-0380c7ad-8c18-49ba-afa5-798fff3e7350')\"\n",
              "            title=\"Suggest charts\"\n",
              "            style=\"display:none;\">\n",
              "\n",
              "<svg xmlns=\"http://www.w3.org/2000/svg\" height=\"24px\"viewBox=\"0 0 24 24\"\n",
              "     width=\"24px\">\n",
              "    <g>\n",
              "        <path d=\"M19 3H5c-1.1 0-2 .9-2 2v14c0 1.1.9 2 2 2h14c1.1 0 2-.9 2-2V5c0-1.1-.9-2-2-2zM9 17H7v-7h2v7zm4 0h-2V7h2v10zm4 0h-2v-4h2v4z\"/>\n",
              "    </g>\n",
              "</svg>\n",
              "  </button>\n",
              "\n",
              "<style>\n",
              "  .colab-df-quickchart {\n",
              "      --bg-color: #E8F0FE;\n",
              "      --fill-color: #1967D2;\n",
              "      --hover-bg-color: #E2EBFA;\n",
              "      --hover-fill-color: #174EA6;\n",
              "      --disabled-fill-color: #AAA;\n",
              "      --disabled-bg-color: #DDD;\n",
              "  }\n",
              "\n",
              "  [theme=dark] .colab-df-quickchart {\n",
              "      --bg-color: #3B4455;\n",
              "      --fill-color: #D2E3FC;\n",
              "      --hover-bg-color: #434B5C;\n",
              "      --hover-fill-color: #FFFFFF;\n",
              "      --disabled-bg-color: #3B4455;\n",
              "      --disabled-fill-color: #666;\n",
              "  }\n",
              "\n",
              "  .colab-df-quickchart {\n",
              "    background-color: var(--bg-color);\n",
              "    border: none;\n",
              "    border-radius: 50%;\n",
              "    cursor: pointer;\n",
              "    display: none;\n",
              "    fill: var(--fill-color);\n",
              "    height: 32px;\n",
              "    padding: 0;\n",
              "    width: 32px;\n",
              "  }\n",
              "\n",
              "  .colab-df-quickchart:hover {\n",
              "    background-color: var(--hover-bg-color);\n",
              "    box-shadow: 0 1px 2px rgba(60, 64, 67, 0.3), 0 1px 3px 1px rgba(60, 64, 67, 0.15);\n",
              "    fill: var(--button-hover-fill-color);\n",
              "  }\n",
              "\n",
              "  .colab-df-quickchart-complete:disabled,\n",
              "  .colab-df-quickchart-complete:disabled:hover {\n",
              "    background-color: var(--disabled-bg-color);\n",
              "    fill: var(--disabled-fill-color);\n",
              "    box-shadow: none;\n",
              "  }\n",
              "\n",
              "  .colab-df-spinner {\n",
              "    border: 2px solid var(--fill-color);\n",
              "    border-color: transparent;\n",
              "    border-bottom-color: var(--fill-color);\n",
              "    animation:\n",
              "      spin 1s steps(1) infinite;\n",
              "  }\n",
              "\n",
              "  @keyframes spin {\n",
              "    0% {\n",
              "      border-color: transparent;\n",
              "      border-bottom-color: var(--fill-color);\n",
              "      border-left-color: var(--fill-color);\n",
              "    }\n",
              "    20% {\n",
              "      border-color: transparent;\n",
              "      border-left-color: var(--fill-color);\n",
              "      border-top-color: var(--fill-color);\n",
              "    }\n",
              "    30% {\n",
              "      border-color: transparent;\n",
              "      border-left-color: var(--fill-color);\n",
              "      border-top-color: var(--fill-color);\n",
              "      border-right-color: var(--fill-color);\n",
              "    }\n",
              "    40% {\n",
              "      border-color: transparent;\n",
              "      border-right-color: var(--fill-color);\n",
              "      border-top-color: var(--fill-color);\n",
              "    }\n",
              "    60% {\n",
              "      border-color: transparent;\n",
              "      border-right-color: var(--fill-color);\n",
              "    }\n",
              "    80% {\n",
              "      border-color: transparent;\n",
              "      border-right-color: var(--fill-color);\n",
              "      border-bottom-color: var(--fill-color);\n",
              "    }\n",
              "    90% {\n",
              "      border-color: transparent;\n",
              "      border-bottom-color: var(--fill-color);\n",
              "    }\n",
              "  }\n",
              "</style>\n",
              "\n",
              "  <script>\n",
              "    async function quickchart(key) {\n",
              "      const quickchartButtonEl =\n",
              "        document.querySelector('#' + key + ' button');\n",
              "      quickchartButtonEl.disabled = true;  // To prevent multiple clicks.\n",
              "      quickchartButtonEl.classList.add('colab-df-spinner');\n",
              "      try {\n",
              "        const charts = await google.colab.kernel.invokeFunction(\n",
              "            'suggestCharts', [key], {});\n",
              "      } catch (error) {\n",
              "        console.error('Error during call to suggestCharts:', error);\n",
              "      }\n",
              "      quickchartButtonEl.classList.remove('colab-df-spinner');\n",
              "      quickchartButtonEl.classList.add('colab-df-quickchart-complete');\n",
              "    }\n",
              "    (() => {\n",
              "      let quickchartButtonEl =\n",
              "        document.querySelector('#df-0380c7ad-8c18-49ba-afa5-798fff3e7350 button');\n",
              "      quickchartButtonEl.style.display =\n",
              "        google.colab.kernel.accessAllowed ? 'block' : 'none';\n",
              "    })();\n",
              "  </script>\n",
              "</div>\n",
              "\n",
              "    </div>\n",
              "  </div>\n"
            ],
            "text/plain": [
              "    Startup       Product Funding            Event           Result  \\\n",
              "657  Zivity    zivity.com     $8M        TC40 2007       Contestant   \n",
              "658  Zmorph  zmorph3d.com     $1M                -  Audience choice   \n",
              "659  Zocdoc    zocdoc.com   $223M        TC40 2007       Contestant   \n",
              "660    Zula   zulaapp.com   $3.4M  Disrupt SF 2013  Audience choice   \n",
              "661  Zumper    zumper.com  $31.5M  Disrupt SF 2012         Finalist   \n",
              "\n",
              "    OperatingState  \n",
              "657      Operating  \n",
              "658      Operating  \n",
              "659      Operating  \n",
              "660      Operating  \n",
              "661      Operating  "
            ]
          },
          "execution_count": 1026,
          "metadata": {},
          "output_type": "execute_result"
        }
      ],
      "source": [
        "data.tail() #last 5rows"
      ]
    },
    {
      "cell_type": "code",
      "execution_count": null,
      "metadata": {
        "colab": {
          "base_uri": "https://localhost:8080/"
        },
        "id": "haRRQD2il3QE",
        "outputId": "f17e3210-be0d-431e-d276-7c79ec9f8a08"
      },
      "outputs": [
        {
          "data": {
            "text/plain": [
              "(662, 6)"
            ]
          },
          "execution_count": 1027,
          "metadata": {},
          "output_type": "execute_result"
        }
      ],
      "source": [
        "data.shape #getting no.of rows and columns"
      ]
    },
    {
      "cell_type": "markdown",
      "metadata": {
        "id": "jsPi6zOumLDM"
      },
      "source": [
        "##### **2. Data Exploration:**\n",
        "\n",
        "##### **A. Check the datatypes of each attribute.**\n",
        "\n",
        "##### **B. Check for null values in the attributes**"
      ]
    },
    {
      "cell_type": "code",
      "execution_count": null,
      "metadata": {
        "colab": {
          "base_uri": "https://localhost:8080/"
        },
        "id": "CmTXPCMKl7ui",
        "outputId": "13dfb5e9-7c65-449d-e68a-563c185aa9ef"
      },
      "outputs": [
        {
          "data": {
            "text/plain": [
              "Startup           object\n",
              "Product           object\n",
              "Funding           object\n",
              "Event             object\n",
              "Result            object\n",
              "OperatingState    object\n",
              "dtype: object"
            ]
          },
          "execution_count": 1028,
          "metadata": {},
          "output_type": "execute_result"
        }
      ],
      "source": [
        "data.dtypes # checking the datatypes of each attribute"
      ]
    },
    {
      "cell_type": "markdown",
      "metadata": {
        "id": "sBvThih3o3jY"
      },
      "source": [
        "**3.Data preprocessing & visualisation:**"
      ]
    },
    {
      "cell_type": "markdown",
      "metadata": {
        "id": "b4lcZRG9o9Aj"
      },
      "source": [
        "**A. Drop the null values.**"
      ]
    },
    {
      "cell_type": "code",
      "execution_count": null,
      "metadata": {
        "id": "SRX1WhWRnAZF"
      },
      "outputs": [],
      "source": [
        "df1=data.dropna().copy() # drop the null values in the rows where Funding raised data is not available\n"
      ]
    },
    {
      "cell_type": "markdown",
      "metadata": {
        "id": "RnIGwz1Cozoe"
      },
      "source": [
        "**B.Convert the ‘Funding’ features to a numerical value.**"
      ]
    },
    {
      "cell_type": "code",
      "execution_count": null,
      "metadata": {
        "id": "meLXGHMdos8y"
      },
      "outputs": [],
      "source": [
        "#since the funding feature is in object type, convert them into numerical value (float type) and a new column is created\n",
        "\n",
        "df1.loc[:,'Funds_in_million'] = df1['Funding'].apply(lambda x: float(x[1:-1])/1000 if x[-1] == 'K' else (float(x[1:-1])*1000 if x[-1] == 'B' else float(x[1:-1])))"
      ]
    },
    {
      "cell_type": "code",
      "execution_count": null,
      "metadata": {
        "colab": {
          "base_uri": "https://localhost:8080/"
        },
        "id": "fYPp8zl8pc6e",
        "outputId": "721fe20c-a49b-46fb-ac45-6e7ff3e96c2b"
      },
      "outputs": [
        {
          "data": {
            "text/plain": [
              "Startup              object\n",
              "Product              object\n",
              "Funding              object\n",
              "Event                object\n",
              "Result               object\n",
              "OperatingState       object\n",
              "Funds_in_million    float64\n",
              "dtype: object"
            ]
          },
          "execution_count": 1031,
          "metadata": {},
          "output_type": "execute_result"
        }
      ],
      "source": [
        "df1.dtypes"
      ]
    },
    {
      "cell_type": "code",
      "execution_count": null,
      "metadata": {
        "colab": {
          "base_uri": "https://localhost:8080/",
          "height": 206
        },
        "id": "Bbj_KnBCqN4P",
        "outputId": "1dffe1e2-7952-4218-8f93-515474a6c5fe"
      },
      "outputs": [
        {
          "data": {
            "application/vnd.google.colaboratory.intrinsic+json": {
              "summary": "{\n  \"name\": \"df1\",\n  \"rows\": 5,\n  \"fields\": [\n    {\n      \"column\": \"Startup\",\n      \"properties\": {\n        \"dtype\": \"string\",\n        \"num_unique_values\": 5,\n        \"samples\": [\n          \"ClientShow\",\n          \"Tingz\",\n          \"Rex Animal Health\"\n        ],\n        \"semantic_type\": \"\",\n        \"description\": \"\"\n      }\n    },\n    {\n      \"column\": \"Product\",\n      \"properties\": {\n        \"dtype\": \"string\",\n        \"num_unique_values\": 5,\n        \"samples\": [\n          \"clientshow.com\",\n          \"tingz.net\",\n          \"rexanimalhealth.com\"\n        ],\n        \"semantic_type\": \"\",\n        \"description\": \"\"\n      }\n    },\n    {\n      \"column\": \"Funding\",\n      \"properties\": {\n        \"dtype\": \"string\",\n        \"num_unique_values\": 5,\n        \"samples\": [\n          \"$750K\",\n          \"$280K\",\n          \"$145K\"\n        ],\n        \"semantic_type\": \"\",\n        \"description\": \"\"\n      }\n    },\n    {\n      \"column\": \"Event\",\n      \"properties\": {\n        \"dtype\": \"string\",\n        \"num_unique_values\": 5,\n        \"samples\": [\n          \"TC50 2009\",\n          \"TC50 2008\",\n          \"Disrupt SF 2016\"\n        ],\n        \"semantic_type\": \"\",\n        \"description\": \"\"\n      }\n    },\n    {\n      \"column\": \"Result\",\n      \"properties\": {\n        \"dtype\": \"category\",\n        \"num_unique_values\": 1,\n        \"samples\": [\n          \"Contestant\"\n        ],\n        \"semantic_type\": \"\",\n        \"description\": \"\"\n      }\n    },\n    {\n      \"column\": \"OperatingState\",\n      \"properties\": {\n        \"dtype\": \"category\",\n        \"num_unique_values\": 2,\n        \"samples\": [\n          \"Closed\"\n        ],\n        \"semantic_type\": \"\",\n        \"description\": \"\"\n      }\n    },\n    {\n      \"column\": \"Funds_in_million\",\n      \"properties\": {\n        \"dtype\": \"number\",\n        \"std\": 0.637534312802064,\n        \"min\": 0.145,\n        \"max\": 1.7,\n        \"num_unique_values\": 5,\n        \"samples\": [\n          0.75\n        ],\n        \"semantic_type\": \"\",\n        \"description\": \"\"\n      }\n    }\n  ]\n}",
              "type": "dataframe"
            },
            "text/html": [
              "\n",
              "  <div id=\"df-0423fd63-f68a-4eb0-9b89-b26621f5b634\" class=\"colab-df-container\">\n",
              "    <div>\n",
              "<style scoped>\n",
              "    .dataframe tbody tr th:only-of-type {\n",
              "        vertical-align: middle;\n",
              "    }\n",
              "\n",
              "    .dataframe tbody tr th {\n",
              "        vertical-align: top;\n",
              "    }\n",
              "\n",
              "    .dataframe thead th {\n",
              "        text-align: right;\n",
              "    }\n",
              "</style>\n",
              "<table border=\"1\" class=\"dataframe\">\n",
              "  <thead>\n",
              "    <tr style=\"text-align: right;\">\n",
              "      <th></th>\n",
              "      <th>Startup</th>\n",
              "      <th>Product</th>\n",
              "      <th>Funding</th>\n",
              "      <th>Event</th>\n",
              "      <th>Result</th>\n",
              "      <th>OperatingState</th>\n",
              "      <th>Funds_in_million</th>\n",
              "    </tr>\n",
              "  </thead>\n",
              "  <tbody>\n",
              "    <tr>\n",
              "      <th>54</th>\n",
              "      <td>BeFunky</td>\n",
              "      <td>befunky.com</td>\n",
              "      <td>$1.7M</td>\n",
              "      <td>TC40 2007</td>\n",
              "      <td>Contestant</td>\n",
              "      <td>Operating</td>\n",
              "      <td>1.700</td>\n",
              "    </tr>\n",
              "    <tr>\n",
              "      <th>110</th>\n",
              "      <td>ClientShow</td>\n",
              "      <td>clientshow.com</td>\n",
              "      <td>$750K</td>\n",
              "      <td>TC50 2009</td>\n",
              "      <td>Contestant</td>\n",
              "      <td>Closed</td>\n",
              "      <td>0.750</td>\n",
              "    </tr>\n",
              "    <tr>\n",
              "      <th>454</th>\n",
              "      <td>Rex Animal Health</td>\n",
              "      <td>rexanimalhealth.com</td>\n",
              "      <td>$145K</td>\n",
              "      <td>Disrupt SF 2016</td>\n",
              "      <td>Contestant</td>\n",
              "      <td>Operating</td>\n",
              "      <td>0.145</td>\n",
              "    </tr>\n",
              "    <tr>\n",
              "      <th>329</th>\n",
              "      <td>Mainframe</td>\n",
              "      <td>mainframe.co</td>\n",
              "      <td>$300K</td>\n",
              "      <td>Disrupt London 2015</td>\n",
              "      <td>Contestant</td>\n",
              "      <td>Operating</td>\n",
              "      <td>0.300</td>\n",
              "    </tr>\n",
              "    <tr>\n",
              "      <th>577</th>\n",
              "      <td>Tingz</td>\n",
              "      <td>tingz.net</td>\n",
              "      <td>$280K</td>\n",
              "      <td>TC50 2008</td>\n",
              "      <td>Contestant</td>\n",
              "      <td>Closed</td>\n",
              "      <td>0.280</td>\n",
              "    </tr>\n",
              "  </tbody>\n",
              "</table>\n",
              "</div>\n",
              "    <div class=\"colab-df-buttons\">\n",
              "\n",
              "  <div class=\"colab-df-container\">\n",
              "    <button class=\"colab-df-convert\" onclick=\"convertToInteractive('df-0423fd63-f68a-4eb0-9b89-b26621f5b634')\"\n",
              "            title=\"Convert this dataframe to an interactive table.\"\n",
              "            style=\"display:none;\">\n",
              "\n",
              "  <svg xmlns=\"http://www.w3.org/2000/svg\" height=\"24px\" viewBox=\"0 -960 960 960\">\n",
              "    <path d=\"M120-120v-720h720v720H120Zm60-500h600v-160H180v160Zm220 220h160v-160H400v160Zm0 220h160v-160H400v160ZM180-400h160v-160H180v160Zm440 0h160v-160H620v160ZM180-180h160v-160H180v160Zm440 0h160v-160H620v160Z\"/>\n",
              "  </svg>\n",
              "    </button>\n",
              "\n",
              "  <style>\n",
              "    .colab-df-container {\n",
              "      display:flex;\n",
              "      gap: 12px;\n",
              "    }\n",
              "\n",
              "    .colab-df-convert {\n",
              "      background-color: #E8F0FE;\n",
              "      border: none;\n",
              "      border-radius: 50%;\n",
              "      cursor: pointer;\n",
              "      display: none;\n",
              "      fill: #1967D2;\n",
              "      height: 32px;\n",
              "      padding: 0 0 0 0;\n",
              "      width: 32px;\n",
              "    }\n",
              "\n",
              "    .colab-df-convert:hover {\n",
              "      background-color: #E2EBFA;\n",
              "      box-shadow: 0px 1px 2px rgba(60, 64, 67, 0.3), 0px 1px 3px 1px rgba(60, 64, 67, 0.15);\n",
              "      fill: #174EA6;\n",
              "    }\n",
              "\n",
              "    .colab-df-buttons div {\n",
              "      margin-bottom: 4px;\n",
              "    }\n",
              "\n",
              "    [theme=dark] .colab-df-convert {\n",
              "      background-color: #3B4455;\n",
              "      fill: #D2E3FC;\n",
              "    }\n",
              "\n",
              "    [theme=dark] .colab-df-convert:hover {\n",
              "      background-color: #434B5C;\n",
              "      box-shadow: 0px 1px 3px 1px rgba(0, 0, 0, 0.15);\n",
              "      filter: drop-shadow(0px 1px 2px rgba(0, 0, 0, 0.3));\n",
              "      fill: #FFFFFF;\n",
              "    }\n",
              "  </style>\n",
              "\n",
              "    <script>\n",
              "      const buttonEl =\n",
              "        document.querySelector('#df-0423fd63-f68a-4eb0-9b89-b26621f5b634 button.colab-df-convert');\n",
              "      buttonEl.style.display =\n",
              "        google.colab.kernel.accessAllowed ? 'block' : 'none';\n",
              "\n",
              "      async function convertToInteractive(key) {\n",
              "        const element = document.querySelector('#df-0423fd63-f68a-4eb0-9b89-b26621f5b634');\n",
              "        const dataTable =\n",
              "          await google.colab.kernel.invokeFunction('convertToInteractive',\n",
              "                                                    [key], {});\n",
              "        if (!dataTable) return;\n",
              "\n",
              "        const docLinkHtml = 'Like what you see? Visit the ' +\n",
              "          '<a target=\"_blank\" href=https://colab.research.google.com/notebooks/data_table.ipynb>data table notebook</a>'\n",
              "          + ' to learn more about interactive tables.';\n",
              "        element.innerHTML = '';\n",
              "        dataTable['output_type'] = 'display_data';\n",
              "        await google.colab.output.renderOutput(dataTable, element);\n",
              "        const docLink = document.createElement('div');\n",
              "        docLink.innerHTML = docLinkHtml;\n",
              "        element.appendChild(docLink);\n",
              "      }\n",
              "    </script>\n",
              "  </div>\n",
              "\n",
              "\n",
              "<div id=\"df-51e2bbe7-fae6-4175-bd05-3132906c2af5\">\n",
              "  <button class=\"colab-df-quickchart\" onclick=\"quickchart('df-51e2bbe7-fae6-4175-bd05-3132906c2af5')\"\n",
              "            title=\"Suggest charts\"\n",
              "            style=\"display:none;\">\n",
              "\n",
              "<svg xmlns=\"http://www.w3.org/2000/svg\" height=\"24px\"viewBox=\"0 0 24 24\"\n",
              "     width=\"24px\">\n",
              "    <g>\n",
              "        <path d=\"M19 3H5c-1.1 0-2 .9-2 2v14c0 1.1.9 2 2 2h14c1.1 0 2-.9 2-2V5c0-1.1-.9-2-2-2zM9 17H7v-7h2v7zm4 0h-2V7h2v10zm4 0h-2v-4h2v4z\"/>\n",
              "    </g>\n",
              "</svg>\n",
              "  </button>\n",
              "\n",
              "<style>\n",
              "  .colab-df-quickchart {\n",
              "      --bg-color: #E8F0FE;\n",
              "      --fill-color: #1967D2;\n",
              "      --hover-bg-color: #E2EBFA;\n",
              "      --hover-fill-color: #174EA6;\n",
              "      --disabled-fill-color: #AAA;\n",
              "      --disabled-bg-color: #DDD;\n",
              "  }\n",
              "\n",
              "  [theme=dark] .colab-df-quickchart {\n",
              "      --bg-color: #3B4455;\n",
              "      --fill-color: #D2E3FC;\n",
              "      --hover-bg-color: #434B5C;\n",
              "      --hover-fill-color: #FFFFFF;\n",
              "      --disabled-bg-color: #3B4455;\n",
              "      --disabled-fill-color: #666;\n",
              "  }\n",
              "\n",
              "  .colab-df-quickchart {\n",
              "    background-color: var(--bg-color);\n",
              "    border: none;\n",
              "    border-radius: 50%;\n",
              "    cursor: pointer;\n",
              "    display: none;\n",
              "    fill: var(--fill-color);\n",
              "    height: 32px;\n",
              "    padding: 0;\n",
              "    width: 32px;\n",
              "  }\n",
              "\n",
              "  .colab-df-quickchart:hover {\n",
              "    background-color: var(--hover-bg-color);\n",
              "    box-shadow: 0 1px 2px rgba(60, 64, 67, 0.3), 0 1px 3px 1px rgba(60, 64, 67, 0.15);\n",
              "    fill: var(--button-hover-fill-color);\n",
              "  }\n",
              "\n",
              "  .colab-df-quickchart-complete:disabled,\n",
              "  .colab-df-quickchart-complete:disabled:hover {\n",
              "    background-color: var(--disabled-bg-color);\n",
              "    fill: var(--disabled-fill-color);\n",
              "    box-shadow: none;\n",
              "  }\n",
              "\n",
              "  .colab-df-spinner {\n",
              "    border: 2px solid var(--fill-color);\n",
              "    border-color: transparent;\n",
              "    border-bottom-color: var(--fill-color);\n",
              "    animation:\n",
              "      spin 1s steps(1) infinite;\n",
              "  }\n",
              "\n",
              "  @keyframes spin {\n",
              "    0% {\n",
              "      border-color: transparent;\n",
              "      border-bottom-color: var(--fill-color);\n",
              "      border-left-color: var(--fill-color);\n",
              "    }\n",
              "    20% {\n",
              "      border-color: transparent;\n",
              "      border-left-color: var(--fill-color);\n",
              "      border-top-color: var(--fill-color);\n",
              "    }\n",
              "    30% {\n",
              "      border-color: transparent;\n",
              "      border-left-color: var(--fill-color);\n",
              "      border-top-color: var(--fill-color);\n",
              "      border-right-color: var(--fill-color);\n",
              "    }\n",
              "    40% {\n",
              "      border-color: transparent;\n",
              "      border-right-color: var(--fill-color);\n",
              "      border-top-color: var(--fill-color);\n",
              "    }\n",
              "    60% {\n",
              "      border-color: transparent;\n",
              "      border-right-color: var(--fill-color);\n",
              "    }\n",
              "    80% {\n",
              "      border-color: transparent;\n",
              "      border-right-color: var(--fill-color);\n",
              "      border-bottom-color: var(--fill-color);\n",
              "    }\n",
              "    90% {\n",
              "      border-color: transparent;\n",
              "      border-bottom-color: var(--fill-color);\n",
              "    }\n",
              "  }\n",
              "</style>\n",
              "\n",
              "  <script>\n",
              "    async function quickchart(key) {\n",
              "      const quickchartButtonEl =\n",
              "        document.querySelector('#' + key + ' button');\n",
              "      quickchartButtonEl.disabled = true;  // To prevent multiple clicks.\n",
              "      quickchartButtonEl.classList.add('colab-df-spinner');\n",
              "      try {\n",
              "        const charts = await google.colab.kernel.invokeFunction(\n",
              "            'suggestCharts', [key], {});\n",
              "      } catch (error) {\n",
              "        console.error('Error during call to suggestCharts:', error);\n",
              "      }\n",
              "      quickchartButtonEl.classList.remove('colab-df-spinner');\n",
              "      quickchartButtonEl.classList.add('colab-df-quickchart-complete');\n",
              "    }\n",
              "    (() => {\n",
              "      let quickchartButtonEl =\n",
              "        document.querySelector('#df-51e2bbe7-fae6-4175-bd05-3132906c2af5 button');\n",
              "      quickchartButtonEl.style.display =\n",
              "        google.colab.kernel.accessAllowed ? 'block' : 'none';\n",
              "    })();\n",
              "  </script>\n",
              "</div>\n",
              "\n",
              "    </div>\n",
              "  </div>\n"
            ],
            "text/plain": [
              "               Startup              Product Funding                Event  \\\n",
              "54             BeFunky          befunky.com   $1.7M            TC40 2007   \n",
              "110         ClientShow       clientshow.com   $750K            TC50 2009   \n",
              "454  Rex Animal Health  rexanimalhealth.com   $145K      Disrupt SF 2016   \n",
              "329          Mainframe         mainframe.co   $300K  Disrupt London 2015   \n",
              "577              Tingz            tingz.net   $280K            TC50 2008   \n",
              "\n",
              "         Result OperatingState  Funds_in_million  \n",
              "54   Contestant      Operating             1.700  \n",
              "110  Contestant         Closed             0.750  \n",
              "454  Contestant      Operating             0.145  \n",
              "329  Contestant      Operating             0.300  \n",
              "577  Contestant         Closed             0.280  "
            ]
          },
          "execution_count": 1032,
          "metadata": {},
          "output_type": "execute_result"
        }
      ],
      "source": [
        "# to check funds in million column print any number of required sample, say 5\n",
        "df1.sample(5) # check if the Fund in million is in float type, take random 5 sample"
      ]
    },
    {
      "cell_type": "markdown",
      "metadata": {
        "id": "8_yYym9qpWDG"
      },
      "source": [
        "**C. Plot box plot for funds in million.**"
      ]
    },
    {
      "cell_type": "code",
      "execution_count": null,
      "metadata": {
        "colab": {
          "base_uri": "https://localhost:8080/",
          "height": 452
        },
        "id": "4M-YMltCpVaF",
        "outputId": "7079bbd3-c033-4f96-d2b5-a1aeeffae6d1"
      },
      "outputs": [
        {
          "data": {
            "image/png": "[encoded data removed]",
            "text/plain": [
              "<Figure size 640x480 with 1 Axes>"
            ]
          },
          "metadata": {},
          "output_type": "display_data"
        }
      ],
      "source": [
        "plot=plt.boxplot(df1.Funds_in_million)\n",
        "plt.title('box plot-Funds in million')\n",
        "plt.ylabel('Funding raised in Millions')\n",
        "plt.show()"
      ]
    },
    {
      "cell_type": "markdown",
      "metadata": {
        "id": "nAqWbSWx0DTu"
      },
      "source": [
        "Looking at the box plot, reveals the outliers present in the variables. The outliers are treated by dropping them."
      ]
    },
    {
      "cell_type": "markdown",
      "metadata": {
        "id": "Wefrvsq3raBQ"
      },
      "source": [
        "**D. Check the number of outliers greater than the upper fence.**"
      ]
    },
    {
      "cell_type": "code",
      "execution_count": null,
      "metadata": {
        "colab": {
          "base_uri": "https://localhost:8080/"
        },
        "id": "d-NF7FeIrT4T",
        "outputId": "d3ec81c7-1dab-4db0-8afa-0cc7bb19935f"
      },
      "outputs": [
        {
          "data": {
            "text/plain": [
              "22.0"
            ]
          },
          "execution_count": 1034,
          "metadata": {},
          "output_type": "execute_result"
        }
      ],
      "source": [
        "upper_fence=plot['caps'][1].get_data()[1][1] #obtaining the upper fence values from the box plot\n",
        "upper_fence"
      ]
    },
    {
      "cell_type": "code",
      "execution_count": null,
      "metadata": {
        "colab": {
          "base_uri": "https://localhost:8080/"
        },
        "id": "WTMFQSIJv4Iu",
        "outputId": "d1450484-357e-4e40-cc9d-9506189dda9e"
      },
      "outputs": [
        {
          "name": "stdout",
          "output_type": "stream",
          "text": [
            "No.of outliers: 60\n"
          ]
        }
      ],
      "source": [
        " # number of outliers that are greater than the upper fence\n",
        "print('No.of outliers:', len(df1[df1.Funds_in_million > upper_fence]))\n",
        "\n"
      ]
    },
    {
      "cell_type": "code",
      "execution_count": null,
      "metadata": {
        "colab": {
          "base_uri": "https://localhost:8080/"
        },
        "id": "5PUW9DdWZ5SI",
        "outputId": "f0c63acf-012f-453a-926a-bf4a3b2300e9"
      },
      "outputs": [
        {
          "data": {
            "text/plain": [
              "22.569625"
            ]
          },
          "execution_count": 1036,
          "metadata": {},
          "output_type": "execute_result"
        }
      ],
      "source": [
        "Q1= df1['Funds_in_million'].quantile(0.25)\n",
        "Q3= df1['Funds_in_million'].quantile(0.75)\n",
        "IQR= Q3-Q1 #interquartile range\n",
        "lower_fence= Q1-(1.5*IQR)\n",
        "upperwhisker= Q3+(1.5*IQR)\n",
        "upperwhisker"
      ]
    },
    {
      "cell_type": "code",
      "execution_count": null,
      "metadata": {
        "colab": {
          "base_uri": "https://localhost:8080/"
        },
        "id": "mPwoOMBYCUmN",
        "outputId": "f7e4f71f-9018-4f28-ac01-b0d06a36f10f"
      },
      "outputs": [
        {
          "name": "stdout",
          "output_type": "stream",
          "text": [
            "No.of outliers1: 60\n"
          ]
        }
      ],
      "source": [
        "print('No.of outliers1:', len(df1[df1.Funds_in_million > upperwhisker]))"
      ]
    },
    {
      "cell_type": "markdown",
      "metadata": {
        "id": "xJTI8qdX3HmK"
      },
      "source": [
        "**E. Check frequency of the OperatingState features classes.**"
      ]
    },
    {
      "cell_type": "code",
      "execution_count": null,
      "metadata": {
        "id": "fNf6rakT328S"
      },
      "outputs": [],
      "source": [
        "#drop the values that are greater than the upper fence\n",
        "df1.drop(df1[df1.Funds_in_million > upper_fence].index, inplace=True)\n"
      ]
    },
    {
      "cell_type": "code",
      "execution_count": null,
      "metadata": {
        "colab": {
          "base_uri": "https://localhost:8080/"
        },
        "id": "lLOk1ps82WFz",
        "outputId": "9a7a1b14-120e-46a4-c9ed-11f4a4a88881"
      },
      "outputs": [
        {
          "data": {
            "text/plain": [
              "Operating    275\n",
              "Closed        56\n",
              "Acquired      55\n",
              "Name: OperatingState, dtype: int64"
            ]
          },
          "execution_count": 1039,
          "metadata": {},
          "output_type": "execute_result"
        }
      ],
      "source": [
        "df1.OperatingState.value_counts()"
      ]
    },
    {
      "cell_type": "markdown",
      "metadata": {
        "id": "RoGsRHPi5RoC"
      },
      "source": [
        "## **4. Statistical Analysis**\n",
        "\n",
        " **A. Is there any significant difference between Funds raised by companies that are still operating vs companies that closed down?**\n"
      ]
    },
    {
      "cell_type": "code",
      "execution_count": null,
      "metadata": {
        "colab": {
          "base_uri": "https://localhost:8080/"
        },
        "id": "siztMwQ7LlOc",
        "outputId": "80b2607d-5b3e-4081-ab62-aac186f4a455"
      },
      "outputs": [
        {
          "data": {
            "text/plain": [
              "count    386.00000\n",
              "mean       3.72514\n",
              "std        4.73236\n",
              "min        0.00500\n",
              "25%        0.60000\n",
              "50%        1.70000\n",
              "75%        5.00000\n",
              "max       22.00000\n",
              "Name: Funds_in_million, dtype: float64"
            ]
          },
          "execution_count": 1040,
          "metadata": {},
          "output_type": "execute_result"
        }
      ],
      "source": [
        "# To predict the null and alternative hypothesis on funds in million column obtain the mean and SD\n",
        "df1.Funds_in_million.describe()"
      ]
    },
    {
      "cell_type": "markdown",
      "metadata": {
        "id": "6B36tttk0-yf"
      },
      "source": [
        "From descriptive statistics on funds in million. It is noticed that 75%  of the companies have less than 5million funds raised. The data is still heavily skewed."
      ]
    },
    {
      "cell_type": "code",
      "execution_count": null,
      "metadata": {
        "colab": {
          "base_uri": "https://localhost:8080/",
          "height": 663
        },
        "id": "dbEn_AgvMquR",
        "outputId": "200c9198-b4ef-40c9-eef3-cbbdba79f4d8"
      },
      "outputs": [
        {
          "name": "stderr",
          "output_type": "stream",
          "text": [
            "<ipython-input-1041-7ff1782450a6>:1: UserWarning: \n",
            "\n",
            "`distplot` is a deprecated function and will be removed in seaborn v0.14.0.\n",
            "\n",
            "Please adapt your code to use either `displot` (a figure-level function with\n",
            "similar flexibility) or `histplot` (an axes-level function for histograms).\n",
            "\n",
            "For a guide to updating your code to use the new functions, please see\n",
            "https://gist.github.com/mwaskom/de44147ed2974457ad6372750bbe5751\n",
            "\n",
            "  sns.distplot(df1['Funds_in_million'], kde=True)\n"
          ]
        },
        {
          "data": {
            "image/png": "[encoded data removed]",
            "text/plain": [
              "<Figure size 640x480 with 1 Axes>"
            ]
          },
          "metadata": {},
          "output_type": "display_data"
        }
      ],
      "source": [
        "sns.distplot(df1['Funds_in_million'], kde=True)\n",
        "plt.xlabel('Funds in million')\n",
        "plt.ylabel('Density')\n",
        "plt.title('Funds raised by all companies ')\n",
        "plt.show()"
      ]
    },
    {
      "cell_type": "code",
      "execution_count": null,
      "metadata": {
        "colab": {
          "base_uri": "https://localhost:8080/",
          "height": 854
        },
        "id": "TMbN4KZl5Omm",
        "outputId": "fd7ed939-a33d-4087-9908-0d567ce24a12"
      },
      "outputs": [
        {
          "name": "stderr",
          "output_type": "stream",
          "text": [
            "<ipython-input-1042-78c580a5e837>:2: UserWarning: \n",
            "\n",
            "`distplot` is a deprecated function and will be removed in seaborn v0.14.0.\n",
            "\n",
            "Please adapt your code to use either `displot` (a figure-level function with\n",
            "similar flexibility) or `histplot` (an axes-level function for histograms).\n",
            "\n",
            "For a guide to updating your code to use the new functions, please see\n",
            "https://gist.github.com/mwaskom/de44147ed2974457ad6372750bbe5751\n",
            "\n",
            "  sns.distplot(df1[df1['OperatingState']=='Operating']['Funds_in_million'],label='Operating', kde=True)\n",
            "<ipython-input-1042-78c580a5e837>:3: UserWarning: \n",
            "\n",
            "`distplot` is a deprecated function and will be removed in seaborn v0.14.0.\n",
            "\n",
            "Please adapt your code to use either `displot` (a figure-level function with\n",
            "similar flexibility) or `histplot` (an axes-level function for histograms).\n",
            "\n",
            "For a guide to updating your code to use the new functions, please see\n",
            "https://gist.github.com/mwaskom/de44147ed2974457ad6372750bbe5751\n",
            "\n",
            "  sns.distplot(df1[df1['OperatingState']=='Closed']['Funds_in_million'],label='Closed', kde=True)\n"
          ]
        },
        {
          "data": {
            "image/png": "[encoded data removed]",
            "text/plain": [
              "<Figure size 640x480 with 1 Axes>"
            ]
          },
          "metadata": {},
          "output_type": "display_data"
        }
      ],
      "source": [
        "# from displot the significant difference can be addressed.\n",
        "sns.distplot(df1[df1['OperatingState']=='Operating']['Funds_in_million'],label='Operating', kde=True)\n",
        "sns.distplot(df1[df1['OperatingState']=='Closed']['Funds_in_million'],label='Closed', kde=True)\n",
        "plt.xlabel('Funds in million')\n",
        "plt.ylabel('Density')\n",
        "plt.title('Funds raised by companies that are still operating vs companies that closed down')\n",
        "plt.legend()\n",
        "plt.show()\n"
      ]
    },
    {
      "cell_type": "markdown",
      "metadata": {
        "id": "DBZ6eco61oAy"
      },
      "source": [
        "Visually looking at the plot there is no much difference in mean and variance. They look quite similar.\n",
        "\n",
        "To prove the significant difference, hypothesis testing has to be performed and since it has 2-sample indep sets, we can use ztest or t-test will use t-test.\n",
        "\n",
        "The sample is greater than 30.\n",
        "\n",
        "The hpothesis is that H0: The means are same, there is no difference\n",
        "H1: The means are significantly different."
      ]
    },
    {
      "cell_type": "markdown",
      "metadata": {
        "id": "lAuplcLPLhwG"
      },
      "source": [
        "**4B. Write the null hypothesis and alternative hypothesis.**\n",
        "\n",
        "**4c.Test for significance and conclusion**"
      ]
    },
    {
      "cell_type": "code",
      "execution_count": null,
      "metadata": {
        "colab": {
          "base_uri": "https://localhost:8080/"
        },
        "id": "iHbL1FGjMDFl",
        "outputId": "53cf2284-aa9b-46b3-dc9a-220b222e0370"
      },
      "outputs": [
        {
          "name": "stdout",
          "output_type": "stream",
          "text": [
            "pvalue: {0.193}\n",
            "alpha: 0.05\n",
            "p-value is greatar than alpha and we fail to reject the null hypothesis. It is not significant\n"
          ]
        }
      ],
      "source": [
        "# since 2 independent samples, 2-sample t-test can be used, with unequal variance\n",
        "import scipy.stats as stats\n",
        "from scipy.stats import ttest_ind\n",
        "\n",
        "#define samples\n",
        "sample1= df1.loc[df1.OperatingState =='Operating', 'Funds_in_million']\n",
        "sample2= df1.loc[df1.OperatingState =='Closed', 'Funds_in_million']\n",
        "\n",
        "alpha=0.05 #significance level at 5%\n",
        "\n",
        "#pvalue calculation for 2-ind samples\n",
        "\n",
        "test_statistic, p_value=ttest_ind(sample1, sample2)\n",
        "print('pvalue:', {round(p_value, 3)})\n",
        "print('alpha:', alpha)\n",
        "if p_value <= alpha:\n",
        "   print('p-value is less than alpha and we reject the null hypothesis. It is significant')\n",
        "else:\n",
        "   print('p-value is greatar than alpha and we fail to reject the null hypothesis. It is not significant')\n"
      ]
    },
    {
      "cell_type": "markdown",
      "metadata": {
        "id": "eRPKAHKp3FQp"
      },
      "source": [
        "The test concludes that the company that raised the funds have no evidence succeed more."
      ]
    },
    {
      "cell_type": "markdown",
      "metadata": {
        "id": "xBYNq9cdUrOo"
      },
      "source": [
        "**4D. Make a copy of the original data frame.**"
      ]
    },
    {
      "cell_type": "code",
      "execution_count": null,
      "metadata": {
        "colab": {
          "base_uri": "https://localhost:8080/",
          "height": 423
        },
        "id": "Pl6v3QDnUSOd",
        "outputId": "8646610e-b91d-47c6-90d7-eb7da9add1dd"
      },
      "outputs": [
        {
          "data": {
            "application/vnd.google.colaboratory.intrinsic+json": {
              "summary": "{\n  \"name\": \"df3\",\n  \"rows\": 662,\n  \"fields\": [\n    {\n      \"column\": \"Startup\",\n      \"properties\": {\n        \"dtype\": \"string\",\n        \"num_unique_values\": 662,\n        \"samples\": [\n          \"Madbrook\",\n          \"Tonara\",\n          \"Sealtale\"\n        ],\n        \"semantic_type\": \"\",\n        \"description\": \"\"\n      }\n    },\n    {\n      \"column\": \"Product\",\n      \"properties\": {\n        \"dtype\": \"string\",\n        \"num_unique_values\": 656,\n        \"samples\": [\n          \"floored.com\",\n          \"instantapi.com\",\n          \"chompon.com\"\n        ],\n        \"semantic_type\": \"\",\n        \"description\": \"\"\n      }\n    },\n    {\n      \"column\": \"Funding\",\n      \"properties\": {\n        \"dtype\": \"category\",\n        \"num_unique_values\": 240,\n        \"samples\": [\n          \"$520K\",\n          \"$17.9K\",\n          \"$35.5M\"\n        ],\n        \"semantic_type\": \"\",\n        \"description\": \"\"\n      }\n    },\n    {\n      \"column\": \"Event\",\n      \"properties\": {\n        \"dtype\": \"category\",\n        \"num_unique_values\": 26,\n        \"samples\": [\n          \"TC50 2008\",\n          \"Disrupt NYC 2010\",\n          \"Disrupt SF 2013\"\n        ],\n        \"semantic_type\": \"\",\n        \"description\": \"\"\n      }\n    },\n    {\n      \"column\": \"Result\",\n      \"properties\": {\n        \"dtype\": \"category\",\n        \"num_unique_values\": 5,\n        \"samples\": [\n          \"Audience choice\",\n          \"Runner up\",\n          \"Finalist\"\n        ],\n        \"semantic_type\": \"\",\n        \"description\": \"\"\n      }\n    },\n    {\n      \"column\": \"OperatingState\",\n      \"properties\": {\n        \"dtype\": \"category\",\n        \"num_unique_values\": 4,\n        \"samples\": [\n          \"Closed\",\n          \"Ipo\",\n          \"Operating\"\n        ],\n        \"semantic_type\": \"\",\n        \"description\": \"\"\n      }\n    }\n  ]\n}",
              "type": "dataframe",
              "variable_name": "df3"
            },
            "text/html": [
              "\n",
              "  <div id=\"df-efc7a531-efd5-4d1d-badb-a8bd0edae665\" class=\"colab-df-container\">\n",
              "    <div>\n",
              "<style scoped>\n",
              "    .dataframe tbody tr th:only-of-type {\n",
              "        vertical-align: middle;\n",
              "    }\n",
              "\n",
              "    .dataframe tbody tr th {\n",
              "        vertical-align: top;\n",
              "    }\n",
              "\n",
              "    .dataframe thead th {\n",
              "        text-align: right;\n",
              "    }\n",
              "</style>\n",
              "<table border=\"1\" class=\"dataframe\">\n",
              "  <thead>\n",
              "    <tr style=\"text-align: right;\">\n",
              "      <th></th>\n",
              "      <th>Startup</th>\n",
              "      <th>Product</th>\n",
              "      <th>Funding</th>\n",
              "      <th>Event</th>\n",
              "      <th>Result</th>\n",
              "      <th>OperatingState</th>\n",
              "    </tr>\n",
              "  </thead>\n",
              "  <tbody>\n",
              "    <tr>\n",
              "      <th>0</th>\n",
              "      <td>2600Hz</td>\n",
              "      <td>2600hz.com</td>\n",
              "      <td>NaN</td>\n",
              "      <td>Disrupt SF 2013</td>\n",
              "      <td>Contestant</td>\n",
              "      <td>Operating</td>\n",
              "    </tr>\n",
              "    <tr>\n",
              "      <th>1</th>\n",
              "      <td>3DLT</td>\n",
              "      <td>3dlt.com</td>\n",
              "      <td>$630K</td>\n",
              "      <td>Disrupt NYC 2013</td>\n",
              "      <td>Contestant</td>\n",
              "      <td>Closed</td>\n",
              "    </tr>\n",
              "    <tr>\n",
              "      <th>2</th>\n",
              "      <td>3DPrinterOS</td>\n",
              "      <td>3dprinteros.com</td>\n",
              "      <td>NaN</td>\n",
              "      <td>Disrupt SF 2016</td>\n",
              "      <td>Contestant</td>\n",
              "      <td>Operating</td>\n",
              "    </tr>\n",
              "    <tr>\n",
              "      <th>3</th>\n",
              "      <td>3Dprintler</td>\n",
              "      <td>3dprintler.com</td>\n",
              "      <td>$1M</td>\n",
              "      <td>Disrupt NY 2016</td>\n",
              "      <td>Audience choice</td>\n",
              "      <td>Operating</td>\n",
              "    </tr>\n",
              "    <tr>\n",
              "      <th>4</th>\n",
              "      <td>42 Technologies</td>\n",
              "      <td>42technologies.com</td>\n",
              "      <td>NaN</td>\n",
              "      <td>Disrupt NYC 2013</td>\n",
              "      <td>Contestant</td>\n",
              "      <td>Operating</td>\n",
              "    </tr>\n",
              "    <tr>\n",
              "      <th>...</th>\n",
              "      <td>...</td>\n",
              "      <td>...</td>\n",
              "      <td>...</td>\n",
              "      <td>...</td>\n",
              "      <td>...</td>\n",
              "      <td>...</td>\n",
              "    </tr>\n",
              "    <tr>\n",
              "      <th>657</th>\n",
              "      <td>Zivity</td>\n",
              "      <td>zivity.com</td>\n",
              "      <td>$8M</td>\n",
              "      <td>TC40 2007</td>\n",
              "      <td>Contestant</td>\n",
              "      <td>Operating</td>\n",
              "    </tr>\n",
              "    <tr>\n",
              "      <th>658</th>\n",
              "      <td>Zmorph</td>\n",
              "      <td>zmorph3d.com</td>\n",
              "      <td>$1M</td>\n",
              "      <td>-</td>\n",
              "      <td>Audience choice</td>\n",
              "      <td>Operating</td>\n",
              "    </tr>\n",
              "    <tr>\n",
              "      <th>659</th>\n",
              "      <td>Zocdoc</td>\n",
              "      <td>zocdoc.com</td>\n",
              "      <td>$223M</td>\n",
              "      <td>TC40 2007</td>\n",
              "      <td>Contestant</td>\n",
              "      <td>Operating</td>\n",
              "    </tr>\n",
              "    <tr>\n",
              "      <th>660</th>\n",
              "      <td>Zula</td>\n",
              "      <td>zulaapp.com</td>\n",
              "      <td>$3.4M</td>\n",
              "      <td>Disrupt SF 2013</td>\n",
              "      <td>Audience choice</td>\n",
              "      <td>Operating</td>\n",
              "    </tr>\n",
              "    <tr>\n",
              "      <th>661</th>\n",
              "      <td>Zumper</td>\n",
              "      <td>zumper.com</td>\n",
              "      <td>$31.5M</td>\n",
              "      <td>Disrupt SF 2012</td>\n",
              "      <td>Finalist</td>\n",
              "      <td>Operating</td>\n",
              "    </tr>\n",
              "  </tbody>\n",
              "</table>\n",
              "<p>662 rows × 6 columns</p>\n",
              "</div>\n",
              "    <div class=\"colab-df-buttons\">\n",
              "\n",
              "  <div class=\"colab-df-container\">\n",
              "    <button class=\"colab-df-convert\" onclick=\"convertToInteractive('df-efc7a531-efd5-4d1d-badb-a8bd0edae665')\"\n",
              "            title=\"Convert this dataframe to an interactive table.\"\n",
              "            style=\"display:none;\">\n",
              "\n",
              "  <svg xmlns=\"http://www.w3.org/2000/svg\" height=\"24px\" viewBox=\"0 -960 960 960\">\n",
              "    <path d=\"M120-120v-720h720v720H120Zm60-500h600v-160H180v160Zm220 220h160v-160H400v160Zm0 220h160v-160H400v160ZM180-400h160v-160H180v160Zm440 0h160v-160H620v160ZM180-180h160v-160H180v160Zm440 0h160v-160H620v160Z\"/>\n",
              "  </svg>\n",
              "    </button>\n",
              "\n",
              "  <style>\n",
              "    .colab-df-container {\n",
              "      display:flex;\n",
              "      gap: 12px;\n",
              "    }\n",
              "\n",
              "    .colab-df-convert {\n",
              "      background-color: #E8F0FE;\n",
              "      border: none;\n",
              "      border-radius: 50%;\n",
              "      cursor: pointer;\n",
              "      display: none;\n",
              "      fill: #1967D2;\n",
              "      height: 32px;\n",
              "      padding: 0 0 0 0;\n",
              "      width: 32px;\n",
              "    }\n",
              "\n",
              "    .colab-df-convert:hover {\n",
              "      background-color: #E2EBFA;\n",
              "      box-shadow: 0px 1px 2px rgba(60, 64, 67, 0.3), 0px 1px 3px 1px rgba(60, 64, 67, 0.15);\n",
              "      fill: #174EA6;\n",
              "    }\n",
              "\n",
              "    .colab-df-buttons div {\n",
              "      margin-bottom: 4px;\n",
              "    }\n",
              "\n",
              "    [theme=dark] .colab-df-convert {\n",
              "      background-color: #3B4455;\n",
              "      fill: #D2E3FC;\n",
              "    }\n",
              "\n",
              "    [theme=dark] .colab-df-convert:hover {\n",
              "      background-color: #434B5C;\n",
              "      box-shadow: 0px 1px 3px 1px rgba(0, 0, 0, 0.15);\n",
              "      filter: drop-shadow(0px 1px 2px rgba(0, 0, 0, 0.3));\n",
              "      fill: #FFFFFF;\n",
              "    }\n",
              "  </style>\n",
              "\n",
              "    <script>\n",
              "      const buttonEl =\n",
              "        document.querySelector('#df-efc7a531-efd5-4d1d-badb-a8bd0edae665 button.colab-df-convert');\n",
              "      buttonEl.style.display =\n",
              "        google.colab.kernel.accessAllowed ? 'block' : 'none';\n",
              "\n",
              "      async function convertToInteractive(key) {\n",
              "        const element = document.querySelector('#df-efc7a531-efd5-4d1d-badb-a8bd0edae665');\n",
              "        const dataTable =\n",
              "          await google.colab.kernel.invokeFunction('convertToInteractive',\n",
              "                                                    [key], {});\n",
              "        if (!dataTable) return;\n",
              "\n",
              "        const docLinkHtml = 'Like what you see? Visit the ' +\n",
              "          '<a target=\"_blank\" href=https://colab.research.google.com/notebooks/data_table.ipynb>data table notebook</a>'\n",
              "          + ' to learn more about interactive tables.';\n",
              "        element.innerHTML = '';\n",
              "        dataTable['output_type'] = 'display_data';\n",
              "        await google.colab.output.renderOutput(dataTable, element);\n",
              "        const docLink = document.createElement('div');\n",
              "        docLink.innerHTML = docLinkHtml;\n",
              "        element.appendChild(docLink);\n",
              "      }\n",
              "    </script>\n",
              "  </div>\n",
              "\n",
              "\n",
              "<div id=\"df-01c4c6a9-28e1-484a-a9bb-64a094344bb0\">\n",
              "  <button class=\"colab-df-quickchart\" onclick=\"quickchart('df-01c4c6a9-28e1-484a-a9bb-64a094344bb0')\"\n",
              "            title=\"Suggest charts\"\n",
              "            style=\"display:none;\">\n",
              "\n",
              "<svg xmlns=\"http://www.w3.org/2000/svg\" height=\"24px\"viewBox=\"0 0 24 24\"\n",
              "     width=\"24px\">\n",
              "    <g>\n",
              "        <path d=\"M19 3H5c-1.1 0-2 .9-2 2v14c0 1.1.9 2 2 2h14c1.1 0 2-.9 2-2V5c0-1.1-.9-2-2-2zM9 17H7v-7h2v7zm4 0h-2V7h2v10zm4 0h-2v-4h2v4z\"/>\n",
              "    </g>\n",
              "</svg>\n",
              "  </button>\n",
              "\n",
              "<style>\n",
              "  .colab-df-quickchart {\n",
              "      --bg-color: #E8F0FE;\n",
              "      --fill-color: #1967D2;\n",
              "      --hover-bg-color: #E2EBFA;\n",
              "      --hover-fill-color: #174EA6;\n",
              "      --disabled-fill-color: #AAA;\n",
              "      --disabled-bg-color: #DDD;\n",
              "  }\n",
              "\n",
              "  [theme=dark] .colab-df-quickchart {\n",
              "      --bg-color: #3B4455;\n",
              "      --fill-color: #D2E3FC;\n",
              "      --hover-bg-color: #434B5C;\n",
              "      --hover-fill-color: #FFFFFF;\n",
              "      --disabled-bg-color: #3B4455;\n",
              "      --disabled-fill-color: #666;\n",
              "  }\n",
              "\n",
              "  .colab-df-quickchart {\n",
              "    background-color: var(--bg-color);\n",
              "    border: none;\n",
              "    border-radius: 50%;\n",
              "    cursor: pointer;\n",
              "    display: none;\n",
              "    fill: var(--fill-color);\n",
              "    height: 32px;\n",
              "    padding: 0;\n",
              "    width: 32px;\n",
              "  }\n",
              "\n",
              "  .colab-df-quickchart:hover {\n",
              "    background-color: var(--hover-bg-color);\n",
              "    box-shadow: 0 1px 2px rgba(60, 64, 67, 0.3), 0 1px 3px 1px rgba(60, 64, 67, 0.15);\n",
              "    fill: var(--button-hover-fill-color);\n",
              "  }\n",
              "\n",
              "  .colab-df-quickchart-complete:disabled,\n",
              "  .colab-df-quickchart-complete:disabled:hover {\n",
              "    background-color: var(--disabled-bg-color);\n",
              "    fill: var(--disabled-fill-color);\n",
              "    box-shadow: none;\n",
              "  }\n",
              "\n",
              "  .colab-df-spinner {\n",
              "    border: 2px solid var(--fill-color);\n",
              "    border-color: transparent;\n",
              "    border-bottom-color: var(--fill-color);\n",
              "    animation:\n",
              "      spin 1s steps(1) infinite;\n",
              "  }\n",
              "\n",
              "  @keyframes spin {\n",
              "    0% {\n",
              "      border-color: transparent;\n",
              "      border-bottom-color: var(--fill-color);\n",
              "      border-left-color: var(--fill-color);\n",
              "    }\n",
              "    20% {\n",
              "      border-color: transparent;\n",
              "      border-left-color: var(--fill-color);\n",
              "      border-top-color: var(--fill-color);\n",
              "    }\n",
              "    30% {\n",
              "      border-color: transparent;\n",
              "      border-left-color: var(--fill-color);\n",
              "      border-top-color: var(--fill-color);\n",
              "      border-right-color: var(--fill-color);\n",
              "    }\n",
              "    40% {\n",
              "      border-color: transparent;\n",
              "      border-right-color: var(--fill-color);\n",
              "      border-top-color: var(--fill-color);\n",
              "    }\n",
              "    60% {\n",
              "      border-color: transparent;\n",
              "      border-right-color: var(--fill-color);\n",
              "    }\n",
              "    80% {\n",
              "      border-color: transparent;\n",
              "      border-right-color: var(--fill-color);\n",
              "      border-bottom-color: var(--fill-color);\n",
              "    }\n",
              "    90% {\n",
              "      border-color: transparent;\n",
              "      border-bottom-color: var(--fill-color);\n",
              "    }\n",
              "  }\n",
              "</style>\n",
              "\n",
              "  <script>\n",
              "    async function quickchart(key) {\n",
              "      const quickchartButtonEl =\n",
              "        document.querySelector('#' + key + ' button');\n",
              "      quickchartButtonEl.disabled = true;  // To prevent multiple clicks.\n",
              "      quickchartButtonEl.classList.add('colab-df-spinner');\n",
              "      try {\n",
              "        const charts = await google.colab.kernel.invokeFunction(\n",
              "            'suggestCharts', [key], {});\n",
              "      } catch (error) {\n",
              "        console.error('Error during call to suggestCharts:', error);\n",
              "      }\n",
              "      quickchartButtonEl.classList.remove('colab-df-spinner');\n",
              "      quickchartButtonEl.classList.add('colab-df-quickchart-complete');\n",
              "    }\n",
              "    (() => {\n",
              "      let quickchartButtonEl =\n",
              "        document.querySelector('#df-01c4c6a9-28e1-484a-a9bb-64a094344bb0 button');\n",
              "      quickchartButtonEl.style.display =\n",
              "        google.colab.kernel.accessAllowed ? 'block' : 'none';\n",
              "    })();\n",
              "  </script>\n",
              "</div>\n",
              "\n",
              "  <div id=\"id_5fabfe34-9718-4d81-823e-51bc90055c53\">\n",
              "    <style>\n",
              "      .colab-df-generate {\n",
              "        background-color: #E8F0FE;\n",
              "        border: none;\n",
              "        border-radius: 50%;\n",
              "        cursor: pointer;\n",
              "        display: none;\n",
              "        fill: #1967D2;\n",
              "        height: 32px;\n",
              "        padding: 0 0 0 0;\n",
              "        width: 32px;\n",
              "      }\n",
              "\n",
              "      .colab-df-generate:hover {\n",
              "        background-color: #E2EBFA;\n",
              "        box-shadow: 0px 1px 2px rgba(60, 64, 67, 0.3), 0px 1px 3px 1px rgba(60, 64, 67, 0.15);\n",
              "        fill: #174EA6;\n",
              "      }\n",
              "\n",
              "      [theme=dark] .colab-df-generate {\n",
              "        background-color: #3B4455;\n",
              "        fill: #D2E3FC;\n",
              "      }\n",
              "\n",
              "      [theme=dark] .colab-df-generate:hover {\n",
              "        background-color: #434B5C;\n",
              "        box-shadow: 0px 1px 3px 1px rgba(0, 0, 0, 0.15);\n",
              "        filter: drop-shadow(0px 1px 2px rgba(0, 0, 0, 0.3));\n",
              "        fill: #FFFFFF;\n",
              "      }\n",
              "    </style>\n",
              "    <button class=\"colab-df-generate\" onclick=\"generateWithVariable('df3')\"\n",
              "            title=\"Generate code using this dataframe.\"\n",
              "            style=\"display:none;\">\n",
              "\n",
              "  <svg xmlns=\"http://www.w3.org/2000/svg\" height=\"24px\"viewBox=\"0 0 24 24\"\n",
              "       width=\"24px\">\n",
              "    <path d=\"M7,19H8.4L18.45,9,17,7.55,7,17.6ZM5,21V16.75L18.45,3.32a2,2,0,0,1,2.83,0l1.4,1.43a1.91,1.91,0,0,1,.58,1.4,1.91,1.91,0,0,1-.58,1.4L9.25,21ZM18.45,9,17,7.55Zm-12,3A5.31,5.31,0,0,0,4.9,8.1,5.31,5.31,0,0,0,1,6.5,5.31,5.31,0,0,0,4.9,4.9,5.31,5.31,0,0,0,6.5,1,5.31,5.31,0,0,0,8.1,4.9,5.31,5.31,0,0,0,12,6.5,5.46,5.46,0,0,0,6.5,12Z\"/>\n",
              "  </svg>\n",
              "    </button>\n",
              "    <script>\n",
              "      (() => {\n",
              "      const buttonEl =\n",
              "        document.querySelector('#id_5fabfe34-9718-4d81-823e-51bc90055c53 button.colab-df-generate');\n",
              "      buttonEl.style.display =\n",
              "        google.colab.kernel.accessAllowed ? 'block' : 'none';\n",
              "\n",
              "      buttonEl.onclick = () => {\n",
              "        google.colab.notebook.generateWithVariable('df3');\n",
              "      }\n",
              "      })();\n",
              "    </script>\n",
              "  </div>\n",
              "\n",
              "    </div>\n",
              "  </div>\n"
            ],
            "text/plain": [
              "             Startup             Product Funding             Event  \\\n",
              "0             2600Hz          2600hz.com     NaN   Disrupt SF 2013   \n",
              "1               3DLT            3dlt.com   $630K  Disrupt NYC 2013   \n",
              "2        3DPrinterOS     3dprinteros.com     NaN   Disrupt SF 2016   \n",
              "3         3Dprintler      3dprintler.com     $1M   Disrupt NY 2016   \n",
              "4    42 Technologies  42technologies.com     NaN  Disrupt NYC 2013   \n",
              "..               ...                 ...     ...               ...   \n",
              "657           Zivity          zivity.com     $8M         TC40 2007   \n",
              "658           Zmorph        zmorph3d.com     $1M                 -   \n",
              "659           Zocdoc          zocdoc.com   $223M         TC40 2007   \n",
              "660             Zula         zulaapp.com   $3.4M   Disrupt SF 2013   \n",
              "661           Zumper          zumper.com  $31.5M   Disrupt SF 2012   \n",
              "\n",
              "              Result OperatingState  \n",
              "0         Contestant      Operating  \n",
              "1         Contestant         Closed  \n",
              "2         Contestant      Operating  \n",
              "3    Audience choice      Operating  \n",
              "4         Contestant      Operating  \n",
              "..               ...            ...  \n",
              "657       Contestant      Operating  \n",
              "658  Audience choice      Operating  \n",
              "659       Contestant      Operating  \n",
              "660  Audience choice      Operating  \n",
              "661         Finalist      Operating  \n",
              "\n",
              "[662 rows x 6 columns]"
            ]
          },
          "execution_count": 1044,
          "metadata": {},
          "output_type": "execute_result"
        }
      ],
      "source": [
        "df3=data.copy()\n",
        "df3"
      ]
    },
    {
      "cell_type": "markdown",
      "metadata": {
        "id": "rFmQrZ91VOiT"
      },
      "source": [
        "**4E. Check frequency distribution of Result variables.**"
      ]
    },
    {
      "cell_type": "code",
      "execution_count": null,
      "metadata": {
        "colab": {
          "base_uri": "https://localhost:8080/"
        },
        "id": "3fgWRab6Uyga",
        "outputId": "1f06bee9-d1e6-4129-8cf7-ac429d1fdf91"
      },
      "outputs": [
        {
          "data": {
            "text/plain": [
              "Contestant         488\n",
              "Finalist            84\n",
              "Audience choice     41\n",
              "Winner              26\n",
              "Runner up           23\n",
              "Name: Result, dtype: int64"
            ]
          },
          "execution_count": 1045,
          "metadata": {},
          "output_type": "execute_result"
        }
      ],
      "source": [
        "df3.Result.value_counts()"
      ]
    },
    {
      "cell_type": "markdown",
      "metadata": {
        "id": "tHpkYdndVj31"
      },
      "source": [
        "**4F. Calculate percentage of winners that are still operating and percentage of contestants that are still operating**"
      ]
    },
    {
      "cell_type": "code",
      "execution_count": null,
      "metadata": {
        "colab": {
          "base_uri": "https://localhost:8080/"
        },
        "id": "wYAXZVJdVjR6",
        "outputId": "661db576-1048-4491-dd75-28a25b347935"
      },
      "outputs": [
        {
          "name": "stdout",
          "output_type": "stream",
          "text": [
            "174\n",
            "488\n",
            "133\n",
            "332\n",
            "percentage of winners that are still operating is {76.44}\n",
            "percentage of contestant that are still operating is {68.03}\n"
          ]
        }
      ],
      "source": [
        "\n",
        "# finding tot number of winners and contestants seperately\n",
        "tot_winners=df3.Result.value_counts()[1:].sum() # counts winners excluding the first value from Result column\n",
        "tot_contestants=df3.Result.value_counts()['Contestant'] # counts the occurance of contestant in the Result column\n",
        "\n",
        "#counting no. of winners and contestants who are operating\n",
        "\n",
        "win_op=df3.OperatingState[(df3['Result']!='Contestant')].value_counts().loc['Operating'] # counts the rows in OperatingState as operating and Result not equal to Contestant but also counting winners who are still operating\n",
        "con_op=df3.OperatingState[(df3['Result']=='Contestant')].value_counts().loc['Operating'] # counts the rows in OperatingState as operating and Result equal Contestant\n",
        "\n",
        "#percentage of winner and contestant operating\n",
        "winn_per= (win_op/tot_winners)*100 #percentage of winners\n",
        "cont_per=(con_op/tot_contestants)*100 #percentage of contestants\n",
        "\n",
        "print(tot_winners)\n",
        "print(tot_contestants)\n",
        "\n",
        "print(win_op)\n",
        "print(con_op)\n",
        "print('percentage of winners that are still operating is', {round(winn_per,2)} )\n",
        "print('percentage of contestant that are still operating is', {round(cont_per,2)})"
      ]
    },
    {
      "cell_type": "markdown",
      "metadata": {
        "id": "IDCMlHyF3xbJ"
      },
      "source": [
        "There is a significant difference in operational companies in two categories. How siginificant difference it is can be done using Z-test or Chi-test\n",
        "\n",
        "\n",
        "here Null(H0): The prop of companies operating is the same in two categories- winners, contestants.\n",
        "\n",
        "Alternative(H1): The prop of companies operating is not the same in two categories"
      ]
    },
    {
      "cell_type": "markdown",
      "metadata": {
        "id": "iebkRENynlZw"
      },
      "source": [
        "**4G.Write your hypothesis comparing the proportion of companies that are operating between winners and contestants:**\n",
        "\n",
        "**4H.Test for significance and conclusion**"
      ]
    },
    {
      "cell_type": "code",
      "execution_count": null,
      "metadata": {
        "colab": {
          "base_uri": "https://localhost:8080/"
        },
        "id": "yQnzHRU2j6bE",
        "outputId": "e1bf0ca5-9850-4e0b-ba89-9a1e342b6851"
      },
      "outputs": [
        {
          "name": "stdout",
          "output_type": "stream",
          "text": [
            "pvalue: {0.037}\n",
            "alpha: 0.05\n",
            "p-value is less than alpha and we reject the null hypothesis. It is significant\n"
          ]
        }
      ],
      "source": [
        "#for proportionality use proportions_ztest\n",
        "\n",
        "from statsmodels.stats.proportion import proportions_ztest\n",
        "statistic,pval= proportions_ztest([win_op, con_op],[tot_winners, tot_contestants])\n",
        "print('pvalue:', {round(pval, 3)})\n",
        "print('alpha:', alpha)\n",
        "if pval <= alpha:\n",
        "   print('p-value is less than alpha and we reject the null hypothesis. It is significant')\n",
        "else:\n",
        "   print('p-value is greatar than alpha and we fail to reject the null hypothesis. It is not significant')"
      ]
    },
    {
      "cell_type": "code",
      "execution_count": null,
      "metadata": {
        "colab": {
          "base_uri": "https://localhost:8080/"
        },
        "id": "nK461jL9aOPD",
        "outputId": "9be95680-f621-42cf-b262-a329c1187dd9"
      },
      "outputs": [
        {
          "name": "stdout",
          "output_type": "stream",
          "text": [
            "pvalue: {0.037}\n",
            "p-value is less than alpha and we reject the null hypothesis. It is significant\n"
          ]
        }
      ],
      "source": [
        "# A chi-square test is an appropriate way of observing distribution which are of categorical type\n",
        "from scipy.stats import chi2_contingency\n",
        "\n",
        "#contigency table setup\n",
        "observed=[[win_op,con_op], [tot_winners-win_op, tot_contestants-con_op]]\n",
        "\n",
        "#chisquare testing\n",
        "chi2, pval,dof,exp_freq=chi2_contingency(observed, correction=False)\n",
        "alpha=0.05 # level of significance\n",
        "print('pvalue:', {round(pval, 3)})\n",
        "if pval <= alpha:\n",
        "   print('p-value is less than alpha and we reject the null hypothesis. It is significant')\n",
        "else:\n",
        "   print('p-value is greatar than alpha and we fail to reject the null hypothesis. It is not significant')"
      ]
    },
    {
      "cell_type": "markdown",
      "metadata": {
        "id": "J5BPFHKuxj6N"
      },
      "source": [
        "**4I. Select only the Event that has ‘disrupt’ keyword from 2013 onwards.**"
      ]
    },
    {
      "cell_type": "markdown",
      "metadata": {
        "id": "GoxPV0x7yiyF"
      },
      "source": [
        "To pick a targeted word \"disrupt\" keyword from the row and from 2013 onwards\n",
        "1. write the targeted word\n",
        "2. use lambda function to select the targeted word and year from event column. lambda is applied to each row in the dataframe."
      ]
    },
    {
      "cell_type": "code",
      "execution_count": null,
      "metadata": {
        "colab": {
          "base_uri": "https://localhost:8080/"
        },
        "id": "R_LqYk3DuYRx",
        "outputId": "20d11234-3b05-4691-f777-7175bcd7fdfa"
      },
      "outputs": [
        {
          "name": "stdout",
          "output_type": "stream",
          "text": [
            "1         Disrupt NYC 2013\n",
            "3          Disrupt NY 2016\n",
            "13         Disrupt SF 2015\n",
            "14     Disrupt London 2016\n",
            "16         Disrupt SF 2015\n",
            "              ...         \n",
            "635        Disrupt NY 2015\n",
            "641       Disrupt NYC 2013\n",
            "642        Disrupt SF 2014\n",
            "646    Disrupt London 2015\n",
            "660        Disrupt SF 2013\n",
            "Name: Event, Length: 185, dtype: object\n"
          ]
        }
      ],
      "source": [
        "# extracting disrupt word and disrupt word with year greater than 2012 onwards\n",
        "Target_word=df1[df1.apply(lambda x: 'disrupt' in x['Event'].lower() and int(x['Event'][-4:])>  2012, axis=True)]\n",
        "print(Target_word['Event'])\n"
      ]
    },
    {
      "cell_type": "code",
      "execution_count": null,
      "metadata": {
        "colab": {
          "base_uri": "https://localhost:8080/"
        },
        "id": "nVzeTemb6lZs",
        "outputId": "0f0dcccc-adb4-41bd-d1c1-4c226f5efe09"
      },
      "outputs": [
        {
          "data": {
            "text/plain": [
              "291       Disrupt NYC 2013\n",
              "144        Disrupt SF 2015\n",
              "16         Disrupt SF 2015\n",
              "55         Disrupt NY 2016\n",
              "328        Disrupt SF 2014\n",
              "71         Disrupt NY 2016\n",
              "52         Disrupt SF 2014\n",
              "613    Disrupt London 2015\n",
              "468        Disrupt NY 2016\n",
              "14     Disrupt London 2016\n",
              "608        Disrupt SF 2014\n",
              "368        Disrupt NY 2015\n",
              "53         Disrupt SF 2013\n",
              "633        Disrupt NY 2015\n",
              "150       Disrupt NYC 2013\n",
              "Name: Event, dtype: object"
            ]
          },
          "execution_count": 1050,
          "metadata": {},
          "output_type": "execute_result"
        }
      ],
      "source": [
        "#random checking of 15 samples of target word disrupt with year\n",
        "Target_word['Event'].sample(15)"
      ]
    },
    {
      "cell_type": "markdown",
      "metadata": {
        "id": "Q8rEYvlwcq3U"
      },
      "source": [
        "## **Thank you**\n",
        "\n",
        "\n",
        "\n",
        "\n"
      ]
    }
  ],
  "metadata": {
    "colab": {
      "provenance": [],
      "include_colab_link": true
    },
    "kernelspec": {
      "display_name": "Python 3 (ipykernel)",
      "language": "python",
      "name": "python3"
    },
    "language_info": {
      "codemirror_mode": {
        "name": "ipython",
        "version": 3
      },
      "file_extension": ".py",
      "mimetype": "text/x-python",
      "name": "python",
      "nbconvert_exporter": "python",
      "pygments_lexer": "ipython3",
      "version": "3.11.5"
    }
  },
  "nbformat": 4,
  "nbformat_minor": 0
}